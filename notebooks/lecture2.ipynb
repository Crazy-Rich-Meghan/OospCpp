{
 "cells": [
  {
   "cell_type": "markdown",
   "id": "876d5165",
   "metadata": {
    "slideshow": {
     "slide_type": "slide"
    }
   },
   "source": [
    "# Object-oriented scientific programming with C++\n",
    "\n",
    "Matthias Möller, Jonas Thies (Numerical Analysis, DIAM)\n",
    "\n",
    "Lecture 2"
   ]
  },
  {
   "cell_type": "markdown",
   "id": "fe6d3fd8",
   "metadata": {
    "slideshow": {
     "slide_type": "slide"
    }
   },
   "source": [
    "<h1><center>Argument passing – by value</center></h1>\n",
    "<ul>\n",
    "    <li> Arguments are passed by <span style=\"color:red;\">value</span> (C++ default behaviour)\n",
    "    </li>\n",
    "</ul>"
   ]
  },
  {
   "cell_type": "code",
   "execution_count": null,
   "id": "b38c82d7",
   "metadata": {
    "slideshow": {
     "slide_type": "fragment"
    }
   },
   "outputs": [],
   "source": [
    "int i = 1;// first  variable i=1// second variable j=2 (i=1 still)\n",
    "int j = addOne(i);\n",
    "int addOne(int a)// third variable a (=copy of i)\n",
    "{\n",
    "return a+1;// increment a by one and copy result\n",
    "    // to variable j on return\n",
    "}"
   ]
  },
  {
   "cell_type": "markdown",
   "id": "c67cb119",
   "metadata": {
    "slideshow": {
     "slide_type": "fragment"
    }
   },
   "source": [
    "<ul>\n",
    "    <li>Think big! Do you want to copy gigabytes of data?\n",
    "    </li>\n",
    "</ul>"
   ]
  },
  {
   "cell_type": "markdown",
   "id": "e66cda92",
   "metadata": {
    "slideshow": {
     "slide_type": "fragment"
    }
   },
   "source": [
    "<ul>\n",
    "    <li>Think big! Do you want to copy gigabytes of data?\n",
    "    </li>\n",
    "</ul>"
   ]
  },
  {
   "cell_type": "markdown",
   "id": "e3b53c2a",
   "metadata": {
    "slideshow": {
     "slide_type": "subslide"
    }
   },
   "source": [
    "<h1><center>Argument passing – by reference</center></h1>\n",
    "<ul>\n",
    "    <li>Arguments can be passed <span style=\"color:red;\"> by reference</span>\n",
    "    </li>\n",
    "</ul>"
   ]
  },
  {
   "cell_type": "code",
   "execution_count": null,
   "id": "f811b35b",
   "metadata": {
    "slideshow": {
     "slide_type": "fragment"
    }
   },
   "outputs": [],
   "source": [
    "int i = 1;// first variable  i=1\n",
    "int j = addOne(i);// second variable j=2 (i=1 still)\n",
    "int addOne(int& a)// a is reference to first variable\n",
    "{\n",
    "return a+1;// copy result of a+1\n",
    "            // to variable j on return\n",
    "}"
   ]
  },
  {
   "cell_type": "markdown",
   "id": "f016a245",
   "metadata": {
    "slideshow": {
     "slide_type": "fragment"
    }
   },
   "source": [
    "<ul>\n",
    "    <li>Think big! Fine, we saved <i>one</i> copy.\n",
    "    </li>\n",
    "    <li>Think fail-safe! What if addOne tries to hijack a(=i)?\n",
    "    </li>\n",
    "</ul>"
   ]
  },
  {
   "cell_type": "markdown",
   "id": "6e86626f",
   "metadata": {
    "slideshow": {
     "slide_type": "subslide"
    }
   },
   "source": [
    "<h1><center>Argument passing – by address</center></h1>\n",
    "<ul>\n",
    "    <li>Passing by <span style=\"color:red;\"> address</span>\n",
    "    </li>\n",
    "</ul>"
   ]
  },
  {
   "cell_type": "code",
   "execution_count": null,
   "id": "47110ea1",
   "metadata": {
    "slideshow": {
     "slide_type": "fragment"
    }
   },
   "outputs": [],
   "source": [
    "int i = 1; // first variable i=1\n",
    "int j = addOne(&i); // second variable j=2 (i=1 still)\n",
    "int addOne(int* a) // address of variable a\n",
    "{\n",
    "return *a+1; // copy result of a+1\n",
    "// to variable j on return\n",
    "}"
   ]
  },
  {
   "cell_type": "markdown",
   "id": "c2fc953c",
   "metadata": {
    "slideshow": {
     "slide_type": "slide"
    }
   },
   "source": [
    "<h1><center>Passing arguments</center></h1>\n",
    "<ul>\n",
    "    <li>Example: Compute the sum of the entries of an array\n",
    "    </li>\n",
    "</ul>"
   ]
  },
  {
   "cell_type": "code",
   "execution_count": null,
   "id": "1916afc0",
   "metadata": {
    "slideshow": {
     "slide_type": "fragment"
    }
   },
   "outputs": [],
   "source": [
    "double sum(const int* array, int length)\n",
    "{\n",
    "double s = 0;\n",
    "for (auto i=0; i<length; i++)\n",
    "s += array[i];\n",
    "return s;\n",
    "}\n",
    "int array[5] = { 1, 2, 3, 4, 5 };\n",
    "std::cout << sum(array, 5) << std::endl;"
   ]
  },
  {
   "cell_type": "markdown",
   "id": "7a869830",
   "metadata": {
    "slideshow": {
     "slide_type": "slide"
    }
   },
   "source": [
    "<img src='plots/doublepointer.png' width=\"700px\">"
   ]
  },
  {
   "cell_type": "markdown",
   "id": "fb411c5a",
   "metadata": {
    "slideshow": {
     "slide_type": "subslide"
    }
   },
   "source": [
    "<h1><center>Passing arguments</center></h1>\n",
    "<ul>\n",
    "    <li>Example: Compute the sum of the entries of an array\n",
    "    </li>\n",
    "</ul>"
   ]
  },
  {
   "cell_type": "markdown",
   "id": "59398614",
   "metadata": {
    "slideshow": {
     "slide_type": "slide"
    }
   },
   "source": [
    "<h1><center>Task: Dot product</center></h1>\n",
    "Write a $\\mathrm{C}++$ code that computes the dot product\n",
    "$$\n",
    "a \\cdot b=\\sum_{i=1}^n a_i b_i\n",
    "$$\n",
    "of two vectors $a=\\left[a_1, a_2, \\ldots, a_n\\right]$ and $b=\\left[b_1, b_2, \\ldots, b_n\\right]$ and terminates if the two vectors have different length."
   ]
  },
  {
   "cell_type": "markdown",
   "id": "00de1935",
   "metadata": {
    "slideshow": {
     "slide_type": "subslide"
    }
   },
   "source": [
    "<h1><center>Dot product function</center></h1>\n",
    "<ul>\n",
    "<li>The main functionality without any fail-safe checks\n",
    "</li>\n",
    "</ul>"
   ]
  },
  {
   "cell_type": "code",
   "execution_count": null,
   "id": "d8492157",
   "metadata": {
    "slideshow": {
     "slide_type": "fragment"
    }
   },
   "outputs": [],
   "source": [
    "double dot_product(const double* a, int n,\n",
    "const double* b, int m)\n",
    "{\n",
    "double d=0.0;\n",
    "for (auto i=0; i<n; i++)\n",
    "d += a[i]*b[i];\n",
    "return d;\n",
    "}"
   ]
  },
  {
   "cell_type": "markdown",
   "id": "49f9e302",
   "metadata": {
    "slideshow": {
     "slide_type": "slide"
    }
   },
   "source": [
    "<h1><center>C++ Assert</center></h1>\n",
    "<ul>\n",
    "<li>C++ provides a general solution to ensure that prerequisite\n",
    "conditions are satisfied and to gracefully exit otherwise\n",
    "</li>\n",
    "</ul>\n",
    "<code>#include &ltcassert>\n",
    "double dot_product(const double* a, int n, \n",
    "                   const double* b, int m)\n",
    "{\n",
    "assert(n==m); // gracefully exit if n != m\n",
    "    ...       // compute dot product\n",
    "}\n",
    "</code>\n",
    "\n",
    "<ul>\n",
    "<li>Interface: <code>void assert(int expression)</code>\n",
    "</li>\n",
    "</ul>"
   ]
  },
  {
   "cell_type": "markdown",
   "id": "7121be83",
   "metadata": {
    "slideshow": {
     "slide_type": "subslide"
    }
   },
   "source": [
    "<h1><center>C++ Assert</center></h1>\n",
    "<ul>\n",
    "<li>All assert checks can be <span style=\"color:red;\">disabled explicitly</span> by defining\n",
    "NDEBUG <b>before</b> the inclusion of the <code>cassert</code> header file\n",
    "</ul>\n",
    "<code><span style=\"color:red;\">#define NDEBUG</span>\n",
    "#include &ltcassert>\n",
    "double dot_product(const double* a, int n, const double* b, int m)\n",
    "{\n",
    "    assert(n==m); // gracefully exit if n != m\n",
    "...               // compute dot product\n",
    "                  // compute dot product\n",
    "}\n",
    "</code>\n",
    "\n",
    "<ul>\n",
    "<li>C++ assert can be very helpful for debugging but it should\n",
    "not be used as a general check for prerequisites!\n",
    "</li>\n",
    "</ul>"
   ]
  },
  {
   "cell_type": "markdown",
   "id": "ba9ee7b9",
   "metadata": {
    "slideshow": {
     "slide_type": "slide"
    }
   },
   "source": [
    "<h1><center>C++ Exceptions</center></h1>\n",
    "<ul>\n",
    "<li> <b>Exceptions</b> are a more elegant way to handle failures\n",
    "    </li>\n",
    "<li> Exceptions allow the user to react on failures instead of just\n",
    "gracefully exiting the program\n",
    "    </li>\n",
    "</ul>\n",
    "\n",
    "<code>\n",
    "#include &ltexception>\n",
    "double dot_product(const double* a, int n, const double* b, int m)\n",
    "{\n",
    "if(n!=m) throw “Vectors have different size“;\n",
    "...\n",
    "}\n",
    "</code>"
   ]
  },
  {
   "cell_type": "markdown",
   "id": "28a5c870",
   "metadata": {
    "slideshow": {
     "slide_type": "subslide"
    }
   },
   "source": [
    "<h1><center>C++ Exceptions</center></h1>\n",
    "<ul>\n",
    "<li> Call functions that throw exceptions in a <b>try-catch-block</b>\n",
    "    </li>\n",
    "<li> Exceptions allow the user to react on failures instead of just\n",
    "gracefully exiting the program\n",
    "    </li>\n",
    "</ul>\n",
    "\n",
    "<code>#include &ltexception>\n",
    "try\n",
    "{\n",
    "    dot_product(x, 5, y, 5); // can throw exception\n",
    "} catch (const char* msg)\n",
    "{\n",
    "    // This will be done if exception is thrown\n",
    "        std::cerr &lt< msg &lt< std::endl;\n",
    "}\n",
    "</code>"
   ]
  },
  {
   "cell_type": "markdown",
   "id": "1e969759",
   "metadata": {
    "slideshow": {
     "slide_type": "subslide"
    }
   },
   "source": [
    "<h1><center>C++ Exceptions</center></h1>\n",
    "<ul>\n",
    "<li> Exception is caught (with appropriate failure handling)\n",
    "    </li>\n",
    "</ul>"
   ]
  },
  {
   "cell_type": "code",
   "execution_count": null,
   "id": "24b8d65d",
   "metadata": {
    "slideshow": {
     "slide_type": "fragment"
    }
   },
   "outputs": [],
   "source": [
    "#include <exception>\n",
    "try\n",
    "{\n",
    "dot_product(x, 5, y, 4); // will throw exception\n",
    "} catch (const char* msg)\n",
    "{\n",
    "// This will be done if exception is thrown\n",
    "std::cerr << msg << std::endl;\n",
    "}\n"
   ]
  },
  {
   "cell_type": "markdown",
   "id": "6bfb7f00",
   "metadata": {
    "slideshow": {
     "slide_type": "slide"
    }
   },
   "source": [
    "<h1><center>Dot product improved</center></h1>\n",
    "<ul>\n",
    "<li>  First version of the dot product with exception\n",
    "    </li>\n",
    "</ul>"
   ]
  },
  {
   "cell_type": "code",
   "execution_count": null,
   "id": "77d96a85",
   "metadata": {
    "slideshow": {
     "slide_type": "fragment"
    }
   },
   "outputs": [],
   "source": [
    "#include <exception>\n",
    "double dot_product(const double* a, int n,\n",
    "const double* b, int m)\n",
    "{\n",
    "if(n!=m) throw “Vectors have different length“;\n",
    "double d=0;\n",
    "for (auto i=0; i<n; i++)\n",
    "d += a[i]*b[i];\n",
    "return d;\n",
    "}"
   ]
  },
  {
   "cell_type": "markdown",
   "id": "44599ad0",
   "metadata": {
    "slideshow": {
     "slide_type": "subslide"
    }
   },
   "source": [
    "<h1><center>Dot product improved</center></h1>\n",
    "<ul>\n",
    "<li>  First version of the dot product is still not fully fail-safe\n",
    "    </li>\n",
    "</ul>"
   ]
  },
  {
   "cell_type": "code",
   "execution_count": null,
   "id": "5ec7279b",
   "metadata": {
    "slideshow": {
     "slide_type": "fragment"
    }
   },
   "outputs": [],
   "source": [
    "int main()\n",
    "{\n",
    "double x[5] = { 1, 2, 3, 4, 5 };\n",
    "double y[4] = { 1, 2, 3, 4 };\n",
    "try {\n",
    "double d=dot_product(x, 5, y, 5);\n",
    "} catch (const char* msg) {\n",
    "std::cerr << msg << std::endl;\n",
    "}\n",
    "}"
   ]
  },
  {
   "cell_type": "markdown",
   "id": "b8e06e52",
   "metadata": {
    "slideshow": {
     "slide_type": "fragment"
    }
   },
   "source": [
    "<ul>\n",
    "<li>  It would be much better if x and y „know“ their length!\n",
    "    </li>\n",
    "</ul>"
   ]
  },
  {
   "cell_type": "markdown",
   "id": "5a0bb6d1",
   "metadata": {
    "slideshow": {
     "slide_type": "slide"
    }
   },
   "source": [
    "<h1><center>Object Oriented Programming</center></h1>\n",
    "<ul>\n",
    "<li>  Main idea of OOP is to bundle data (e.g. array) and\n",
    "functionality (e.g. length) into a <b>struct</b> or <b>class</b>\n",
    "    </li>\n",
    " <li> Components of a <span style = \"color:red;\">struct</span> are public (=can be accessed from\n",
    "outside the struct) by default\n",
    "     </li>\n",
    " <li> Components of a <span style = \"color:red;\">class</span> are private (=cannot be accessed\n",
    "from outside the class) by default\n",
    "     </li>\n",
    " <li> Components of a struct/class are <span style = \"color:red;\">attributes</span> and <span style = \"color:red;\">member\n",
    "functions (=methods)</span>\n",
    "     </li>\n",
    "</ul>"
   ]
  },
  {
   "cell_type": "markdown",
   "id": "cb3fdc9a",
   "metadata": {
    "slideshow": {
     "slide_type": "slide"
    }
   },
   "source": [
    "<h1><center>Class vs. struct</center></h1>\n",
    "<div class=\"left\", style=\"width:50%;height:90%; float:left;\">\n",
    "    <code>struct Vector\n",
    "        {\n",
    "        <span style=\"color:red;\">public:\n",
    "                //defalut</span>\n",
    "                double* array;\n",
    "                int length;\n",
    "        <span style=\"color:red;\">private:</span>\n",
    "        };</code>\n",
    "</div>\n",
    "\n",
    "<div class=\"right\", style=\"width:50%;height:90%; float:right;\">\n",
    "        <code>class Vector{\n",
    "                    <span style=\"color:red;\">private:\n",
    "                           //default\n",
    "                    public：</span>\n",
    "                          double* array;\n",
    "                          int length;\n",
    "            };</code>\n",
    "</div>"
   ]
  },
  {
   "cell_type": "markdown",
   "id": "5fb04b49",
   "metadata": {
    "slideshow": {
     "slide_type": "slide"
    }
   },
   "source": [
    "<h1><center>Dot product with Vector</center></h1>\n",
    "<ul>\n",
    "<li> Second version of the dot product using Vector class or struct\n",
    "    </li>\n",
    "</ul>"
   ]
  },
  {
   "cell_type": "code",
   "execution_count": null,
   "id": "637fbc76",
   "metadata": {
    "slideshow": {
     "slide_type": "fragment"
    }
   },
   "outputs": [],
   "source": [
    "#include <exception>\n",
    "double dot_product(const Vector& a, const Vector& b)\n",
    "{\n",
    "if(a.length!=b.length) throw “Vectors have ...“;\n",
    "double d=0.0;\n",
    "for (auto i=0; i<a.length; i++)\n",
    "d += a.array[i]*b.array[i];\n",
    "return d;\n",
    "}\n"
   ]
  },
  {
   "cell_type": "markdown",
   "id": "9065c92c",
   "metadata": {
    "slideshow": {
     "slide_type": "fragment"
    }
   },
   "source": [
    "<ul>\n",
    "<li> Access of members of a struct/class by <b>dot-notation („.“)</b>\n",
    "    </li>\n",
    "</ul>"
   ]
  },
  {
   "cell_type": "markdown",
   "id": "d48538f3",
   "metadata": {
    "slideshow": {
     "slide_type": "subslide"
    }
   },
   "source": [
    "<h1><center>Dot product with Vector</center></h1>"
   ]
  },
  {
   "cell_type": "code",
   "execution_count": null,
   "id": "8d394c98",
   "metadata": {
    "slideshow": {
     "slide_type": "fragment"
    }
   },
   "outputs": [],
   "source": [
    "int main()\n",
    "{\n",
    "Vector x,y;\n",
    "x.array = new double[5] {1,2,3,4,5}; x.length = 5;\n",
    "y.array = new double[5] {1,2,3,4,5}; y.length = 5;\n",
    "try {\n",
    "double d = dot_product(x, y);\n",
    "} catch (const char* msg) {\n",
    "std::cerr << msg << std::endl;\n",
    "}\n",
    "delete[] x.array; x.length = 0;\n",
    "delete[] y.array; y.length = 0;\n",
    "}"
   ]
  },
  {
   "cell_type": "markdown",
   "id": "412bd54a",
   "metadata": {
    "slideshow": {
     "slide_type": "subslide"
    }
   },
   "source": [
    "<h1><center>Dot product with Vector</center></h1>\n",
    "<ul>\n",
    "<li> It is still possible to initialise x.length by the wrong value\n",
    "    </li>\n",
    "    <p><code>x.array = new double[5] {1,2,3,4,5}; x.length = 4;</code></p>\n",
    " <li>The main function is not very readable due to the lengthy\n",
    "declaration, initialisation and deletion of data\n",
    "     </li>\n",
    "    <li>OOP solution:\n",
    "        </li>\n",
    "    <ul>\n",
    "        <li>-<b>Constructor(s):</b> <span style=\"color:red;\">method</span> to construct a new <span style=\"color:red;\">Vector object</span>\n",
    "            </li>\n",
    "        <li>-<b>Destructor:</b> <span style=\"color:red;\">method</span> to destruct an existing <span style=\"color:red;\">Vector object</span>\n",
    "            </li>\n",
    "        </ul>\n",
    "</ul>"
   ]
  },
  {
   "cell_type": "markdown",
   "id": "276ae022",
   "metadata": {
    "slideshow": {
     "slide_type": "slide"
    }
   },
   "source": [
    "<h1><center>Constructor</center></h1>\n",
    "<ul>\n",
    "<li> The <b>constructor</b> is called each time a new Vector object\n",
    "(=instance of the class Vector) is created\n",
    "    </li>\n",
    "</ul>"
   ]
  },
  {
   "cell_type": "code",
   "execution_count": null,
   "id": "7783126e",
   "metadata": {
    "slideshow": {
     "slide_type": "fragment"
    }
   },
   "outputs": [],
   "source": [
    "class Vector\n",
    "{\n",
    "Vector() // Default constructor\n",
    "{\n",
    "array = nullptr;\n",
    "length = 0;\n",
    "}\n",
    "};"
   ]
  },
  {
   "cell_type": "markdown",
   "id": "9c7a6db1",
   "metadata": {
    "slideshow": {
     "slide_type": "fragment"
    }
   },
   "source": [
    "<ul>\n",
    "<li> Try what happens if you leave array uninitialised and call\n",
    "the destructor (see later slide) \n",
    "    </li>\n",
    "</ul>"
   ]
  },
  {
   "cell_type": "markdown",
   "id": "ba2b6b0e",
   "metadata": {
    "slideshow": {
     "slide_type": "subslide"
    }
   },
   "source": [
    "<h1><center>Constructor</center></h1>\n",
    "<ul>\n",
    "<li> A class can have <b>multiple constructors</b> if they have a\n",
    "different interface (=different parameters)\n",
    "    </li>\n",
    "</ul>"
   ]
  },
  {
   "cell_type": "code",
   "execution_count": null,
   "id": "0a655a26",
   "metadata": {
    "slideshow": {
     "slide_type": "fragment"
    }
   },
   "outputs": [],
   "source": [
    "class Vector\n",
    "{\n",
    "    // Constructor\n",
    "    Vector(int len)\n",
    "    {\n",
    "        array = new double[len];\n",
    "        length = len;\n",
    "    }\n",
    "};"
   ]
  },
  {
   "cell_type": "markdown",
   "id": "1ef93da1",
   "metadata": {
    "slideshow": {
     "slide_type": "subslide"
    }
   },
   "source": [
    "<h1><center>Constructor</center></h1>\n",
    "<ul>\n",
    "<li> What if a parameter has the same name as an attribute?\n",
    "    </li>\n",
    "</ul>"
   ]
  },
  {
   "cell_type": "code",
   "execution_count": null,
   "id": "4034efd6",
   "metadata": {
    "slideshow": {
     "slide_type": "fragment"
    }
   },
   "outputs": [],
   "source": [
    "class Vector\n",
    "{\n",
    "    Vector(int length)\n",
    "    {\n",
    "        array = new double[length];\n",
    "        // this pointer refers to the object itself,\n",
    "        // hence this->length is the attribute and length\n",
    "        // is the parameter passed to the constructor\n",
    "        this->length = length;\n",
    "    }\n",
    "}; "
   ]
  },
  {
   "cell_type": "markdown",
   "id": "5708f6a6",
   "metadata": {
    "slideshow": {
     "slide_type": "slide"
    }
   },
   "source": [
    "<h1><center>Destructor</center></h1>\n",
    "<ul>\n",
    "<li> The <b>destructor</b> is called implicitly at the end of the lifetime\n",
    "of a Vector object, e.g., at the end of its scope\n",
    "    </li>\n",
    "</ul>"
   ]
  },
  {
   "cell_type": "code",
   "execution_count": null,
   "id": "ae4c1e5d",
   "metadata": {
    "slideshow": {
     "slide_type": "fragment"
    }
   },
   "outputs": [],
   "source": [
    "class Vector\n",
    "{\n",
    "    // Destructor (and there can be only one!)\n",
    "    ~Vector()\n",
    "    {\n",
    "        delete[] array;\n",
    "        length = 0;\n",
    "    }\n",
    "};"
   ]
  },
  {
   "cell_type": "markdown",
   "id": "4133f84f",
   "metadata": {
    "slideshow": {
     "slide_type": "subslide"
    }
   },
   "source": [
    "<h1><center>Constructor/destructor</center></h1>\n"
   ]
  },
  {
   "cell_type": "code",
   "execution_count": null,
   "id": "a88d1766",
   "metadata": {
    "slideshow": {
     "slide_type": "fragment"
    }
   },
   "outputs": [],
   "source": [
    "int main()\n",
    "{\n",
    "    Vector x; // Default constructor is called\n",
    "    {\n",
    "        Vector y(5); // Constructor is called\n",
    "        // Destructor is called for Vector y\n",
    "    }\n",
    "    // Destructor is called for Vector x\n",
    "}"
   ]
  },
  {
   "cell_type": "markdown",
   "id": "df44d6af",
   "metadata": {
    "slideshow": {
     "slide_type": "fragment"
    }
   },
   "source": [
    "<ul>\n",
    "<li> Without <code>array = nullptr</code> in the default constructor the\n",
    "destruction of x will lead to a run-time error. Try it!\n",
    "    </li>\n",
    "</ul>"
   ]
  },
  {
   "cell_type": "markdown",
   "id": "6d3f58c5",
   "metadata": {
    "slideshow": {
     "slide_type": "slide"
    }
   },
   "source": [
    "<h1><center>Uniform initialisation constructors (C++11)</center></h1>"
   ]
  },
  {
   "cell_type": "markdown",
   "id": "cf7475d7",
   "metadata": {
    "slideshow": {
     "slide_type": "fragment"
    }
   },
   "source": [
    "<ul>\n",
    "<li> But now, the handy <b>uniform initialization</b> no longer works\n",
    "    </li>\n",
    "</ul>"
   ]
  },
  {
   "cell_type": "code",
   "execution_count": null,
   "id": "94510678",
   "metadata": {
    "slideshow": {
     "slide_type": "fragment"
    }
   },
   "outputs": [],
   "source": [
    "Vector x(5); // use constructor\n",
    "for (auto i=0; i<x.length; i++)\n",
    "x.array[i] = i;"
   ]
  },
  {
   "cell_type": "markdown",
   "id": "440c487e",
   "metadata": {
    "slideshow": {
     "slide_type": "fragment"
    }
   },
   "source": [
    "<ul>\n",
    "<li> C++11 solution: <b>initializer lists</b> ( <code>&ltinitializer_list>, &ltmemory></code>) \n",
    "    </li>\n",
    "</ul>"
   ]
  },
  {
   "cell_type": "code",
   "execution_count": null,
   "id": "e9ecf2c0",
   "metadata": {
    "slideshow": {
     "slide_type": "fragment"
    }
   },
   "outputs": [],
   "source": [
    "Vector(const std::initializer_list<double>& list)\n",
    "{\n",
    "length = (int)list.size();\n",
    "array = new double[length];\n",
    "std::uninitialized_copy(list.begin(),\n",
    "list.end(), array);\n",
    "}"
   ]
  },
  {
   "cell_type": "markdown",
   "id": "afd5b6f8",
   "metadata": {
    "slideshow": {
     "slide_type": "slide"
    }
   },
   "source": [
    "<h1><center>Dot product – close to perfection</center></h1>\n",
    "<ul>\n",
    "<li> Third version of the dot product using Vector class with\n",
    "<b>uniform initialization constructor</b> (C++11) and exceptions\n",
    "    </li>\n",
    "</ul>"
   ]
  },
  {
   "cell_type": "code",
   "execution_count": null,
   "id": "8f90eeb6",
   "metadata": {
    "slideshow": {
     "slide_type": "fragment"
    }
   },
   "outputs": [],
   "source": [
    "int main()\n",
    "{\n",
    "    Vector x = { 1, 2, 3, 4, 5 };\n",
    "    Vector y = { 2, 4, 6, 8, 10};\n",
    "    try {\n",
    "        double dot_product(x, y);\n",
    "    } catch (const char* msg) {\n",
    "        std::cerr << msg << std::endl;\n",
    "    }\n",
    "}"
   ]
  },
  {
   "cell_type": "markdown",
   "id": "c0b1a899",
   "metadata": {
    "slideshow": {
     "slide_type": "subslide"
    }
   },
   "source": [
    "<h1><center>Delegating constructor (C++11)</center></h1>"
   ]
  },
  {
   "cell_type": "code",
   "execution_count": null,
   "id": "e900f59b",
   "metadata": {
    "slideshow": {
     "slide_type": "fragment"
    }
   },
   "outputs": [],
   "source": [
    "Vector(int length)\n",
    "{\n",
    "    this->length = length;\n",
    "    array = new double[length];\n",
    "}\n",
    "Vector(const std::initializer_list<double>& list)\n",
    "{\n",
    "    length = (int)list.size();\n",
    "    array = new double[length];\n",
    "    std::uninitialized_copy(list.begin(),\n",
    "                            list.end(), array);\n",
    "} "
   ]
  },
  {
   "cell_type": "markdown",
   "id": "310e8ce7",
   "metadata": {
    "slideshow": {
     "slide_type": "subslide"
    }
   },
   "source": [
    "<h1><center>Delegating constructor (C++11)</center></h1>\n",
    "<ul>\n",
    "<li> <b>Delegating constructors</b> delegate part of the work to\n",
    "another constructor of the same or another class\n",
    "    </li>\n",
    "</ul>\n",
    "<code>Vector(int length)\n",
    ": length(length),\n",
    "array(new double[length])\n",
    "{ }</code>\n",
    "<ul>\n",
    "<li> Here, delegation is not really helpful but more a question\n",
    "of coding style (e.g., some programmers use delegation in\n",
    "all situation where this is technically possible)\n",
    "    </li>\n",
    "</ul>"
   ]
  },
  {
   "cell_type": "markdown",
   "id": "00b1fa68",
   "metadata": {
    "slideshow": {
     "slide_type": "subslide"
    }
   },
   "source": [
    "<h1><center>Delegating constructor (C++11)</center></h1>\n",
    "<ul>\n",
    "<li> <b>Delegating constructors</b> delegate part of the work to\n",
    "another constructor of the same or another class\n",
    "    </li>\n",
    "</ul>\n",
    "<code>Vector(int length)\n",
    ": length(length),\n",
    "array(new double[length])\n",
    "{ }</code>\n",
    "<ul>\n",
    "<li> Note: It is no longer necessary to distinguish between the\n",
    "attribute (this->length) and the argument (length) if both\n",
    "have the same name. But be careful with the order in\n",
    "which delegated objects are constructed!\n",
    "</ul>"
   ]
  },
  {
   "cell_type": "markdown",
   "id": "5378508f",
   "metadata": {
    "slideshow": {
     "slide_type": "slide"
    }
   },
   "source": [
    "<h1><center>Quiz: Delegating constructor (C++11)</center></h1>\n",
    "<div class=\"left1\", style=\"width:50%;height:90%; float:left;\">\n",
    "    <ul>\n",
    "    <li><code>Vector(int len)\n",
    "        :length(len),\n",
    "          array(new double[len]){\n",
    "        }</code></li>\n",
    "     <li><code>Vector(int len)\n",
    "        :array(new double[len]),\n",
    "         length(len){\n",
    "        }</code>\n",
    "      </li>\n",
    "     </ul>\n",
    "</div>\n",
    "<div class=\"right1\", style=\"width:50%;height:90%; float:right;\">\n",
    "    <ul>\n",
    "    <li><code>Vector(int len)\n",
    "        :length(len),\n",
    "          array(new double[lengh]){\n",
    "        }</code></li>\n",
    "     <li><code>Vector(int len)\n",
    "        :array(new double[lenth]),\n",
    "         length(len){\n",
    "        }</code>\n",
    "      </li>\n",
    "     </ul>\n",
    "</div>"
   ]
  },
  {
   "cell_type": "markdown",
   "id": "0fd11e67",
   "metadata": {
    "slideshow": {
     "slide_type": "slide"
    }
   },
   "source": [
    "<h1><center>Delegating constructor (C++11)</center></h1>\n",
    "<ul>\n",
    "<li> <b>Delegating constructors</b> delegate part of the work to\n",
    "another constructor of the same or another class\n",
    "    </li>\n",
    "</ul>\n",
    "<code>Vector(const std::initializer_list&ltdouble>& list)\n",
    ": Vector((int)list.size())\n",
    "{\n",
    "    std::uninitialized_copy(list.begin(),\n",
    "                            list.end(), array);\n",
    "}</code>\n",
    "<ul>\n",
    "<li> Here, delegation is really helpful since it reduces duplicate\n",
    "code (assume that new attributes are added to Vector, then\n",
    "only one constructor has to be extended)\n",
    "</ul>\n"
   ]
  },
  {
   "cell_type": "markdown",
   "id": "58ab6c05",
   "metadata": {
    "slideshow": {
     "slide_type": "slide"
    }
   },
   "source": [
    "<h1><center>Function -> member function</center></h1>\n",
    "<ul>\n",
    "<li> Function that computes the sum of a Vector\n",
    "    </li>\n",
    "</ul>\n",
    "<code>double sum(const Vector& a)\n",
    "{\n",
    "    double s = 0;\n",
    "    for (auto i=0; i&lta.length; i++)\n",
    "        s += a.array[i];\n",
    "    return s;\n",
    "}</code>\n",
    "<ul>\n",
    "<li> This is not really OOP-style!</li>\n",
    "</ul>\n",
    "<code>int main()\n",
    "{ Vector x = { 1, 2, 3, 4, 5 };\n",
    "std::cout &lt< sum(x) &lt< std::endl; }</code>\n"
   ]
  },
  {
   "cell_type": "markdown",
   "id": "b6a9be11",
   "metadata": {
    "slideshow": {
     "slide_type": "subslide"
    }
   },
   "source": [
    "<h1><center>Function -> member function</center></h1>\n",
    "<ul>\n",
    "<li> Vector object computes its sum (itself!)\n",
    "    </li>\n",
    "</ul>"
   ]
  },
  {
   "cell_type": "code",
   "execution_count": null,
   "id": "938ea41b",
   "metadata": {
    "slideshow": {
     "slide_type": "fragment"
    }
   },
   "outputs": [],
   "source": [
    "class Vector\n",
    "{\n",
    "    public:\n",
    "        double sum()\n",
    "        {\n",
    "            double s = 0;\n",
    "            for (auto i=0; i<length; i++)\n",
    "                s += array[i];\n",
    "            return s;\n",
    "        }\n",
    "};"
   ]
  },
  {
   "cell_type": "markdown",
   "id": "fe1a3a38",
   "metadata": {
    "slideshow": {
     "slide_type": "subslide"
    }
   },
   "source": [
    "<h1><center>Function -> member function</center></h1>\n",
    "<ul>\n",
    "<li> This is good OOP-style\n",
    "    </li>\n",
    "</ul>"
   ]
  },
  {
   "cell_type": "code",
   "execution_count": null,
   "id": "d02ae278",
   "metadata": {
    "slideshow": {
     "slide_type": "fragment"
    }
   },
   "outputs": [],
   "source": [
    "int main()\n",
    "{\n",
    "    Vector x = {1,2,3};\n",
    "    std::cout << x.sum() << std::endl;\n",
    "}"
   ]
  },
  {
   "cell_type": "markdown",
   "id": "e9e34502",
   "metadata": {
    "slideshow": {
     "slide_type": "fragment"
    }
   },
   "source": [
    "<ul>\n",
    "<li> <i>Recommendation</i>: prefer class/struct member functions\n",
    "over external ones whenever this is possible\n",
    "    </li>\n",
    "<li> Can we implement the dot product as a member function?\n",
    "    </li>\n",
    "</ul>"
   ]
  },
  {
   "cell_type": "markdown",
   "id": "ccf5de20",
   "metadata": {
    "slideshow": {
     "slide_type": "subslide"
    }
   },
   "source": [
    "<h1><center>Function -> member function</center></h1>"
   ]
  },
  {
   "cell_type": "code",
   "execution_count": null,
   "id": "e243ce36",
   "metadata": {
    "slideshow": {
     "slide_type": "fragment"
    }
   },
   "outputs": [],
   "source": [
    "class Vector\n",
    "{\n",
    "    public:\n",
    "        double dot_product(const Vector& other)\n",
    "        {\n",
    "            if(length!=other.length) throw „Vectors have ...“;\n",
    "            double d=0;\n",
    "            for (auto i=0; i<length; i++)\n",
    "                d += array[i]*other.array[i];\n",
    "            return d;\n",
    "        }\n",
    "};"
   ]
  },
  {
   "cell_type": "markdown",
   "id": "a16793a3",
   "metadata": {
    "slideshow": {
     "slide_type": "subslide"
    }
   },
   "source": [
    "<h1><center>Function -> member function</center></h1>\n",
    "<ul>\n",
    "    <li><code>int main()\n",
    "{\n",
    "    Vector x = {1,2,3}; Vector y = {2,4,6};\n",
    "    std::cout &lt< x.dot_product(y) &lt< std::endl;\n",
    "    std::cout &lt< y.dot_product(x) &lt< std::endl;\n",
    "}</code>\n",
    "        </li>\n",
    "    <li>Formally, the dot product is an operation between two\n",
    "Vector objects and not a member function of one Vector\n",
    "object the needs another Vector object for calculation\n",
    "        </li>\n",
    "    </ul>"
   ]
  },
  {
   "cell_type": "markdown",
   "id": "c70addbd",
   "metadata": {
    "slideshow": {
     "slide_type": "slide"
    }
   },
   "source": [
    "<h1><center>Operator overloading</center></h1>\n",
    "<ul>\n",
    "<li>C++ allows to overload (=redefine) the standard operators\n",
    "</li>\n",
    "    <ul>\n",
    "        <li>-Unary operators: ++a, a++, --a, a--, ~a, !a\n",
    "        </li>\n",
    "        <li>-Binary operators: a+b, a-b, a*b, a/b\n",
    "        </li>\n",
    "        <li>-Relational operators: a==b, a!=b, a<b, a<=b, a>b, a>=b\n",
    "        </li>\n",
    "    </ul>\n",
    "</ul>\n",
    "<ul>\n",
    " <li>\n",
    "    Interfaces:</li>\n",
    "</ul>\n",
    "        <code>     &ltreturn_type> operator&ltOP>()                    [const]\n",
    "     &ltreturn_type> operator&ltOP>(const Vector& other)  [const]</code></p>\n",
    " \n",
    "<ul>\n",
    " <li>\n",
    "    Complete list: https://en.cppreference.com/w/cpp/language/operators</li>\n",
    "</ul>"
   ]
  },
  {
   "cell_type": "markdown",
   "id": "257182ca",
   "metadata": {
    "slideshow": {
     "slide_type": "subslide"
    }
   },
   "source": [
    "<h1><center>Operator overloading</center></h1>\n",
    "<ul>\n",
    "<li>Implementation of dot product as <b>overloaded *-operator</b>\n",
    "</li>\n",
    "</ul>"
   ]
  },
  {
   "cell_type": "code",
   "execution_count": null,
   "id": "e2d6abd4",
   "metadata": {
    "slideshow": {
     "slide_type": "fragment"
    }
   },
   "outputs": [],
   "source": [
    "class Vector\n",
    "{\n",
    "public:\n",
    "    double operator*(const Vector& other) const\n",
    "    {\n",
    "        if(length!=other.length) throw “Vectors have ...“;\n",
    "        double d=0;\n",
    "        for (auto i=0; i<length; i++)\n",
    "            d += array[i]*other.array[i];\n",
    "        return d;\n",
    "}"
   ]
  },
  {
   "cell_type": "markdown",
   "id": "d5960faa",
   "metadata": {
    "slideshow": {
     "slide_type": "subslide"
    }
   },
   "source": [
    "<h1><center>Operator overloading</center></h1>"
   ]
  },
  {
   "cell_type": "code",
   "execution_count": null,
   "id": "487a7d37",
   "metadata": {
    "slideshow": {
     "slide_type": "fragment"
    }
   },
   "outputs": [],
   "source": [
    "int main()\n",
    "{\n",
    "    Vector x = {1,2,3}; Vector y = {2,4,6};\n",
    "    std::cout << x*y << std::endl;\n",
    "    std::cout << y*x << std::endl;\n",
    "}"
   ]
  },
  {
   "cell_type": "markdown",
   "id": "fc75eebf",
   "metadata": {
    "slideshow": {
     "slide_type": "fragment"
    }
   },
   "source": [
    "<ul>\n",
    "<li>Now, the dot product is implemented as <b>*-operator</b> that\n",
    "maps two Vector objects to a scalar value\n",
    "</li>\n",
    "</ul>"
   ]
  },
  {
   "cell_type": "markdown",
   "id": "37e996c0",
   "metadata": {
    "slideshow": {
     "slide_type": "slide"
    }
   },
   "source": [
    "<h1><center>Assignment by operator overloading</center></h1>\n",
    "<ul>\n",
    "<li>Implementation of assignment as <b>overloaded =-operator</b>\n",
    "</li>\n",
    "</ul>"
   ]
  },
  {
   "cell_type": "code",
   "execution_count": null,
   "id": "7cc69a63",
   "metadata": {
    "slideshow": {
     "slide_type": "fragment"
    }
   },
   "outputs": [],
   "source": [
    "Vector& operator=(Vector& other)\n",
    "{\n",
    "    if(this != &other)\n",
    "    {\n",
    "        // Exchange resources between *this and other\n",
    "        swap(other);\n",
    "    }\n",
    "    return *this;\n",
    "}   // destructor of other is called to release resources\n",
    "    // formerly held by *this"
   ]
  },
  {
   "cell_type": "markdown",
   "id": "82de67f9",
   "metadata": {
    "slideshow": {
     "slide_type": "fragment"
    }
   },
   "source": [
    "<ul>\n",
    "<li>Note that the „<code>this</code> “ pointer is modified (no trailing <code>const</code> !)\n",
    "</li>\n",
    "</ul>"
   ]
  },
  {
   "cell_type": "markdown",
   "id": "220d1c2e",
   "metadata": {
    "slideshow": {
     "slide_type": "slide"
    }
   },
   "source": [
    "<h1><center>Assignment by operator overloading</center></h1>\n",
    "<ul>\n",
    "<li>Implementation of assignment as <b>overloaded =-operator</b>\n",
    "</li>\n",
    "</ul>"
   ]
  },
  {
   "cell_type": "code",
   "execution_count": null,
   "id": "24acd239",
   "metadata": {
    "slideshow": {
     "slide_type": "fragment"
    }
   },
   "outputs": [],
   "source": [
    "Vector& operator+=(const Vector& other)\n",
    "{\n",
    "    if(length!=other.length) throw „Vectors have ...“;\n",
    "    for (auto i=0; i<length; i++)\n",
    "        array[i] += other.array[i];\n",
    "    return *this;\n",
    "}"
   ]
  },
  {
   "cell_type": "code",
   "execution_count": null,
   "id": "1fd16fec",
   "metadata": {
    "slideshow": {
     "slide_type": "fragment"
    }
   },
   "outputs": [],
   "source": [
    "# <ul>\n",
    "# <li>Implementation of assignment as <b>overloaded =-operator</b>\n",
    "# </li>\n",
    "# </ul>"
   ]
  },
  {
   "cell_type": "code",
   "execution_count": null,
   "id": "7eeb4e17",
   "metadata": {},
   "outputs": [],
   "source": []
  },
  {
   "cell_type": "code",
   "execution_count": null,
   "id": "bd7aba32",
   "metadata": {},
   "outputs": [],
   "source": []
  }
 ],
 "metadata": {
  "celltoolbar": "Slideshow",
  "kernelspec": {
   "display_name": "Python 3 (ipykernel)",
   "language": "python",
   "name": "python3"
  },
  "language_info": {
   "codemirror_mode": {
    "name": "ipython",
    "version": 3
   },
   "file_extension": ".py",
   "mimetype": "text/x-python",
   "name": "python",
   "nbconvert_exporter": "python",
   "pygments_lexer": "ipython3",
   "version": "3.11.0"
  }
 },
 "nbformat": 4,
 "nbformat_minor": 5
}
