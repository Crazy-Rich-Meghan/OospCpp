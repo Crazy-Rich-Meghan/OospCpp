{
 "cells": [
  {
   "cell_type": "markdown",
   "id": "876d5165",
   "metadata": {
    "slideshow": {
     "slide_type": "slide"
    }
   },
   "source": [
    "# Object-oriented scientific programming with C++\n",
    "\n",
    "Matthias Möller, Jonas Thies (Numerical Analysis, DIAM)\n",
    "\n",
    "Lecture 2"
   ]
  },
  {
   "cell_type": "markdown",
   "id": "59398614",
   "metadata": {
    "slideshow": {
     "slide_type": "slide"
    }
   },
   "source": [
    "<h1><center>Task: Dot product</center></h1>\n",
    "Write a $\\mathrm{C}++$ code that computes the dot product\n",
    "$$\n",
    "a \\cdot b=\\sum_{i=1}^n a_i b_i\n",
    "$$\n",
    "of two vectors $a=\\left[a_1, a_2, \\ldots, a_n\\right]$ and $b=\\left[b_1, b_2, \\ldots, b_n\\right]$ and terminates if the two vectors have different length."
   ]
  },
  {
   "cell_type": "markdown",
   "id": "00de1935",
   "metadata": {
    "slideshow": {
     "slide_type": "subslide"
    }
   },
   "source": [
    "<h1><center>Dot product function</center></h1>\n",
    "<ul>\n",
    "<li>The main functionality without any fail-safe checks\n",
    "</li>\n",
    "</ul>"
   ]
  },
  {
   "cell_type": "code",
   "execution_count": null,
   "id": "d8492157",
   "metadata": {
    "slideshow": {
     "slide_type": "fragment"
    }
   },
   "outputs": [],
   "source": [
    "double dot_product(const double* a, int n,\n",
    "const double* b, int m)\n",
    "{\n",
    "double d=0.0;\n",
    "for (auto i=0; i<n; i++)\n",
    "d += a[i]*b[i];\n",
    "return d;\n",
    "}"
   ]
  },
  {
   "cell_type": "markdown",
   "id": "6bfb7f00",
   "metadata": {
    "slideshow": {
     "slide_type": "slide"
    }
   },
   "source": [
    "<h1><center>Dot product improved</center></h1>\n",
    "<ul>\n",
    "<li>  First version of the dot product with exception\n",
    "    </li>\n",
    "</ul>"
   ]
  },
  {
   "cell_type": "code",
   "execution_count": null,
   "id": "77d96a85",
   "metadata": {
    "slideshow": {
     "slide_type": "fragment"
    }
   },
   "outputs": [],
   "source": [
    "#include <exception>\n",
    "double dot_product(const double* a, int n,\n",
    "const double* b, int m)\n",
    "{\n",
    "if(n!=m) throw “Vectors have different length“;\n",
    "double d=0;\n",
    "for (auto i=0; i<n; i++)\n",
    "d += a[i]*b[i];\n",
    "return d;\n",
    "}"
   ]
  },
  {
   "cell_type": "markdown",
   "id": "44599ad0",
   "metadata": {
    "slideshow": {
     "slide_type": "subslide"
    }
   },
   "source": [
    "<h1><center>Dot product improved</center></h1>\n",
    "<ul>\n",
    "<li>  First version of the dot product is still not fully fail-safe\n",
    "    </li>\n",
    "</ul>"
   ]
  },
  {
   "cell_type": "code",
   "execution_count": null,
   "id": "5ec7279b",
   "metadata": {
    "slideshow": {
     "slide_type": "fragment"
    }
   },
   "outputs": [],
   "source": [
    "int main()\n",
    "{\n",
    "double x[5] = { 1, 2, 3, 4, 5 };\n",
    "double y[4] = { 1, 2, 3, 4 };\n",
    "try {\n",
    "double d=dot_product(x, 5, y, 5);\n",
    "} catch (const char* msg) {\n",
    "std::cerr << msg << std::endl;\n",
    "}\n",
    "}"
   ]
  },
  {
   "cell_type": "markdown",
   "id": "b8e06e52",
   "metadata": {
    "slideshow": {
     "slide_type": "fragment"
    }
   },
   "source": [
    "<ul>\n",
    "<li>  It would be much better if x and y „know“ their length!\n",
    "    </li>\n",
    "</ul>"
   ]
  },
  {
   "cell_type": "markdown",
   "id": "ac26729d",
   "metadata": {
    "slideshow": {
     "slide_type": "slide"
    }
   },
   "source": [
    "<h1><center>Cool! But what was the reason I enrolled this course?</center></h1>\n",
    "<center><img src='plots/flashback.png' width=\"400px\"></center>"
   ]
  },
  {
   "cell_type": "markdown",
   "id": "5a0bb6d1",
   "metadata": {
    "slideshow": {
     "slide_type": "slide"
    }
   },
   "source": [
    "<h1><center>Flashback: Object Oriented Programming</center></h1>\n",
    "<p>Imagine each LEGO block as a piece of data (like an integer, string, etc.). A <code>struct</code> or a <code>class</code> is like a LEGO set that contains a variety of different blocks.</p>\n",
    "<ul>\n",
    "<li>  Main idea of OOP is to bundle data (e.g. array) and\n",
    "functionality (e.g. length) into a <b>struct</b> or <b>class</b>\n",
    "    </li>\n",
    " <li> Components of a <span style = \"color:red;\">struct</span> are public (=can be accessed from\n",
    "outside the struct) by default\n",
    "     </li>\n",
    " <li> Components of a <span style = \"color:red;\">class</span> are private (=cannot be accessed\n",
    "from outside the class) by default\n",
    "     </li>\n",
    " <li> Components of a struct/class are <span style = \"color:red;\">attributes</span> and <span style = \"color:red;\">member\n",
    "functions (=methods)</span>\n",
    "     </li>\n",
    "</ul>"
   ]
  },
  {
   "cell_type": "markdown",
   "id": "cb3fdc9a",
   "metadata": {
    "slideshow": {
     "slide_type": "slide"
    }
   },
   "source": [
    "<h1><center>Class v.s struct</center></h1>\n",
    "<div class=\"left\", style=\"width:50%;height:65%; float:left;\">\n",
    "    <code>struct Vector{\n",
    "        <span style=\"color:red;\">public://defalut</span>\n",
    "                double* array;\n",
    "                int length;\n",
    "        <span style=\"color:red;\">private:</span>\n",
    "        };</code>\n",
    "</div>\n",
    "<div class=\"right\", style=\"width:50%;height:65%; float:right;\">\n",
    "        <code>class Vector{\n",
    "            <span style=\"color:red;\">private://default\n",
    "                public：</span>\n",
    "                      double* array;\n",
    "                      int length;\n",
    "            };</code>\n",
    "</div>"
   ]
  },
  {
   "cell_type": "markdown",
   "id": "25f6d0fa",
   "metadata": {
    "slideshow": {
     "slide_type": "subslide"
    }
   },
   "source": [
    "<h1><center>Class v.s struct</center></h1>\n",
    "<p><b>When to use <code>class</code> and when to use <code>struct</code>?</b></p>\n",
    "<ul><li><code>struct</code> is typically used when you want to group data together without needing to restrict access to it. It’s straightforward and simple.\n",
    "    </li>\n",
    "    <li> <code>class</code> is typically used when you want more control over the data and the interface through which it is accessed and manipulated, promoting the principles of encapsulation and data hiding.\n",
    "        </li>\n",
    "    </ul>"
   ]
  },
  {
   "cell_type": "markdown",
   "id": "5fb04b49",
   "metadata": {
    "slideshow": {
     "slide_type": "slide"
    }
   },
   "source": [
    "<h1><center>Dot product with Vector</center></h1>\n",
    "<ul>\n",
    "<li> Second version of the dot product using Vector class or struct\n",
    "    </li>\n",
    "</ul>"
   ]
  },
  {
   "cell_type": "code",
   "execution_count": null,
   "id": "637fbc76",
   "metadata": {
    "slideshow": {
     "slide_type": "fragment"
    }
   },
   "outputs": [],
   "source": [
    "#include <exception>\n",
    "double dot_product(const Vector& a, const Vector& b)\n",
    "{\n",
    "if(a.length!=b.length) throw “Vectors have ...“;\n",
    "double d=0.0;\n",
    "for (auto i=0; i<a.length; i++)\n",
    "d += a.array[i]*b.array[i];\n",
    "return d;\n",
    "}\n"
   ]
  },
  {
   "cell_type": "markdown",
   "id": "9065c92c",
   "metadata": {
    "slideshow": {
     "slide_type": "fragment"
    }
   },
   "source": [
    "<ul>\n",
    "<li> Access of members of a struct/class by <b>dot-notation („.“)</b>\n",
    "    </li>\n",
    "</ul>"
   ]
  },
  {
   "cell_type": "markdown",
   "id": "d48538f3",
   "metadata": {
    "slideshow": {
     "slide_type": "subslide"
    }
   },
   "source": [
    "<h1><center>Dot product with Vector</center></h1>"
   ]
  },
  {
   "cell_type": "code",
   "execution_count": null,
   "id": "8d394c98",
   "metadata": {
    "slideshow": {
     "slide_type": "fragment"
    }
   },
   "outputs": [],
   "source": [
    "int main()\n",
    "{\n",
    "Vector x,y;\n",
    "x.array = new double[5] {1,2,3,4,5}; x.length = 5;\n",
    "y.array = new double[5] {1,2,3,4,5}; y.length = 5;\n",
    "try {\n",
    "double d = dot_product(x, y);\n",
    "} catch (const char* msg) {\n",
    "std::cerr << msg << std::endl;\n",
    "}\n",
    "delete[] x.array; x.length = 0;\n",
    "delete[] y.array; y.length = 0;\n",
    "}"
   ]
  },
  {
   "cell_type": "markdown",
   "id": "412bd54a",
   "metadata": {
    "slideshow": {
     "slide_type": "subslide"
    }
   },
   "source": [
    "<h1><center>Dot product with Vector</center></h1>\n",
    "<ul>\n",
    "<li> It is still possible to initialise x.length by the wrong value\n",
    "    </li>\n",
    "    <p><code>x.array = new double[5] {1,2,3,4,5}; x.length = 4;</code></p>\n",
    " <li>The main function is not very readable due to the lengthy\n",
    "declaration, initialisation and deletion of data\n",
    "     </li>\n",
    "    <li>OOP solution:\n",
    "        </li>\n",
    "    <ul>\n",
    "        <li>-<b>Constructor(s):</b> <span style=\"color:red;\">method</span> to construct a new <span style=\"color:red;\">Vector object</span>\n",
    "            </li>\n",
    "        <li>-<b>Destructor:</b> <span style=\"color:red;\">method</span> to destruct an existing <span style=\"color:red;\">Vector object</span>\n",
    "            </li>\n",
    "        </ul>\n",
    "</ul>"
   ]
  },
  {
   "cell_type": "markdown",
   "id": "276ae022",
   "metadata": {
    "slideshow": {
     "slide_type": "slide"
    }
   },
   "source": [
    "<h1><center>Constructor</center></h1>\n",
    "<ul>\n",
    "<li> The <b>constructor</b> is called each time a new Vector object\n",
    "(=instance of the class Vector) is created\n",
    "    </li>\n",
    "</ul>"
   ]
  },
  {
   "cell_type": "code",
   "execution_count": null,
   "id": "7783126e",
   "metadata": {
    "slideshow": {
     "slide_type": "fragment"
    }
   },
   "outputs": [],
   "source": [
    "class Vector\n",
    "{\n",
    "Vector() // Default constructor\n",
    "{\n",
    "array = nullptr;\n",
    "length = 0;\n",
    "}\n",
    "};"
   ]
  },
  {
   "cell_type": "markdown",
   "id": "9c7a6db1",
   "metadata": {
    "slideshow": {
     "slide_type": "fragment"
    }
   },
   "source": [
    "<ul>\n",
    "<li> Try what happens if you leave array uninitialised and call\n",
    "the destructor (see later slide) \n",
    "    </li>\n",
    "</ul>"
   ]
  },
  {
   "cell_type": "markdown",
   "id": "ba2b6b0e",
   "metadata": {
    "slideshow": {
     "slide_type": "subslide"
    }
   },
   "source": [
    "<h1><center>Constructor</center></h1>\n",
    "<ul>\n",
    "<li> A class can have <b>multiple constructors</b> if they have a\n",
    "different interface (=different parameters)\n",
    "    </li>\n",
    "</ul>"
   ]
  },
  {
   "cell_type": "code",
   "execution_count": null,
   "id": "0a655a26",
   "metadata": {
    "slideshow": {
     "slide_type": "fragment"
    }
   },
   "outputs": [],
   "source": [
    "class Vector\n",
    "{\n",
    "    // Constructor\n",
    "    Vector(int len)\n",
    "    {\n",
    "        array = new double[len];\n",
    "        length = len;\n",
    "    }\n",
    "};"
   ]
  },
  {
   "cell_type": "markdown",
   "id": "1ef93da1",
   "metadata": {
    "slideshow": {
     "slide_type": "subslide"
    }
   },
   "source": [
    "<h1><center>Constructor</center></h1>\n",
    "<ul>\n",
    "<li> What if a parameter has the same name as an attribute?\n",
    "    </li>\n",
    "</ul>"
   ]
  },
  {
   "cell_type": "code",
   "execution_count": null,
   "id": "4034efd6",
   "metadata": {
    "slideshow": {
     "slide_type": "fragment"
    }
   },
   "outputs": [],
   "source": [
    "class Vector\n",
    "{\n",
    "    Vector(int length)\n",
    "    {\n",
    "        array = new double[length];\n",
    "        // this pointer refers to the object itself,\n",
    "        // hence this->length is the attribute and length\n",
    "        // is the parameter passed to the constructor\n",
    "        this->length = length;\n",
    "    }\n",
    "}; "
   ]
  },
  {
   "cell_type": "markdown",
   "id": "5708f6a6",
   "metadata": {
    "slideshow": {
     "slide_type": "slide"
    }
   },
   "source": [
    "<h1><center>Destructor</center></h1>\n",
    "<ul>\n",
    "<li> The <b>destructor</b> is called implicitly at the end of the lifetime\n",
    "of a Vector object, e.g., at the end of its scope\n",
    "    </li>\n",
    "</ul>"
   ]
  },
  {
   "cell_type": "code",
   "execution_count": null,
   "id": "ae4c1e5d",
   "metadata": {
    "slideshow": {
     "slide_type": "fragment"
    }
   },
   "outputs": [],
   "source": [
    "class Vector\n",
    "{\n",
    "    // Destructor (and there can be only one!)\n",
    "    ~Vector()\n",
    "    {\n",
    "        delete[] array;\n",
    "        length = 0;\n",
    "    }\n",
    "};"
   ]
  },
  {
   "cell_type": "markdown",
   "id": "4133f84f",
   "metadata": {
    "slideshow": {
     "slide_type": "subslide"
    }
   },
   "source": [
    "<h1><center>Constructor/destructor</center></h1>\n"
   ]
  },
  {
   "cell_type": "code",
   "execution_count": null,
   "id": "a88d1766",
   "metadata": {
    "slideshow": {
     "slide_type": "fragment"
    }
   },
   "outputs": [],
   "source": [
    "int main()\n",
    "{\n",
    "    Vector x; // Default constructor is called\n",
    "    {\n",
    "        Vector y(5); // Constructor is called\n",
    "        // Destructor is called for Vector y\n",
    "    }\n",
    "    // Destructor is called for Vector x\n",
    "}"
   ]
  },
  {
   "cell_type": "markdown",
   "id": "df44d6af",
   "metadata": {
    "slideshow": {
     "slide_type": "fragment"
    }
   },
   "source": [
    "<ul>\n",
    "<li> Without <code>array = nullptr</code> in the default constructor the\n",
    "destruction of x will lead to a run-time error. Try it!\n",
    "    </li>\n",
    "</ul>"
   ]
  },
  {
   "cell_type": "markdown",
   "id": "6d3f58c5",
   "metadata": {
    "slideshow": {
     "slide_type": "slide"
    }
   },
   "source": [
    "<h1><center>Uniform initialisation constructors (C++11)</center></h1>"
   ]
  },
  {
   "cell_type": "markdown",
   "id": "cf7475d7",
   "metadata": {
    "slideshow": {
     "slide_type": "fragment"
    }
   },
   "source": [
    "<ul>\n",
    "<li> But now, the handy <b>uniform initialization</b> no longer works\n",
    "    </li>\n",
    "</ul>"
   ]
  },
  {
   "cell_type": "code",
   "execution_count": null,
   "id": "94510678",
   "metadata": {
    "slideshow": {
     "slide_type": "fragment"
    }
   },
   "outputs": [],
   "source": [
    "Vector x(5); // use constructor\n",
    "for (auto i=0; i<x.length; i++)\n",
    "x.array[i] = i;"
   ]
  },
  {
   "cell_type": "markdown",
   "id": "440c487e",
   "metadata": {
    "slideshow": {
     "slide_type": "fragment"
    }
   },
   "source": [
    "<ul>\n",
    "<li> C++11 solution: <b>initializer lists</b> ( <code>&ltinitializer_list>, &ltmemory></code>) \n",
    "    </li>\n",
    "</ul>"
   ]
  },
  {
   "cell_type": "code",
   "execution_count": null,
   "id": "e9ecf2c0",
   "metadata": {
    "slideshow": {
     "slide_type": "fragment"
    }
   },
   "outputs": [],
   "source": [
    "Vector(const std::initializer_list<double>& list)\n",
    "{\n",
    "length = (int)list.size();\n",
    "array = new double[length];\n",
    "std::uninitialized_copy(list.begin(),\n",
    "list.end(), array);\n",
    "}"
   ]
  },
  {
   "cell_type": "markdown",
   "id": "afd5b6f8",
   "metadata": {
    "slideshow": {
     "slide_type": "slide"
    }
   },
   "source": [
    "<h1><center>Dot product – close to perfection</center></h1>\n",
    "<ul>\n",
    "<li> Third version of the dot product using Vector class with\n",
    "<b>uniform initialization constructor</b> (C++11) and exceptions\n",
    "    </li>\n",
    "</ul>"
   ]
  },
  {
   "cell_type": "code",
   "execution_count": null,
   "id": "8f90eeb6",
   "metadata": {
    "slideshow": {
     "slide_type": "fragment"
    }
   },
   "outputs": [],
   "source": [
    "int main()\n",
    "{\n",
    "    Vector x = { 1, 2, 3, 4, 5 };\n",
    "    Vector y = { 2, 4, 6, 8, 10};\n",
    "    try {\n",
    "        double dot_product(x, y);\n",
    "    } catch (const char* msg) {\n",
    "        std::cerr << msg << std::endl;\n",
    "    }\n",
    "}"
   ]
  },
  {
   "cell_type": "markdown",
   "id": "c0b1a899",
   "metadata": {
    "slideshow": {
     "slide_type": "subslide"
    }
   },
   "source": [
    "<h1><center>Delegating constructor (C++11)</center></h1>"
   ]
  },
  {
   "cell_type": "code",
   "execution_count": null,
   "id": "e900f59b",
   "metadata": {
    "slideshow": {
     "slide_type": "fragment"
    }
   },
   "outputs": [],
   "source": [
    "Vector(int length)\n",
    "{\n",
    "    this->length = length;\n",
    "    array = new double[length];\n",
    "}\n",
    "Vector(const std::initializer_list<double>& list)\n",
    "{\n",
    "    length = (int)list.size();\n",
    "    array = new double[length];\n",
    "    std::uninitialized_copy(list.begin(),\n",
    "                            list.end(), array);\n",
    "} "
   ]
  },
  {
   "cell_type": "markdown",
   "id": "310e8ce7",
   "metadata": {
    "slideshow": {
     "slide_type": "subslide"
    }
   },
   "source": [
    "<h1><center>Delegating constructor (C++11)</center></h1>\n",
    "<ul>\n",
    "<li> <b>Delegating constructors</b> delegate part of the work to\n",
    "another constructor of the same or another class\n",
    "    </li>\n",
    "</ul>\n",
    "<code>Vector(int length)\n",
    ": length(length),\n",
    "array(new double[length])\n",
    "{ }</code>\n",
    "<ul>\n",
    "<li> Here, delegation is not really helpful but more a question\n",
    "of coding style (e.g., some programmers use delegation in\n",
    "all situation where this is technically possible)\n",
    "    </li>\n",
    "</ul>"
   ]
  },
  {
   "cell_type": "markdown",
   "id": "00b1fa68",
   "metadata": {
    "slideshow": {
     "slide_type": "subslide"
    }
   },
   "source": [
    "<h1><center>Delegating constructor (C++11)</center></h1>\n",
    "<ul>\n",
    "<li> <b>Delegating constructors</b> delegate part of the work to\n",
    "another constructor of the same or another class\n",
    "    </li>\n",
    "</ul>\n",
    "<code>Vector(int length)\n",
    ": length(length),\n",
    "array(new double[length])\n",
    "{ }</code>\n",
    "<ul>\n",
    "<li> Note: It is no longer necessary to distinguish between the\n",
    "attribute (this->length) and the argument (length) if both\n",
    "have the same name. But be careful with the order in\n",
    "which delegated objects are constructed!\n",
    "</ul>"
   ]
  },
  {
   "cell_type": "markdown",
   "id": "5378508f",
   "metadata": {
    "slideshow": {
     "slide_type": "slide"
    }
   },
   "source": [
    "<h1><center>Quiz: Delegating constructor (C++11)</center></h1>\n",
    "<div class=\"left1\", style=\"width:50%;height:90%; float:left;\">\n",
    "    <ul>\n",
    "    <li><code>Vector(int len)\n",
    "        :length(len),\n",
    "          array(new double[len]){\n",
    "        }</code></li>\n",
    "     <li><code>Vector(int len)\n",
    "        :array(new double[len]),\n",
    "         length(len){\n",
    "        }</code>\n",
    "      </li>\n",
    "     </ul>\n",
    "</div>\n",
    "<div class=\"right1\", style=\"width:50%;height:90%; float:right;\">\n",
    "    <ul>\n",
    "    <li><code>Vector(int len)\n",
    "        :length(len),\n",
    "          array(new double[lengh]){\n",
    "        }</code></li>\n",
    "     <li><code>Vector(int len)\n",
    "        :array(new double[lenth]),\n",
    "         length(len){\n",
    "        }</code>\n",
    "      </li>\n",
    "     </ul>\n",
    "</div>"
   ]
  },
  {
   "cell_type": "markdown",
   "id": "0fd11e67",
   "metadata": {
    "slideshow": {
     "slide_type": "slide"
    }
   },
   "source": [
    "<h1><center>Delegating constructor (C++11)</center></h1>\n",
    "<ul>\n",
    "<li> <b>Delegating constructors</b> delegate part of the work to\n",
    "another constructor of the same or another class\n",
    "    </li>\n",
    "</ul>\n",
    "<code>Vector(const std::initializer_list&ltdouble>& list)\n",
    ": Vector((int)list.size())\n",
    "{\n",
    "    std::uninitialized_copy(list.begin(),\n",
    "                            list.end(), array);\n",
    "}</code>\n",
    "<ul>\n",
    "<li> Here, delegation is really helpful since it reduces duplicate\n",
    "code (assume that new attributes are added to Vector, then\n",
    "only one constructor has to be extended)\n",
    "</ul>\n"
   ]
  },
  {
   "cell_type": "markdown",
   "id": "58ab6c05",
   "metadata": {
    "slideshow": {
     "slide_type": "skip"
    }
   },
   "source": [
    "<h1><center>Function -> member function</center></h1>\n",
    "<ul>\n",
    "<li> Function that computes the sum of a Vector\n",
    "    </li>\n",
    "</ul>\n",
    "<code>double sum(const Vector& a)\n",
    "{\n",
    "    double s = 0;\n",
    "    for (auto i=0; i&lta.length; i++)\n",
    "        s += a.array[i];\n",
    "    return s;\n",
    "}</code>\n",
    "<ul>\n",
    "<li> This is not really OOP-style!</li>\n",
    "</ul>\n",
    "<code>int main()\n",
    "{ Vector x = { 1, 2, 3, 4, 5 };\n",
    "std::cout &lt< sum(x) &lt< std::endl; }</code>\n"
   ]
  },
  {
   "cell_type": "markdown",
   "id": "b6a9be11",
   "metadata": {
    "slideshow": {
     "slide_type": "skip"
    }
   },
   "source": [
    "<h1><center>Function -> member function</center></h1>\n",
    "<ul>\n",
    "<li> Vector object computes its sum (itself!)\n",
    "    </li>\n",
    "</ul>"
   ]
  },
  {
   "cell_type": "code",
   "execution_count": null,
   "id": "938ea41b",
   "metadata": {
    "slideshow": {
     "slide_type": "skip"
    }
   },
   "outputs": [],
   "source": [
    "class Vector\n",
    "{\n",
    "    public:\n",
    "        double sum()\n",
    "        {\n",
    "            double s = 0;\n",
    "            for (auto i=0; i<length; i++)\n",
    "                s += array[i];\n",
    "            return s;\n",
    "        }\n",
    "};"
   ]
  },
  {
   "cell_type": "markdown",
   "id": "fe1a3a38",
   "metadata": {
    "slideshow": {
     "slide_type": "skip"
    }
   },
   "source": [
    "<h1><center>Function -> member function</center></h1>\n",
    "<ul>\n",
    "<li> This is good OOP-style\n",
    "    </li>\n",
    "</ul>"
   ]
  },
  {
   "cell_type": "code",
   "execution_count": null,
   "id": "d02ae278",
   "metadata": {
    "slideshow": {
     "slide_type": "skip"
    }
   },
   "outputs": [],
   "source": [
    "int main()\n",
    "{\n",
    "    Vector x = {1,2,3};\n",
    "    std::cout << x.sum() << std::endl;\n",
    "}"
   ]
  },
  {
   "cell_type": "markdown",
   "id": "e9e34502",
   "metadata": {
    "slideshow": {
     "slide_type": "skip"
    }
   },
   "source": [
    "<ul>\n",
    "<li> <i>Recommendation</i>: prefer class/struct member functions\n",
    "over external ones whenever this is possible\n",
    "    </li>\n",
    "<li> Can we implement the dot product as a member function?\n",
    "    </li>\n",
    "</ul>"
   ]
  },
  {
   "cell_type": "markdown",
   "id": "ccf5de20",
   "metadata": {
    "slideshow": {
     "slide_type": "slide"
    }
   },
   "source": [
    "<h1><center>Continue: Function -> member function</center></h1>"
   ]
  },
  {
   "cell_type": "code",
   "execution_count": null,
   "id": "e243ce36",
   "metadata": {
    "slideshow": {
     "slide_type": "fragment"
    }
   },
   "outputs": [],
   "source": [
    "class Vector\n",
    "{\n",
    "    public:\n",
    "        double dot_product(const Vector& other)\n",
    "        {\n",
    "            if(length!=other.length) throw \"Vectors have ...“;\n",
    "            double d=0;\n",
    "            for (auto i=0; i<length; i++)\n",
    "                d += array[i]*other.array[i];\n",
    "            return d;\n",
    "        }\n",
    "};"
   ]
  },
  {
   "cell_type": "markdown",
   "id": "38bd7300",
   "metadata": {},
   "source": [
    "<h1><center>Continue: Function -> member function</center></h1>\n",
    "<div class=\"left\", style=\"width:50%;height:90%; float:left;\">\n",
    "<ul>\n",
    "<li> The member function version\n",
    "    </li>\n",
    "</ul>\n",
    "<code>class Vector\n",
    "{public:\n",
    "     double sum(){\n",
    "            double s = 0;\n",
    "            for (auto i=0; i&ltlength; i++) \n",
    "                s+=array[i];\n",
    "            return s;}\n",
    "}</code>\n",
    "</div>\n",
    "<div class=\"right\", style=\"width:50%;height:60%; float:right;\"> \n",
    "<ul>\n",
    "<li> This is a <b>GOOD</b> OOP-style!</li>\n",
    "</ul>\n",
    "<code>int main()\n",
    "{\n",
    "    Vector x = {1,2,3};\n",
    "    std::cout &lt< x.sum() &lt< std::endl;\n",
    "}</code></div>"
   ]
  },
  {
   "cell_type": "markdown",
   "id": "a16793a3",
   "metadata": {
    "slideshow": {
     "slide_type": "subslide"
    }
   },
   "source": [
    "<h1><center>Function -> member function</center></h1>\n",
    "<ul>\n",
    "    <li><code>int main()\n",
    "{\n",
    "    Vector x = {1,2,3}; Vector y = {2,4,6};\n",
    "    std::cout &lt< x.dot_product(y) &lt< std::endl;\n",
    "    std::cout &lt< y.dot_product(x) &lt< std::endl;\n",
    "}</code>\n",
    "        </li>\n",
    "    <li>Formally, the dot product is an operation between two\n",
    "Vector objects and not a member function of one Vector\n",
    "object the needs another Vector object for calculation\n",
    "        </li>\n",
    "    </ul>"
   ]
  },
  {
   "cell_type": "markdown",
   "id": "c70addbd",
   "metadata": {
    "slideshow": {
     "slide_type": "skip"
    }
   },
   "source": [
    "<h1><center>Operator overloading</center></h1>\n",
    "<ul>\n",
    "<li>C++ allows to overload (=redefine) the standard operators\n",
    "</li>\n",
    "    <ul>\n",
    "        <li>-Unary operators: ++a, a++, --a, a--, ~a, !a\n",
    "        </li>\n",
    "        <li>-Binary operators: a+b, a-b, a*b, a/b\n",
    "        </li>\n",
    "        <li>-Relational operators: a==b, a!=b, a<b, a<=b, a>b, a>=b\n",
    "        </li>\n",
    "    </ul>\n",
    "</ul>\n",
    "<ul>\n",
    " <li>\n",
    "    Interfaces:</li>\n",
    "</ul>\n",
    "        <code>     &ltreturn_type> operator&ltOP>()                    [const]\n",
    "     &ltreturn_type> operator&ltOP>(const Vector& other)  [const]</code></p>\n",
    " \n",
    "<ul>\n",
    " <li>\n",
    "    Complete list: https://en.cppreference.com/w/cpp/language/operators</li>\n",
    "</ul>"
   ]
  },
  {
   "cell_type": "markdown",
   "id": "257182ca",
   "metadata": {
    "slideshow": {
     "slide_type": "skip"
    }
   },
   "source": [
    "<h1><center>Operator overloading</center></h1>\n",
    "<ul>\n",
    "<li>Implementation of dot product as <b>overloaded *-operator</b>\n",
    "</li>\n",
    "</ul>"
   ]
  },
  {
   "cell_type": "code",
   "execution_count": null,
   "id": "e2d6abd4",
   "metadata": {
    "slideshow": {
     "slide_type": "skip"
    }
   },
   "outputs": [],
   "source": [
    "class Vector\n",
    "{\n",
    "public:\n",
    "    double operator*(const Vector& other) const\n",
    "    {\n",
    "        if(length!=other.length) throw “Vectors have ...“;\n",
    "        double d=0;\n",
    "        for (auto i=0; i<length; i++)\n",
    "            d += array[i]*other.array[i];\n",
    "        return d;\n",
    "}"
   ]
  },
  {
   "cell_type": "markdown",
   "id": "d5960faa",
   "metadata": {
    "slideshow": {
     "slide_type": "skip"
    }
   },
   "source": [
    "<h1><center>Operator overloading</center></h1>"
   ]
  },
  {
   "cell_type": "code",
   "execution_count": null,
   "id": "487a7d37",
   "metadata": {
    "slideshow": {
     "slide_type": "skip"
    }
   },
   "outputs": [],
   "source": [
    "int main()\n",
    "{\n",
    "    Vector x = {1,2,3}; Vector y = {2,4,6};\n",
    "    std::cout << x*y << std::endl;\n",
    "    std::cout << y*x << std::endl;\n",
    "}"
   ]
  },
  {
   "cell_type": "markdown",
   "id": "fc75eebf",
   "metadata": {
    "slideshow": {
     "slide_type": "skip"
    }
   },
   "source": [
    "<ul>\n",
    "<li>Now, the dot product is implemented as <b>*-operator</b> that\n",
    "maps two Vector objects to a scalar value\n",
    "</li>\n",
    "</ul>"
   ]
  },
  {
   "cell_type": "markdown",
   "id": "37e996c0",
   "metadata": {
    "slideshow": {
     "slide_type": "skip"
    }
   },
   "source": [
    "<h1><center>Assignment by operator overloading</center></h1>\n",
    "<ul>\n",
    "<li>Implementation of assignment as <b>overloaded =-operator</b>\n",
    "</li>\n",
    "</ul>"
   ]
  },
  {
   "cell_type": "code",
   "execution_count": null,
   "id": "7cc69a63",
   "metadata": {
    "slideshow": {
     "slide_type": "skip"
    }
   },
   "outputs": [],
   "source": [
    "Vector& operator=(Vector& other)\n",
    "{\n",
    "    if(this != &other)\n",
    "    {\n",
    "        // Exchange resources between *this and other\n",
    "        swap(other);\n",
    "    }\n",
    "    return *this;\n",
    "}   // destructor of other is called to release resources\n",
    "    // formerly held by *this"
   ]
  },
  {
   "cell_type": "markdown",
   "id": "82de67f9",
   "metadata": {
    "slideshow": {
     "slide_type": "skip"
    }
   },
   "source": [
    "<ul>\n",
    "<li>Note that the „<code>this</code> “ pointer is modified (no trailing <code>const</code> !)\n",
    "</li>\n",
    "</ul>"
   ]
  },
  {
   "cell_type": "markdown",
   "id": "220d1c2e",
   "metadata": {
    "slideshow": {
     "slide_type": "skip"
    }
   },
   "source": [
    "<h1><center>Assignment by operator overloading</center></h1>\n",
    "<ul>\n",
    "<li>Implementation of assignment as <b>overloaded =-operator</b>\n",
    "</li>\n",
    "</ul>"
   ]
  },
  {
   "cell_type": "code",
   "execution_count": null,
   "id": "24acd239",
   "metadata": {
    "slideshow": {
     "slide_type": "skip"
    }
   },
   "outputs": [],
   "source": [
    "Vector& operator+=(const Vector& other)\n",
    "{\n",
    "    if(length!=other.length) throw „Vectors have ...“;\n",
    "    for (auto i=0; i<length; i++)\n",
    "        array[i] += other.array[i];\n",
    "    return *this;\n",
    "}"
   ]
  },
  {
   "cell_type": "markdown",
   "id": "6de0c1bd",
   "metadata": {
    "slideshow": {
     "slide_type": "slide"
    }
   },
   "source": [
    "<h1><center>Container Class</center></h1>"
   ]
  },
  {
   "cell_type": "code",
   "execution_count": null,
   "id": "c7111714",
   "metadata": {},
   "outputs": [],
   "source": [
    "#include <iostream>\n",
    "#include <initializer_list>\n",
    "#include <algorithm> // For std::swap\n",
    "\n",
    "class Container {\n",
    "private:\n",
    "    int size;\n",
    "    double* elements;\n",
    "\n",
    "public:\n",
    "    // Default constructor\n",
    "    Container() : size(0), elements(nullptr) {\n",
    "        std::cout << \"Default constructor called\" << std::endl;\n",
    "    }\n",
    "\n",
    "    // Converting constructor: can also initialize Container with an int\n",
    "    Container(int length) : size(length), elements(new double[length]) {\n",
    "        std::cout << \"Converting constructor (from int) called\" << std::endl;\n",
    "        std::fill(elements, elements + size, 0.0);\n",
    "    }\n",
    "\n",
    "    // Converting constructor: can also initialize Container with an initializer_list\n",
    "    Container(const std::initializer_list<double>& list) \n",
    "    : size(static_cast<int>(list.size())), elements(new double[size]) {\n",
    "        std::cout << \"Converting constructor (from initializer_list) called\" << std::endl;\n",
    "        std::copy(list.begin(), list.end(), elements);\n",
    "    }\n",
    "\n",
    "    // Explicit constructor to prevent implicit conversions from a single float\n",
    "    explicit Container(float initial_value) : size(1), elements(new double[1]) {\n",
    "        std::cout << \"Explicit constructor called\" << std::endl;\n",
    "        elements[0] = initial_value;\n",
    "    }\n",
    "\n",
    "    // Copy constructor\n",
    "    Container(const Container& other) : size(other.size), elements(new double[other.size]) {\n",
    "        std::cout << \"Copy constructor called\" << std::endl;\n",
    "        std::copy(other.elements, other.elements + size, elements);\n",
    "    }\n",
    "\n",
    "    // Move constructor\n",
    "    Container(Container&& other) noexcept : size(other.size), elements(other.elements) {\n",
    "        std::cout << \"Move constructor called\" << std::endl;\n",
    "        other.size = 0;\n",
    "        other.elements = nullptr;\n",
    "    }\n",
    "\n",
    "    // Destructor\n",
    "    ~Container() {\n",
    "        std::cout << \"Destructor called\" << std::endl;\n",
    "        delete[] elements;\n",
    "    }\n",
    "\n",
    "    // Copy assignment operator\n",
    "    Container& operator=(const Container& other) {\n",
    "        std::cout << \"Copy assignment operator called\" << std::endl;\n",
    "        if (this != &other) { // Protect against self-assignment\n",
    "            delete[] elements; // Free the existing resource.\n",
    "            size = other.size;\n",
    "            elements = new double[size];\n",
    "            std::copy(other.elements, other.elements + size, elements);\n",
    "        }\n",
    "        return *this;\n",
    "    }\n",
    "\n",
    "    // Move assignment operator\n",
    "    Container& operator=(Container&& other) noexcept {\n",
    "        std::cout << \"Move assignment operator called\" << std::endl;\n",
    "        if (this != &other) { // Prevent self-assignment\n",
    "            delete[] elements; // Free the existing resource.\n",
    "            size = other.size;\n",
    "            elements = other.elements;\n",
    "            other.size = 0;\n",
    "            other.elements = nullptr;\n",
    "        }\n",
    "        return *this;\n",
    "    }\n",
    "\n",
    "    // A simple print function to show the contents\n",
    "    void print() const {\n",
    "        for (int i = 0; i < size; ++i) {\n",
    "            std::cout << elements[i] << \" \";\n",
    "        }\n",
    "        std::cout << std::endl;\n",
    "    }\n",
    "};\n",
    "\n",
    "int main() {\n",
    "    Container defaultContainer; // Calls default constructor\n",
    "\n",
    "    Container fromInt = 5; // Calls converting constructor with an int\n",
    "    fromInt.print();\n",
    "\n",
    "    Container fromList = {1.0, 2.0, 3.0}; // Calls converting constructor with an initializer_list\n",
    "    fromList.print();\n",
    "\n",
    "    // The line below will cause a compile-time error due to the 'explicit' keyword\n",
    "    // Container fromFloat = 2.5f; // Error\n",
    "    Container fromFloat(2.5f); // Calls explicit constructor\n",
    "    fromFloat.print();\n",
    "\n",
    "    Container copyContainer = fromList; // Calls copy constructor\n",
    "    copyContainer.print();\n",
    "\n",
    "    // Assigning a new value to copyContainer using copy assignment operator\n",
    "    copyContainer = fromInt;\n",
    "    copyContainer.print();\n",
    "\n",
    "    Container moveContainer; // Calls default constructor\n",
    "    moveContainer = std::move(copyContainer); // Calls move assignment operator\n",
    "    moveContainer.print();\n",
    "\n",
    "    return 0;\n",
    "}"
   ]
  },
  {
   "cell_type": "markdown",
   "id": "6bcfdf28",
   "metadata": {
    "slideshow": {
     "slide_type": "slide"
    }
   },
   "source": [
    "<h1><center>Container Class</center></h1>\n",
    "<code>class Container {\n",
    "public:\n",
    "    <span style=color:red;>Container(int length)\n",
    "    : length(length), data(new double[length])</span>\n",
    "    { }\n",
    "    <span style=color:red;>Container(const std::initializer_list&ltdouble&gt &amp l)\n",
    "    : Container( (int)l.size() )</span>\n",
    "    {\n",
    "        std::uninitialized_copy(l.begin(), l.end(), data);\n",
    "    }\n",
    "    ...\n",
    "};</code>"
   ]
  },
  {
   "cell_type": "markdown",
   "id": "a5d30ac0",
   "metadata": {
    "slideshow": {
     "slide_type": "subslide"
    }
   },
   "source": [
    "<h1><center>Container Class</center></h1>\n",
    "<code>class Container {\n",
    "public:\n",
    "    ...\n",
    "    <span style=color:red;>~Container()</span>\n",
    "    {\n",
    "        delete[] data;\n",
    "        length=0;\n",
    "    }\n",
    "private:\n",
    "    <span style=color:red;>double*</span> data;\n",
    "    <span style=color:red;>int</span> length;\n",
    "};</code>"
   ]
  },
  {
   "cell_type": "markdown",
   "id": "c1cbd345",
   "metadata": {
    "slideshow": {
     "slide_type": "subslide"
    }
   },
   "source": [
    "<h1><center>Container Class</center></h1>\n",
    "<ul><li>Class has <b>no default constructor</b> (at least we do think so)\n",
    "    </li>\n",
    "    <code><span style=color:red;>Container()</span> { }</code>\n",
    "    <li>Class has member function for printing\n",
    "        </li>\n",
    "    <code>void <span style=color:red;>info()</span>\n",
    "{\n",
    "    std::cout << “Length: “ &lt< length &lt< std::endl;\n",
    "    std::cout << “Pointer: “ &lt< data &lt< std::endl;\n",
    "    std::cout << “Address: “ &lt< &data &lt< std::endl;\n",
    "}</code>\n",
    "    </ul>"
   ]
  },
  {
   "cell_type": "markdown",
   "id": "41cb11de",
   "metadata": {
    "slideshow": {
     "slide_type": "slide"
    }
   },
   "source": [
    "<h1><center>Converting Constructors</center></h1>\n",
    "<ul><li> Both constructors can be called in two ways\n",
    "        <ul>\n",
    "            <li>In the <b>explicit constructor</b> declaration\n",
    "                </li>\n",
    "            <code>Container a( 4 );\n",
    "Container a( {1,2,3,4} );</code>\n",
    "            <li>Using <b>copy initialisation</b>\n",
    "                </li>\n",
    "            <code>Container a = 4; // -> Container a( 4 )\n",
    "Container a = {1,2,3,4}; // -> Container a( {1,2,3,4} )\n",
    "Container a = {4}; // which constructor is called?</code>\n",
    "            </ul>\n",
    "    </li>\n",
    "    </ul>"
   ]
  },
  {
   "cell_type": "markdown",
   "id": "9da21506",
   "metadata": {
    "slideshow": {
     "slide_type": "slide"
    }
   },
   "source": [
    "<h1><center>Explicit specifier</center></h1>\n",
    "<ul>\n",
    "    <li>\n",
    "The <b>explicit specifier</b> prevents the use the constructor\n",
    "(here with integer parameter) as conversion constructor</li>\n",
    "\n",
    "<code>// Explicit constructor to prevent implicit conversions from a single float\n",
    "explicit Container(float initial_value) : size(1), elements(new double[1]) {\n",
    "        std::cout &lt< \"Explicit constructor called\" &lt< std::endl;\n",
    "        elements[0] = initial_value;\n",
    "}</code>\n",
    "<li>Copy-initialisation (Container fromInt = 3;) is no longer possible\n",
    "but explicit constructor (Container fromFloat(2.5f);) has to be used</li>\n",
    "</ul>"
   ]
  },
  {
   "cell_type": "markdown",
   "id": "92b2ce9f",
   "metadata": {
    "slideshow": {
     "slide_type": "subslide"
    }
   },
   "source": [
    "<h1><center>Explicit specifier</center></h1>\n",
    "<ul>\n",
    "    <li> Play around with the copy-initialisation constructor in the beginning example to see what happened.\n",
    "        </li>\n",
    "    <li>Consequent use of explicit specifier can help to get better\n",
    "control over unrecognised implicit creation of objects, e.g.,\n",
    "in user-defined assignment operators (later in this lecture).\n",
    "        </li>\n",
    "    </ul>"
   ]
  },
  {
   "cell_type": "markdown",
   "id": "a8d2812d",
   "metadata": {
    "slideshow": {
     "slide_type": "slide"
    }
   },
   "source": [
    "<h1><center>Task: Numerical integration</center></h1>\n",
    "<ul>\n",
    "    <li>Compute a one-dimensional integral of the form\n",
    "        </li>\n",
    "    $$\\int_a^bf(x)dx$$\n",
    "    <li> Numerical approximation by quadrature rule\n",
    "        </li>\n",
    "    \n",
    "    <li>Choice of quadrature weights $w_i$ and points $x_i$ determines\n",
    "the concrete numerical integration rule\n",
    "        </li>\n",
    "    </ul>"
   ]
  },
  {
   "cell_type": "code",
   "execution_count": null,
   "id": "7e7094d2",
   "metadata": {},
   "outputs": [],
   "source": []
  }
 ],
 "metadata": {
  "celltoolbar": "Slideshow",
  "kernelspec": {
   "display_name": "Python 3 (ipykernel)",
   "language": "python",
   "name": "python3"
  },
  "language_info": {
   "codemirror_mode": {
    "name": "ipython",
    "version": 3
   },
   "file_extension": ".py",
   "mimetype": "text/x-python",
   "name": "python",
   "nbconvert_exporter": "python",
   "pygments_lexer": "ipython3",
   "version": "3.11.0"
  }
 },
 "nbformat": 4,
 "nbformat_minor": 5
}
