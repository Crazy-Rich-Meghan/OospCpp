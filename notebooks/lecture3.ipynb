{
 "cells": [
  {
   "cell_type": "code",
   "execution_count": null,
   "id": "67daa231",
   "metadata": {
    "slideshow": {
     "slide_type": "skip"
    }
   },
   "outputs": [],
   "source": [
    "## Please run this cell before the lecture --JL\n",
    "\n",
    "#include <iostream>"
   ]
  },
  {
   "cell_type": "markdown",
   "id": "d640841f",
   "metadata": {
    "slideshow": {
     "slide_type": "slide"
    }
   },
   "source": [
    "# Object-oriented scientific programming with C++\n",
    "\n",
    "Matthias Möller, Jonas Thies (Numerical Analysis, DIAM)\n",
    "\n",
    "Lecture 3"
   ]
  },
  {
   "cell_type": "markdown",
   "id": "9fc9e02c",
   "metadata": {
    "slideshow": {
     "slide_type": "slide"
    }
   },
   "source": [
    "## <center> Overview </center>\n",
    "During last several lectures, we learned <b>polymorphism</b>, that is, inheritance of one class from another class\n",
    "- Implementation of common functionality in **base class** (possibly realised as **abstract class** that cannot even be instantiated)\n",
    "- Derivation of specialised class(es) from the base class that\n",
    "    - implement the missing functionality (**pure virtual functions**)\n",
    "    - override generic functionality by specialised variants (**virtual functions**)\n",
    "    - reuse all other functionality from the base class"
   ]
  },
  {
   "cell_type": "markdown",
   "id": "7d6fc363",
   "metadata": {
    "slideshow": {
     "slide_type": "subslide"
    }
   },
   "source": [
    "## <center>Overview</center>\n",
    "Today, a more careful view on polymorphism\n",
    "- **Static polymorphism**: static binding/method overloading\n",
    "- **Dynamic polymorphism**: dynamic binding/method overriding\n",
    "Auto functionality of C++11/14/17.\n",
    "\n",
    "**Template meta programming**\n",
    "- A powerful variant of static polymorphism"
   ]
  },
  {
   "cell_type": "markdown",
   "id": "606ebb67",
   "metadata": {
    "slideshow": {
     "slide_type": "slide"
    }
   },
   "source": [
    "## <center> Quiz: Guess what happens </center>"
   ]
  },
  {
   "cell_type": "code",
   "execution_count": null,
   "id": "2db57312",
   "metadata": {
    "slideshow": {
     "slide_type": "fragment"
    }
   },
   "outputs": [],
   "source": [
    "struct Base {\n",
    "  virtual void hello() const = 0;\n",
    "  virtual ~Base() {} // virtual destructor for proper cleanup\n",
    "};\n",
    "\n",
    "struct Derived : public Base {\n",
    "  void hello() const override // Correct function name to override the base class method\n",
    "  {\n",
    "    std::cout << \"Hallo\\n\";\n",
    "  }\n",
    "};"
   ]
  },
  {
   "cell_type": "markdown",
   "id": "8057fae7",
   "metadata": {
    "slideshow": {
     "slide_type": "subslide"
    }
   },
   "source": [
    "## <center> Quiz: Guess what happens </center>\n",
    "Run the main function to verify your guess"
   ]
  },
  {
   "cell_type": "code",
   "execution_count": null,
   "id": "b99fb892",
   "metadata": {
    "slideshow": {
     "slide_type": "fragment"
    }
   },
   "outputs": [],
   "source": [
    "int main() {\n",
    "  Derived d; // Create an instance of Derived\n",
    "  Base* ptr = &d; // Pointer to Base type, pointing to Derived instance\n",
    "\n",
    "  ptr->hello(); // Virtual dispatch ensures Derived::hello() is called\n",
    "\n",
    "  return 0;\n",
    "}"
   ]
  },
  {
   "cell_type": "markdown",
   "id": "058ed0e9",
   "metadata": {
    "slideshow": {
     "slide_type": "subslide"
    }
   },
   "source": [
    "## <center> Quiz var1: Guess what happens </center>"
   ]
  },
  {
   "cell_type": "markdown",
   "id": "d7b6f9f7",
   "metadata": {
    "slideshow": {
     "slide_type": "fragment"
    }
   },
   "source": [
    "<code>struct Base {\n",
    "  virtual void hello() const = 0;\n",
    "};\n",
    "struct Derived : public Base {\n",
    "  void h<span style=color:red;>e</span>llo() const\n",
    "  {\n",
    "    std::cout << “Hallo\\n”;\n",
    "  }\n",
    "};</code>"
   ]
  },
  {
   "cell_type": "markdown",
   "id": "5bad8f07",
   "metadata": {
    "slideshow": {
     "slide_type": "subslide"
    }
   },
   "source": [
    "## <center> Quiz var1: Guess what happens </center>\n",
    "<code>struct Base {\n",
    "  virtual void hello() const = 0;\n",
    "};\n",
    "struct Derived : public Base {\n",
    "  void h<span style=color:red;>e</span>llo() const\n",
    "  {\n",
    "    std::cout << “Hallo\\n”;\n",
    "  }\n",
    "};</code>\n",
    "\n",
    "- Structurally correct in terms of C++ syntax. \n",
    "- <code>Derived</code> properly overrides the pure virtual function <code>hello()</code> from <code>Base</code>, allowing instances of <code>Derived</code> to be created and used polymorphically through pointers or references to <code>Base</code>."
   ]
  },
  {
   "cell_type": "markdown",
   "id": "0b3622cc",
   "metadata": {
    "slideshow": {
     "slide_type": "subslide"
    }
   },
   "source": [
    "## <center> Quiz var2: Guess what happens </center>\n",
    "\n",
    "<code>struct Base {\n",
    "  virtual void hello() const {\n",
    "    std::cout &lt< “Hello\\n”;\n",
    "  }\n",
    "};\n",
    "struct Derived : public Base {\n",
    "  void h<span style=color:red;>a</span>llo() const //Good luck with debugging\n",
    "  {\n",
    "    std::cout &lt< “Hallo\\n”;\n",
    "  }\n",
    "};</code>\n"
   ]
  },
  {
   "cell_type": "markdown",
   "id": "3095f34d",
   "metadata": {
    "slideshow": {
     "slide_type": "subslide"
    }
   },
   "source": [
    "## <center> Quiz var2: Guess what happens </center>\n",
    "\n",
    "<code>struct Base {\n",
    "  virtual void hello() const {\n",
    "    std::cout &lt< “Hello\\n”;\n",
    "  }\n",
    "};\n",
    "struct Derived : public Base {\n",
    "  void h<span style=color:red;>a</span>llo() const //Good luck with debugging\n",
    "  {\n",
    "    std::cout &lt< “Hallo\\n”;\n",
    "  }\n",
    "};</code>\n",
    "\n",
    "- The Derived struct inherits from <code>Base</code> and introduces a new function <code>hallo()</code> that prints \"<code>Hallo\\n</code>\" to the standard output. \n",
    "- However, <code>Derived</code> does not override the <code>hello()</code> function from Base; it simply provides an additional function."
   ]
  },
  {
   "cell_type": "markdown",
   "id": "3609b0e9",
   "metadata": {
    "slideshow": {
     "slide_type": "slide"
    }
   },
   "source": [
    "## <center> The override keyword </center>\n",
    "C++11 introduces the <span style=color:red;>override</span> keyword to explicitly state\n",
    "that a function from the base class shall be <i>overridden</i>\n",
    "<p><i>Modify the program below yourself to see the different with Quiz var2</i></p>"
   ]
  },
  {
   "cell_type": "code",
   "execution_count": 1,
   "id": "075d4180",
   "metadata": {
    "slideshow": {
     "slide_type": "fragment"
    }
   },
   "outputs": [
    {
     "ename": "SyntaxError",
     "evalue": "invalid syntax (1569292975.py, line 1)",
     "output_type": "error",
     "traceback": [
      "\u001b[0;36m  Cell \u001b[0;32mIn[1], line 1\u001b[0;36m\u001b[0m\n\u001b[0;31m    struct Base {\u001b[0m\n\u001b[0m           ^\u001b[0m\n\u001b[0;31mSyntaxError\u001b[0m\u001b[0;31m:\u001b[0m invalid syntax\n"
     ]
    }
   ],
   "source": [
    "struct Base {\n",
    "  virtual void hello() const = 0;\n",
    "  virtual ~Base() {} // virtual destructor for proper cleanup\n",
    "};\n",
    "struct Derived : public Base {\n",
    "  void hello() const override {std::cout << \"Hallo\\n\";}\n",
    "};\n",
    "int main() {\n",
    "  Derived d; // Create an instance of Derived\n",
    "  d.hello(); // Calls the overridden hello() method in Derived\n",
    "  Base* b = &d; // Since hello() is a virtual function, you can also call it through a Base pointer\n",
    "  b->hello(); // This will also call Derived::hello()\n",
    "  return 0;\n",
    "} //NOTE: If the function to be overridden does not exist in the base class an error is thrown by the compiler"
   ]
  },
  {
   "cell_type": "markdown",
   "id": "9997cffb",
   "metadata": {
    "slideshow": {
     "slide_type": "subslide"
    }
   },
   "source": [
    "## <center>The override keyword</center>\n",
    "The overriding function must <span style=color:red;>exactly match</span> the signature of the function from the base class\n",
    "\n",
    "<code>struct Base {\n",
    "virtual <span style=color:red;>void hello() const</span> { std::cout &lt&lt “Hello\\n”; }\n",
    "};</code>\n",
    "\n",
    "<code>struct Derived : public Base {\n",
    "<span style=color:red;>void hello() const override</span> { std::cout &lt&lt “Hallo\\n”; }\n",
    "};</code>\n",
    "\n",
    "~~<code>struct Derived2 : public Base {\n",
    "<span style=color:red;>void hello() override</span> { std::cout &lt&lt “Hallo\\n”; }\n",
    "};</code>~~"
   ]
  },
  {
   "cell_type": "markdown",
   "id": "ff714b8b",
   "metadata": {
    "slideshow": {
     "slide_type": "slide"
    }
   },
   "source": [
    "## <center> The final keyword</center>\n",
    "C++11 introduces the <span style=color:red;>final</span> keyword to explicitly state that a\n",
    "function from the base class <b>must not</b> be overridden\n",
    "\n",
    "<code>struct Base {\n",
    "virtual void hello() const <span style=color:red;>final</span> { std::cout &lt&lt “Hello\\n”; } };</code>\n",
    "\n",
    "If a derived class tries to override the function <span style=color:red;>hello</span> an error is thrown by the compiler"
   ]
  },
  {
   "cell_type": "markdown",
   "id": "63225a77",
   "metadata": {
    "slideshow": {
     "slide_type": "slide"
    }
   },
   "source": [
    "## <center>The override and final keywords</center>\n",
    "The <span style=color:red>override</span> and <span style=color:red>final</span> keywords are often used together\n",
    "\n",
    "<code>struct Base {\n",
    "    <span style=color:blue;>// Pure virtual function must be overridden in a derived class</span>\n",
    "    virtual void hello() const = 0;\n",
    "  };\n",
    "  struct Derived : public Base {\n",
    "    <span style=color:blue;>// Override pure virtual function and make it final</span>\n",
    "    void hello() const <span style=color:red;>override final</span>\n",
    "    { std::cout &lt&lt “Hello\\n”; }\n",
    "  };\n",
    "  struct Derived2 : public Derived {\n",
    "    <span style=color:blue;>// Must not try to override function hello</span>\n",
    "};</code>"
   ]
  },
  {
   "cell_type": "markdown",
   "id": "83ba02a5",
   "metadata": {
    "slideshow": {
     "slide_type": "slide"
    }
   },
   "source": [
    "## <center>Overloading vs. overriding</center>\n",
    "<div id=\"left\" style=\"float: left; width: 50%;\">Implementation of method or operator with <span style=color:red;>identical</span> name but a <span style=color:blue;>different interface</span>, e.g.\n",
    "<p><code><span style=color:blue;>double</span> <span style=color:red;>operator*</span>(<span style=color:blue;>const\n",
    "Vector &amp; other</span>) <span style=color:blue;>const</span> {...}</code></p>\n",
    "<h3>overloads</h3>\n",
    "<p><code><span style=color:blue;>double</span> <span style=color:red;>operator*</span>(<span style=color:blue;>double\n",
    "  other</span>) <span style=color:blue;>const</span> {...}</code></p>\n",
    "</div>\n",
    "\n",
    "<div id=\"right\" style=\"float: right; width: 50%;\">Implementation of method or operator with <span style=color:red;>identical</span> name and the <span style=color:blue;>same interface</span> in a derived class or structure, e.g.\n",
    "<p><code>struct Derived : public Base {\n",
    "    <span style=color:blue;>void</span> <span style=color:red;>hello</span>(...) const override {...}\n",
    "};</code></p>\n",
    "<h3>overrides</h3>\n",
    "<p><code>struct Base {\n",
    "    virtual <span style=color:blue;>void</span> <span style=color:red;>hello</span>(...) const {...};\n",
    "};</code></p>    \n",
    "</div>   "
   ]
  },
  {
   "cell_type": "markdown",
   "id": "7c623b08",
   "metadata": {
    "slideshow": {
     "slide_type": "subslide"
    }
   },
   "source": [
    "## <center>Overloading vs. overriding</center>\n",
    "<img src=\"plots/lecture3_overloadingvsoverriding.png\" width=\"700\" >"
   ]
  },
  {
   "cell_type": "markdown",
   "id": "58847b40",
   "metadata": {
    "slideshow": {
     "slide_type": "slide"
    }
   },
   "source": [
    "## <center>Implementation time! Task: Calculator</center>\n",
    "Write a class (or for demonstrating purposes a hierarchy of classes) that provide(s) a member function to calculate the **sum of two and three integer values,** respectively\n",
    "- Use *static* polymorphism: method overloading\n",
    "- Use *dynamic* polymorphism: method overriding"
   ]
  },
  {
   "cell_type": "markdown",
   "id": "960403c9",
   "metadata": {
    "slideshow": {
     "slide_type": "subslide"
    }
   },
   "source": [
    "## <center>Static polymorphism</center>\n",
    "<b>Method overloading</b> (at compile time), the <code>StaticCalc</code> has two member functions with <span style=color:red;>identical names</span> but <span style=color:blue;>different interface</span>; compiler can decide <b>at compile time</b> which of the two functions should be used"
   ]
  },
  {
   "cell_type": "code",
   "execution_count": null,
   "id": "4480d656",
   "metadata": {
    "slideshow": {
     "slide_type": "fragment"
    }
   },
   "outputs": [],
   "source": [
    "struct StaticCalc {\n",
    "    int sum(int a, int b) const {\n",
    "        return a + b;\n",
    "    }\n",
    "    // Overloaded function to sum three integers\n",
    "    int sum(int a, int b, int c) const { return sum(sum(a,b),c);}\n",
    "};\n",
    "int main() {\n",
    "    StaticCalc statC;\n",
    "    std::cout << \"Static sum of two integers: \" << statC.sum(1, 2) << std::endl;\n",
    "    std::cout << \"Static sum of three integers: \" << statC.sum(1, 2, 3) << std::endl;\n",
    "}"
   ]
  },
  {
   "cell_type": "markdown",
   "id": "79cac6e6",
   "metadata": {
    "slideshow": {
     "slide_type": "subslide"
    }
   },
   "source": [
    "## <center>Static polymorphism</center>\n",
    "<b>Method overloading</b> (not working!)\n",
    "\n",
    "<code>struct StaticCalcBug {\n",
    "<span style=color:red;>int sum</span>(int a, int b) { return a+b; }\n",
    "<span style=color:red;>void sum</span>(int a, int b) { std::cout&lt&lt a+b &lt&ltstd::endl;}\n",
    "};</code>\n",
    "- Difference must be in the <b>interface of the arguments passed</b>. Same name with different parameter lists is allowed (either the number of parameters or their types must differ).\n",
    "- You cannot have two functions that only differ by their <b>return type</b>. Because the return type could be cast into another type"
   ]
  },
  {
   "cell_type": "markdown",
   "id": "4dacaa69",
   "metadata": {
    "slideshow": {
     "slide_type": "subslide"
    }
   },
   "source": [
    "## <center>Static polymorphism</center>\n",
    "<b>Method overloading</b> (also not working!)\n",
    "\n",
    "<code>struct StaticCalcBug2 {\n",
    "     <span style=color:red;>int sum</span>(int <span style=color:purple;>a</span>, int <span style=color:purple;>b</span>) { return a+b; }\n",
    "     <span style=color:red;>int sum</span>(int <span style=color:purple;>c</span>, int <span style=color:purple;>d</span>) { return c+d; }\n",
    "  };</code>\n",
    "\n",
    "- The interface only refers to the  <span style=color:blue;>types</span> and not to the  <span style=color:purple;>names</span>"
   ]
  },
  {
   "cell_type": "markdown",
   "id": "838ad242",
   "metadata": {
    "slideshow": {
     "slide_type": "subslide"
    }
   },
   "source": [
    "## <center>Static polymorphism - Laaaaast! counter example</center>\n",
    "<b>Method overloading</b> (still not working!)\n",
    "\n",
    "<code>struct StaticCalcBugLast {\n",
    "     <span style=color:red;>int sum</span>(int a, int b) { return a+b; }\n",
    "     <span style=color:red;>int sum</span>(int a, int b, int <span style=color:purple;>c=1</span>) { return a+b+c; }\n",
    "  };</code>\n",
    "\n",
    "- Be careful with <span style=color:purple;>default values</span>. Here, the compiler cannot decide <b>unambiguously</b> which of the two functions should be used in the case <code>sum(arg0, arg1)</code>"
   ]
  },
  {
   "cell_type": "markdown",
   "id": "f987e1ec",
   "metadata": {
    "slideshow": {
     "slide_type": "subslide"
    }
   },
   "source": [
    "## <center>Rule of thumb:</center>\n",
    "<b>If it is not crystal clear to you which function should be used then the compiler will fail, too.</b>\n",
    "<img src=\"plots/lecture3_StaticPolyRoT.png\" width=\"300\" >"
   ]
  },
  {
   "cell_type": "markdown",
   "id": "3e013a1d",
   "metadata": {
    "slideshow": {
     "slide_type": "subslide"
    }
   },
   "source": [
    "## <center>Static polymorphism (master version1)</center>\n",
    "<b>Method overloading</b>: decision about which method to call is made at compile time; hence the compiler can decide to <b>inline code</b> to improve performance (no overhead due to\n",
    "function calls and copying of data to and from the stack!)\n",
    "\n",
    "<code>std::cout &lt&lt statC.sum(1,2)   &lt&lt std::endl;\n",
    " std::cout &lt&lt statC.sum(1,2,3) &lt&lt std::endl;</code>\n",
    " \n",
    " becomes\n",
    " \n",
    " <code>std::cout &lt&lt (1+2)        &lt&lt std::endl;\n",
    " std::cout &lt&lt ((1+2)+3)    &lt&lt std::endl;</code>"
   ]
  },
  {
   "cell_type": "markdown",
   "id": "2b09a514",
   "metadata": {
    "slideshow": {
     "slide_type": "subslide"
    }
   },
   "source": [
    "## <center>Static polymorphism (master version2)</center>\n",
    "<b>Method overloading</b>: since static polymorphism takes place at compile time, the <span style=color:red;>inline</span> specifier can be used to explicitly ‘suggest’ to the compiler to inline the function\n",
    "\n",
    "<code>struct StaticCalcMaster {\n",
    "    <span style=color:red;>inline</span> int sum(int a, int b)\n",
    "      { return a+b; }\n",
    "    <span style=color:red;>inline</span> int sum(int a, int b, int c)\n",
    "      { return sum(sum(a,b),c); }\n",
    "  };</code>"
   ]
  },
  {
   "cell_type": "markdown",
   "id": "4a19813b",
   "metadata": {
    "slideshow": {
     "slide_type": "slide"
    }
   },
   "source": [
    "## <center>Dynamic polymorphism</center>\n",
    "<b>Method overloading</b>: reimplementation of a function inherited\n",
    "from a base class with new function body and same interface!"
   ]
  },
  {
   "cell_type": "code",
   "execution_count": null,
   "id": "5fd5004f",
   "metadata": {
    "slideshow": {
     "slide_type": "fragment"
    }
   },
   "outputs": [],
   "source": [
    "struct BaseCalc {\n",
    "    virtual int sum2(int a, int b) { return a+b; }\n",
    "    int sum3(int a, int b, int c)\n",
    "        { return sum2(sum2(a,b),c); }\n",
    "  };\n",
    "struct DerivedCalc : public BaseCalc {\n",
    "    int sum2(int a, int b) override final { return b+a; }\n",
    "};"
   ]
  },
  {
   "cell_type": "code",
   "execution_count": 2,
   "id": "c900dcd3",
   "metadata": {
    "slideshow": {
     "slide_type": "subslide"
    }
   },
   "outputs": [
    {
     "ename": "SyntaxError",
     "evalue": "invalid syntax (1265796769.py, line 1)",
     "output_type": "error",
     "traceback": [
      "\u001b[0;36m  Cell \u001b[0;32mIn[2], line 1\u001b[0;36m\u001b[0m\n\u001b[0;31m    int main() {\u001b[0m\n\u001b[0m        ^\u001b[0m\n\u001b[0;31mSyntaxError\u001b[0m\u001b[0;31m:\u001b[0m invalid syntax\n"
     ]
    }
   ],
   "source": [
    "int main() {\n",
    "    BaseCalc baseCalc;\n",
    "    DerivedCalc derivedCalc;\n",
    "    // Using the base class to sum two numbers\n",
    "    std::cout << \"BaseCalc sum2: \" << baseCalc.sum2(1, 2) << std::endl; \n",
    "    // Using the base class to sum three numbers\n",
    "    std::cout << \"BaseCalc sum3: \" << baseCalc.sum3(1, 2, 3) << std::endl; \n",
    "    // Using the derived class to sum two numbers, this will use the overridden method\n",
    "    std::cout << \"DerivedCalc sum2: \" << derivedCalc.sum2(1, 2) << std::endl;\n",
    "    // Using the derived class to sum three numbers, this will use the base\n",
    "    // class method sum3, which in turn will use the overridden sum2 method\n",
    "    // from DerivedCalc\n",
    "    std::cout << \"DerivedCalc sum3: \" << derivedCalc.sum3(1, 2, 3) << std::endl; \n",
    "    return 0;\n",
    "}"
   ]
  },
  {
   "cell_type": "markdown",
   "id": "bc57403e",
   "metadata": {
    "slideshow": {
     "slide_type": "subslide"
    }
   },
   "source": [
    "## <center>Dynamic polymorphism(where things can go wrong)</center>\n",
    "<b>Method overloading</b>: a common pitfall is to forget the virtual specifier in the base class to indicate that the <code>sum2</code> function from the base class can be overridden in a derived class\n",
    "\n",
    "<code>struct BaseCalc {\n",
    "    <span style=color:red;>int sum2</span>(int a, int b) { return a+b; }\n",
    "    <span style=color:red;>int sum3</span>(int a, int b, int c){ return sum2(sum2(a,b),c); }\n",
    "  };\n",
    "  struct DerivedCalc : public BaseCalc {\n",
    "    <span style=color:red;>int sum2</span>(int a, int b) { return b+a; }\n",
    "};</code>"
   ]
  },
  {
   "cell_type": "markdown",
   "id": "a9c87041",
   "metadata": {
    "slideshow": {
     "slide_type": "subslide"
    }
   },
   "source": [
    "## <center>Dynamic polymorphism(where things can go wrong)</center>\n",
    "Take home notes, read after the lecture.\n",
    "Here's what happens if you forget <code>vitual</code> specifier\n",
    "- <b>Method Hiding:</b> In <code>DerivedCalc</code>, the <code>sum2</code> method hides the <code>sum2</code> method from <code>BaseCalc</code>. This means that if you have an object of <code>DerivedCalc</code> and call <code>sum2</code>, it will use <code>DerivedCalc</code>'s <code>sum2</code>. However, if you have a pointer or reference to <code>BaseCalc</code> that actually points to a <code>DerivedCalc</code> object and call <code>sum2</code>, it will still use <code>BaseCalc</code>'s <code>sum2</code>. This is because the method is not virtual and hence does not support polymorphic behavior.\n"
   ]
  },
  {
   "cell_type": "markdown",
   "id": "b32345e2",
   "metadata": {
    "slideshow": {
     "slide_type": "subslide"
    }
   },
   "source": [
    "- <b>No Polymorphism:</b> Without the virtual keyword in <code>BaseCalc</code>, <code>sum2</code> in <code>DerivedCalc</code> doesn't exhibit polymorphic behavior, crucial for method overriding in C++.\n",
    "\n",
    "<span style=color:red;><u>Rule of thumb:</u></span> These bugs are hard to find (they often remain unrecognised) and can be prevented by using the <code>override</code> keyword in C++11. It explicitly indicates that a function is intended to override a virtual function in a base class."
   ]
  },
  {
   "cell_type": "markdown",
   "id": "6dcfafc7",
   "metadata": {
    "slideshow": {
     "slide_type": "subslide"
    }
   },
   "source": [
    "## <center>Dynamic polymorphism - general suggestions</center>\n",
    "<b>Method overriding:</b> decision about which virtual method to call is made at run time; hence inlining is not possible\n",
    "\n",
    "Common design pattern\n",
    "- Specify <span style=color:red;>expected minimal functionality</span> of a group of classes in\n",
    "abstract base class via <span style=color:red;>pure virtual member functions</span>\n",
    "- Implement generic common functionality of a group of classes in\n",
    "abstract base class via <span style=color:red;>virtual member functions</span>\n",
    "- Implement specific functionality of a particular derived class by <span style=color:red;>overriding the pure virtual member function</span>"
   ]
  },
  {
   "cell_type": "markdown",
   "id": "910b5425",
   "metadata": {
    "slideshow": {
     "slide_type": "slide"
    }
   },
   "source": [
    "## <center>Example: inner product space</center>\n",
    "In linear algebra, an inner product space is a vector space $V$ that is equipped with a special mapping (inner product)\n",
    "$$\\langle\\cdot, \\cdot\\rangle: V \\times V \\rightarrow \\mathbb{R}\\text{ or }\\mathbb{C}$$\n",
    "Inner product spaces have a naturally induced norm\n",
    "$$\\|x\\|=\\sqrt{\\langle x, x\\rangle}$$"
   ]
  },
  {
   "cell_type": "markdown",
   "id": "a6281f42",
   "metadata": {
    "slideshow": {
     "slide_type": "subslide"
    }
   },
   "source": [
    "## <center>Example: inner product space</center>\n",
    "Class <code>InnerProductSpaceBase</code> <b>declares inner product</b> as pure\n",
    "virtual and <b>implements the naturally induced norm</b>\n",
    "\n",
    "<code>struct InnerProductBase\n",
    "{\n",
    "    <span style=color:red;>virtual</span> double <span style=color:red;>inner_product</span>(... x,... y)<span style=color:red;> = 0</span>;\n",
    "    double norm(... x) { return inner_product(x,x); } \n",
    "};</code>\n",
    "\n",
    "Derived <code>InnerProductSpace</code> class <b>implements inner product</b>\n",
    "\n",
    "<code>struct InnerProductSpace : public InnerProductSpaceBase {\n",
    "    double <span style=color:red;>inner_product</span>(... x, ... y) = { return x*y; }};</code>"
   ]
  },
  {
   "cell_type": "markdown",
   "id": "17a316d8",
   "metadata": {
    "slideshow": {
     "slide_type": "slide"
    }
   },
   "source": [
    "## <center>Implementation time! Task: Calculator2</center>\n",
    "Extend the calculator class so that it can handle numbers of integer, float and double type at the same time\n",
    "\n",
    "- Prevent manual code duplication \n",
    "- Prevent explicit type casting\n",
    "- Make use of auto-functionality (C++11/14/17) \n",
    "- Make use of template meta programming"
   ]
  },
  {
   "cell_type": "markdown",
   "id": "ef5c75ad",
   "metadata": {
    "slideshow": {
     "slide_type": "slide"
    }
   },
   "source": [
    "## <center>Vanilla implementation in C++</center>"
   ]
  },
  {
   "cell_type": "code",
   "execution_count": null,
   "id": "5ac082d6",
   "metadata": {
    "slideshow": {
     "slide_type": "fragment"
    }
   },
   "outputs": [],
   "source": [
    "#include <iostream>\n",
    "struct Calc2 {\n",
    "    int sum(int a, int b) { return a + b; }\n",
    "    int sum(int a, int b, int c) { return sum(sum(a, b), c); }\n",
    "};\n",
    "int main() {\n",
    "    Calc2 calculator;\n",
    "    // Using the sum method with two arguments\n",
    "    std::cout << \"Sum of 1 and 2: \" << calculator.sum(1, 2) << std::endl;\n",
    "    // Using the sum method with three arguments\n",
    "    std::cout << \"Sum of 1, 2, and 3: \" << calculator.sum(1, 2, 3) << std::endl;\n",
    "    return 0;\n",
    "}"
   ]
  },
  {
   "cell_type": "markdown",
   "id": "8a21afe7",
   "metadata": {
    "slideshow": {
     "slide_type": "slide"
    }
   },
   "source": [
    "## <center>Automatic return type deduction (C++11)</center>\n",
    "- Explicit definition of the function return type\n",
    "\n",
    "<code><span style=color:blue;>int</span> sum(<span style=color:blue;>int</span> a, <span style=color:blue;>int</span> b){ return a+b; }</code>\n",
    "\n",
    "- Automatic function return type (since C++11)\n",
    "\n",
    "<code><span style=color:red;>auto</span> sum(<span style=color:blue;>int</span> a, <span style=color:blue;>int b)</span>  <span style=color:red;>-> decltype(a+b)</span>\n",
    "      { return a+b; }</code>\n",
    "- By using <span style=color:red;>decltype</span>, the <b>return type</b> of the sum function is determined automatically as the type of <span style=color:red;>operator+(a,b)</span>"
   ]
  },
  {
   "cell_type": "markdown",
   "id": "e8f6a9d7",
   "metadata": {
    "slideshow": {
     "slide_type": "subslide"
    }
   },
   "source": [
    "## <center>Automatic return type deduction</center>\n",
    "<span style=color:red;>decltype</span> specifier (C++11) queries the type of an expression"
   ]
  },
  {
   "cell_type": "code",
   "execution_count": null,
   "id": "26738a9c",
   "metadata": {
    "slideshow": {
     "slide_type": "fragment"
    }
   },
   "outputs": [],
   "source": [
    "#include <iostream>\n",
    "struct Calc2 {\n",
    "    auto sum(int a, int b) -> decltype(a + b) {return a + b;}\n",
    "    auto sum(int a, int b, int c) -> decltype(sum(sum(a, b), c)) {\n",
    "        return sum(sum(a, b), c);\n",
    "    }\n",
    "};\n",
    "\n",
    "int main() {\n",
    "    Calc2 C;\n",
    "    std::cout << C.sum(1, 2) << std::endl;   // Outputs: 3\n",
    "    std::cout << C.sum(1, 2, 3) << std::endl; // Outputs: 6\n",
    "}"
   ]
  },
  {
   "cell_type": "markdown",
   "id": "85a86862",
   "metadata": {
    "slideshow": {
     "slide_type": "subslide"
    }
   },
   "source": [
    "## <center>Automatic type deduction (C++14)</center>\n",
    "C++14 deduces the type of parameters automatically\n",
    "\n",
    "<code><span style=color:red;>auto</span> sum(int a, int b) <span style=color:blue;>// no -> decltype(...) needed</span>\n",
    "    { return a+b; }\n",
    "<span style=color:red;>auto</span> sum(int a, int b, int c) <span style=color:blue;>// no -> decltype(...) needed</span>\n",
    "    { return sum(sum(a,b),c); }</code>\n",
    "    \n",
    "<u>Remark:</u> This C++14 feature helps to improve readability of the code and prevents deduction errors (due to forgotten/ inconsistent deduction rule by the programmer) but it does not solve the problem of being able to pass arguments of different types to the same function"
   ]
  },
  {
   "cell_type": "markdown",
   "id": "0e8b911b",
   "metadata": {
    "slideshow": {
     "slide_type": "slide"
    }
   },
   "source": [
    "## <center>Function templates</center>\n",
    "Template meta programming is the standard technique to deal with arbitrary (= generic) function parameters\n",
    "\n",
    "<b>Function templates:</b> allow you to implement so-called parameterized functions for generic parameter types\n",
    "\n",
    "<code><span style=color:red;>template&lt</span><span style=color:purple;>typename R</span>, <span style=color:blue;>typename A, typename B</span>> \n",
    "<span style=color:purple;>R</span> sum(<span style=color:blue;>A</span> a, <span style=color:blue;>B</span> b)\n",
    "{return a+b; }</code>"
   ]
  },
  {
   "cell_type": "markdown",
   "id": "6b4a80ea",
   "metadata": {
    "slideshow": {
     "slide_type": "subslide"
    }
   },
   "source": [
    "## <center>Function templates</center>\n",
    "Types must be specified explicitly when the function is called\n",
    "\n",
    "<code><span style=color:purple;>int</span> s1 = <span style=color:red;>sum&lt</span> <span style=color:purple;>int</span>, <span style=color:blue;>int, int</span>>(1, 2);\n",
    "<span style=color:purple;>double</span> s2 = <span style=color:red;>sum&lt</span><span style=color:purple;>double</span>, <span style=color:blue;>double, int</span>>(1.2, 2); \n",
    "<span style=color:purple;>double</span> s3 = <span style=color:red;>sum&lt</span><span style=color:purple;>double</span>,<span style=color:blue;> float, double</span>>(1.4, 2.2);\n",
    "</code>\n",
    "This can be slightly simplified by using the <b>auto specifier</b>\n",
    "\n",
    "<code><span style=color:purple;>auto</span> s1 = <span style=color:red;>sum&lt</span> <span style=color:purple;>int</span>, <span style=color:blue;>int, int</span>>(1, 2);\n",
    "<span style=color:purple;>auto</span> s2 = <span style=color:red;>sum&lt</span><span style=color:purple;>double</span>, <span style=color:blue;>double, int</span>>(1.2, 2); \n",
    "<span style=color:purple;>auto</span> s3 = <span style=color:red;>sum&lt</span><span style=color:purple;>double</span>,<span style=color:blue;> float, double</span>>(1.4, 2.2);\n",
    "</code>"
   ]
  },
  {
   "cell_type": "markdown",
   "id": "6865b8a6",
   "metadata": {
    "slideshow": {
     "slide_type": "subslide"
    }
   },
   "source": [
    "## <center>Function templates</center>\n",
    "C++11: <b>automatic return type deduction</b>\n",
    "\n",
    "<code><span style=color:red;>template&lt</span> <span style=color:blue;>typename A, typename B</span>>\n",
    "<span style=color:purple;>auto</span> sum(<span style=color:blue;>A</span> a, <span style=color:blue;>B</span> b)<span style=color:purple;> –> decltype(a+b)</span>{ return a+b; }</code>\n",
    "\n",
    "C++14: <b>automatic type deduction</b>\n",
    "\n",
    "<code><span style=color:red;>template&lt</span> <span style=color:blue;>typename A, typename B</span>>\n",
    "<span style=color:purple;>auto</span> sum(<span style=color:blue;>A</span> a, <span style=color:blue;>B</span> b){ return a+b; }</code>\n",
    "\n",
    "Usage\n",
    "\n",
    "<code><span style=color:purple;>auto</span> s1 = <span style=color:red;>sum&lt</span><span style=color:blue;>int, int</span>>(1, 2);</code>"
   ]
  },
  {
   "cell_type": "markdown",
   "id": "9a2d6392",
   "metadata": {
    "slideshow": {
     "slide_type": "subslide"
    }
   },
   "source": [
    "## <center>Function templates</center>\n",
    "How to convert this function into a templated function\n",
    "\n",
    "<code><span style=color:red;>int</span> sum(<span style=color:red;>int</span> a, <span style=color:red;>int</span> b, <span style=color:red;>int</span> c)\n",
    "{\n",
    "      return sum(sum(a,b), c);\n",
    "  }</code>"
   ]
  },
  {
   "cell_type": "markdown",
   "id": "b56ca736",
   "metadata": {
    "slideshow": {
     "slide_type": "subslide"
    }
   },
   "source": [
    "## <center>Function templates</center>\n",
    "Use explicit return type parameter (ugly!) -> NO\n",
    "<code><span style=color:red;>template&lt</span><span style=color:purple;>typename R,</span><span style=color:blue;> typename A, typename B, typename C</span><span style=color:red;>></span>\n",
    "<span style=color:purple;>auto</span> sum(<span style=color:blue;>A</span> a, <span style=color:blue;>B</span> b, <span style=color:blue;>C</span> c)\n",
    "  {\n",
    "      return <span style=color:red;>sum&lt</span><span style=color:purple;>R</span><span style=color:blue;>,C</span><span style=color:red;>></span>(<span style=color:red;>sum&lt</span><span style=color:blue;>A,B</span><span style=color:red;>></span>(a,b), c);\n",
    "  }</code>\n",
    "Guess what this function call will return\n",
    "\n",
    "<code>auto s1 = sum<span style=color:red;>&lt</span> <span style=color:purple;>int,</span> <span style=color:blue;>double,double,double</span><span style=color:red;>></span>(1.1,2.2,3.3)</code>"
   ]
  },
  {
   "cell_type": "markdown",
   "id": "1ce48f8a",
   "metadata": {
    "slideshow": {
     "slide_type": "subslide"
    }
   },
   "source": [
    "## <center>Function templates</center>\n",
    "Use a smart combination of templates and auto specifier\n",
    "\n",
    "<code><span style=color:red;>template&lt</span><span style=color:blue;>typename A, typename B</span><span style=color:red;>></span>\n",
    "<span style=color:purple;>auto</span> sum(<span style=color:blue;>A</span> a, <span style=color:blue;>B</span> b) <span style=color:purple;>-> decltype(a+b) // omit in C++14</span>\n",
    "{return a+b; }\n",
    "</code>\n",
    "\n",
    "<code><span style=color:red;>template&lt</span><span style=color:blue;>typename A, typename B, typename C</span><span style=color:red;>></span> \n",
    "<span style=color:purple;>auto</span> sum(<span style=color:blue;>A</span> a, <span style=color:blue;>B</span> b, <span style=color:blue;>C</span> c)\n",
    "{\n",
    "    return <span style=color:red;>sum&lt</span><span style=color:purple;>decltype(sum&ltA,B>(a,b))</span>,C<span style=color:red;>></span> (<span style=color:red;>sum&lt</span><span style=color:blue;>A,B</span><span style=color:red;>></span>(a,b), c);\n",
    "}</code>"
   ]
  },
  {
   "cell_type": "markdown",
   "id": "8c302c7f",
   "metadata": {
    "slideshow": {
     "slide_type": "subslide"
    }
   },
   "source": [
    "## <center>Function templates</center>\n",
    "But wait, C++ <u>can</u> deduce the type of the template\n",
    "argument from the given argument automatically\n",
    "\n",
    "<code><span style=color:red;>template&lt</span><span style=color:blue;>typename A, typename B</span><span style=color:red;>></span>\n",
    "<span style=color:purple;>auto</span> sum(<span style=color:blue;>A</span> a, <span style=color:blue;>B</span> b) <span style=color:purple;>-> decltype(a+b) // omit in C++14</span>\n",
    "{return a+b; }\n",
    "<span style=color:red;>template&lt</span><span style=color:blue;>typename A, typename B, typename C</span><span style=color:red;>></span> \n",
    "<span style=color:purple;>auto</span> sum(<span style=color:blue;>A</span> a, <span style=color:blue;>B</span> b, <span style=color:blue;>C</span> c)\n",
    "{\n",
    "    return <span style=color:red;>sum</span>(<span style=color:red;>sum</span>(a,b), c);\n",
    "}</code>"
   ]
  },
  {
   "cell_type": "markdown",
   "id": "050ba9de",
   "metadata": {
    "slideshow": {
     "slide_type": "subslide"
    }
   },
   "source": [
    "## <center>Function templates</center>\n",
    "We can call the generic sum functions as follows:\n",
    "\n",
    "<code><span style=color:purple;>auto</span> s1 = <span style=color:red;>sum&lt</span><span style=color:blue;>int, int</span><span style=color:red;>></span> (1, 2);\n",
    "<span style=color:purple;>auto</span> s2 = <span style=color:red;>sum&lt</span><span style=color:blue;>double, int</span><span style=color:red;>></span>  (1.2, 2);\n",
    "<span style=color:purple;>auto</span> s3 = <span style=color:red;>sum&lt</span><span style=color:blue;>float, double</span><span style=color:red;>></span>(1.4f, 2.2);</code>\n",
    "\n",
    "Or, even simpler, as follows:\n",
    "\n",
    "<code><span style=color:purple;>auto</span> s1 = <span style=color:red;>sum</span> (1, 2);\n",
    "<span style=color:purple;>auto s2</span> = <span style=color:red;>sum</span> (1.2, 2);\n",
    "<span style=color:purple;>auto s3</span> = <span style=color:red;>sum</span> (1.4f, 2.2)</code>"
   ]
  },
  {
   "cell_type": "markdown",
   "id": "d3cf2795",
   "metadata": {
    "slideshow": {
     "slide_type": "subslide"
    }
   },
   "source": [
    "## <center>Function templates</center>\n",
    "- Since the compiler needs to duplicate code and substitute A,B,C for each combination of templated types both the compile time and the size of the executable will increase\n",
    "- "
   ]
  },
  {
   "cell_type": "code",
   "execution_count": null,
   "id": "6b1b4643",
   "metadata": {},
   "outputs": [],
   "source": []
  }
 ],
 "metadata": {
  "celltoolbar": "Slideshow",
  "kernelspec": {
   "display_name": "Python 3 (ipykernel)",
   "language": "python",
   "name": "python3"
  },
  "language_info": {
   "codemirror_mode": {
    "name": "ipython",
    "version": 3
   },
   "file_extension": ".py",
   "mimetype": "text/x-python",
   "name": "python",
   "nbconvert_exporter": "python",
   "pygments_lexer": "ipython3",
   "version": "3.11.0"
  }
 },
 "nbformat": 4,
 "nbformat_minor": 5
}
