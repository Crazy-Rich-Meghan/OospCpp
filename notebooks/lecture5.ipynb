{
 "cells": [
  {
   "cell_type": "markdown",
   "id": "f02b0e2e",
   "metadata": {
    "slideshow": {
     "slide_type": "slide"
    }
   },
   "source": [
    "# Object-oriented scientific programming with C++\n",
    "\n",
    "Matthias Möller, Jonas Thies, Cálin Georgescu, Jingya Li (Numerical Analysis, DIAM)\n",
    "\n",
    "Lecture 5"
   ]
  },
  {
   "cell_type": "markdown",
   "id": "d2392445",
   "metadata": {
    "slideshow": {
     "slide_type": "slide"
    }
   },
   "source": [
    "## <center>Goal of this lecture</center>\n",
    "\n",
    "<a href=\"#/3\">Enumerators </a>\n",
    "\n",
    "<a href=\"#/6\">Type aliases </a>\n",
    "\n",
    "<a href=\"#/10\">Variadic template parameters</a>\n",
    "\n",
    "<a href=\"#/17\">C++ standard container classes and algorithms</a>\n",
    "\n",
    "<a href=\"#/22\">Iterators</a>\n",
    "\n",
    "Range-based and for-each for loops"
   ]
  },
  {
   "cell_type": "markdown",
   "id": "4500c017",
   "metadata": {
    "slideshow": {
     "slide_type": "slide"
    }
   },
   "source": [
    "## <center>Enumerators</center>\n",
    "Enumerators make it possible to collect named values\n",
    "`enum Color { red, green, blue };`\n",
    "\n",
    "Named values are mapped to, e.g., `red=0, green=1, blue=2`\n",
    "\n",
    "Usage\n",
    "\n",
    "```C++\n",
    "Color col = Color::red; switch col {\n",
    "      case Color::red:   // do something\n",
    "          break;\n",
    "      case Color::green: // do something else\n",
    "          break;\n",
    "}\n",
    "```"
   ]
  },
  {
   "cell_type": "markdown",
   "id": "41d1727b",
   "metadata": {
    "slideshow": {
     "slide_type": "subslide"
    }
   },
   "source": [
    "## <center>Enumerators</center>\n",
    "Enumerators can be initialised explicitly\n",
    "```C++\n",
    "enum Color { red=2, green=4, blue=8 };\n",
    "```\n",
    "Enumerators can be derived from a particular integral type\n",
    "```C++\n",
    "enum Color : int { red=2, green=4, blue=8 };\n",
    "```\n",
    "Enumerators can make use of arithmetic operations\n",
    "```C++\n",
    "enum Color { red=2, green=4, blue=8,\n",
    "               cyan = red + green   };\n",
    "```\n",
    "However, an enumerator must not occur more than once\n",
    "\n",
    "`enum TrafficLight {`<code>~~red~~</code>`, yellow,`<code>~~green~~</code>` };`"
   ]
  },
  {
   "cell_type": "markdown",
   "id": "3e4e8395",
   "metadata": {
    "slideshow": {
     "slide_type": "subslide"
    }
   },
   "source": [
    "## <center>Scoped Enumerators</center>\n",
    "C++11 introduces **scoped enumerators** which can occur\n",
    "more than once (since they have different scopes!)\n",
    "```C++\n",
    "enum class Color { red, green, blue };\n",
    "enum class TrafficLight { red, yellow, green };\n",
    "```\n",
    "For the rest, scoped enumerators can be used exactly in the same way as non-scoped enumerators\n",
    "\n",
    "```C++\n",
    "enum class Color { red=2, green=4, blue=8 };\n",
    "enum class Color : int { red=2, green=4, blue=8 };\n",
    "enum class Color { red=2, green=4, blue=8,\n",
    "                   cyan = red + green   };\n",
    "```"
   ]
  },
  {
   "cell_type": "markdown",
   "id": "04c79a21",
   "metadata": {
    "slideshow": {
     "slide_type": "slide"
    }
   },
   "source": [
    "## <center>Type aliases</center>\n",
    "_Implementation I_: type aliases via <span style=color:red;>typedef</span>\n",
    "```C++\n",
    "template<typename T, T v>\n",
    "struct trait {\n",
    "      typedef T type;           // type is a type\n",
    "      static const T value = v; // value is a variable\n",
    "  };\n",
    "```\n",
    "\n",
    "_Implementation II (since C++11)_: type aliases via <span style=color:red;>using</span>\n",
    "\n",
    "```C++\n",
    "template<typename T, T v>\n",
    "struct trait {\n",
    "      using type = T;           // type is a type\n",
    "      static const T value = v; // value is a variable\n",
    "  };\n",
    "```"
   ]
  },
  {
   "cell_type": "markdown",
   "id": "05157fab",
   "metadata": {
    "slideshow": {
     "slide_type": "subslide"
    }
   },
   "source": [
    "## <center>Type aliases</center>\n",
    "\n",
    "https://www.online-ide.com/RLlfvTsGpK"
   ]
  },
  {
   "cell_type": "code",
   "execution_count": null,
   "id": "b3d1e71d",
   "metadata": {},
   "outputs": [],
   "source": [
    "#include <iostream>\n",
    "#include <typeinfo>\n",
    "\n",
    "\n",
    "template<typename T, T v>\n",
    "struct trait {\n",
    "    typedef T type;           // type is a type\n",
    "    static const T value = v; // value is a variable\n",
    "};\n",
    "\n",
    "int main() {\n",
    "    typedef trait<int, 10> mytrait; // before C++11\n",
    "    // using mytrait = trait<int, 10>; // since C++11\n",
    "\n",
    "    std::cout << mytrait::value << \" \"\n",
    "              << typeid(mytrait::type).name()\n",
    "              << std::endl;\n",
    "\n",
    "    return 0;\n",
    "}"
   ]
  },
  {
   "cell_type": "markdown",
   "id": "90b71d8f",
   "metadata": {
    "slideshow": {
     "slide_type": "slide"
    }
   },
   "source": [
    "## <center>Intermezzo: `using` vs. `typedef`</center>\n",
    "Remember the function pointers from session 3\n",
    "```C++\n",
    "const double myfunc1(double x) { return x; }\n",
    "int main() {\n",
    "      using funcPtr = double(*) (double);\n",
    "      funcPtr f = myfunc1;\n",
    "      std::cout << f(2.3) << std::endl;\n",
    "}\n",
    "```"
   ]
  },
  {
   "cell_type": "markdown",
   "id": "ac86bbc5",
   "metadata": {
    "slideshow": {
     "slide_type": "subslide"
    }
   },
   "source": [
    "## <center>Intermezzo: `using` vs. `typedef`</center>\n",
    "This becomes much less intuitive with <span style=color:red;>typedef</span>"
   ]
  },
  {
   "cell_type": "code",
   "execution_count": null,
   "id": "162a617c",
   "metadata": {},
   "outputs": [],
   "source": [
    "#include <iostream>\n",
    "\n",
    "double myfunc1(double x) {\n",
    "    return x;\n",
    "}\n",
    "\n",
    "int main() {\n",
    "    typedef double (funcPtr)(double); // Function pointer type\n",
    "    funcPtr* f = myfunc1;               // Assign myfunc1 to pointer f\n",
    "    std::cout << f(2.3) << std::endl;  // Use the function pointer to call myfunc1\n",
    "\n",
    "    return 0;\n",
    "}"
   ]
  },
  {
   "cell_type": "markdown",
   "id": "36d2bda4",
   "metadata": {
    "slideshow": {
     "slide_type": "slide"
    }
   },
   "source": [
    "## <center>Variadic templates</center>\n",
    "**Task:** implement a function that takes an **arbitrary number** of possibly **different variables** and computes their sum\n",
    "```C++\n",
    "cout << sum(1.0)                                  << endl;\n",
    "cout << sum(1.0, 1.0)                             << endl;\n",
    "cout << sum(1.0, (int)1)                          << endl;\n",
    "cout << sum(1.0, (int)1, (float)1.3, (double)1.3) << endl;\n",
    "```"
   ]
  },
  {
   "cell_type": "markdown",
   "id": "11616b1c",
   "metadata": {
    "slideshow": {
     "slide_type": "subslide"
    }
   },
   "source": [
    "## <center>Variadic templates</center>\n",
    "None of the template meta programming techniques we know so far will solve this problem with satisfaction\n",
    "\n",
    "New concept in C++11: **variadic template parameters**\n",
    "\n",
    "**Idea:** reformulate the problem as “one + rest”:\n",
    "\n",
    "`sum(x1,x2,x3,...,xn) = x1 + sum(x2,x3,...,xn)`\n",
    "\n",
    "That is, we combine recursion and function overloading with the ability to accept an arbitrary parameter list"
   ]
  },
  {
   "cell_type": "markdown",
   "id": "9b28ce5d",
   "metadata": {
    "slideshow": {
     "slide_type": "subslide"
    }
   },
   "source": [
    "## <center>Variadic templates</center>\n",
    "Function overload for **one argument**\n",
    "```C++\n",
    "template<typename T>\n",
    "double sum(T arg) { return arg; }\n",
    "```\n",
    "Function overload for **more than one argument**\n",
    "```C++\n",
    "template<typename T, typename ... Ts>\n",
    "double sum(T arg, Ts ... args)\n",
    "{ return arg + sum(args...); }\n",
    "```\n",
    "The **template parameter pack** \n",
    "```C++\n",
    "template<typename ... Ts>\n",
    "```\n",
    "accepts zero or more template arguments but there can only be one template parameter pack per function."
   ]
  },
  {
   "cell_type": "markdown",
   "id": "f2af3edd",
   "metadata": {
    "slideshow": {
     "slide_type": "subslide"
    }
   },
   "source": [
    "## <center>Variadic templates</center>\n",
    "The number of arguments in the parameter pack can be\n",
    "detected using the `sizeof...()` function\n",
    "```C++\n",
    "template<typename ... Ts>\n",
    "  int length(Ts ... args)\n",
    "  {\n",
    "      return sizeof...(args);\n",
    "  }\n",
    "```\n",
    "**Task:** Write a type trait that determines the number of arguments passed to a function as parameter pack. In other words, implement the `sizeof...()` function yourself."
   ]
  },
  {
   "cell_type": "markdown",
   "id": "5a819ea4",
   "metadata": {
    "slideshow": {
     "slide_type": "slide"
    }
   },
   "source": [
    "## <center>Automatic return type deduction</center>\n",
    "**Task:** Implement the sum function for an arbitrary number of parameters using automatic return type deduction\n",
    "\n",
    "Function overload for **one argument** (with C++11)\n",
    "```C++\n",
    "template<typename T>\n",
    "auto sum(T arg) -> decltype(arg)\n",
    "{ return arg; }\n",
    "```\n",
    "\n",
    "Function overload for **one argument** (with C++14)\n",
    "```C++\n",
    "template<typename T>\n",
    "auto sum(T arg)\n",
    "{ return arg; }\n",
    "```"
   ]
  },
  {
   "cell_type": "markdown",
   "id": "e56389b6",
   "metadata": {
    "slideshow": {
     "slide_type": "subslide"
    }
   },
   "source": [
    "## <center>Automatic return type deduction</center>\n",
    "Function overload for **more than one argument** (C++11)\n",
    "```C++\n",
    "template<typename T, typename ... Ts>\n",
    "auto sum(T arg, Ts ... args)\n",
    "-> typename std::common_type<T, Ts...>::type\n",
    "  { return arg + sum(args...); }\n",
    "```\n",
    "Function overload for **more than one argument** (C++14)\n",
    "```C++\n",
    "template<typename T, typename ... Ts>\n",
    "  auto sum(T arg, Ts ... args)\n",
    "  { return arg + sum(args...); }\n",
    "```"
   ]
  },
  {
   "cell_type": "markdown",
   "id": "2e56f068",
   "metadata": {
    "slideshow": {
     "slide_type": "slide"
    }
   },
   "source": [
    "## <center>C++ standard containers</center>\n",
    "**Aim:** provide a set of universal container classes that\n",
    " - can **store arbitrary types** (in general, only objects of the same type (in each container; `std::tuple`  for multi-type containers)\n",
    " - provide a **uniform interface** to insert, delete, access, and manipulate, items and iterate over the items stored\n",
    " - provide optimal implementations of **standard data structures**, e.g., double-linked lists, balanced trees (red-black tree)"
   ]
  },
  {
   "cell_type": "markdown",
   "id": "545f9a34",
   "metadata": {
    "slideshow": {
     "slide_type": "subslide"
    }
   },
   "source": [
    "## <center>C++ standard containers</center>\n",
    "• `std::array`:array with compile-time size (non-resizable) \n",
    "\n",
    "• `std::vector`:array with run-time size (resizable)\n",
    "\n",
    "• `std::list`:double-linked list\n",
    "\n",
    "• `std::forward_list`:single-linked list\n",
    "\n",
    "• `std::stack`:Last-In-First-Out stack\n",
    "\n",
    "• `std::queue`:First-In-First-Out queue\n",
    "\n",
    "• `std::set/std::multiset`:Set of unique elements\n",
    "\n",
    "• `std::map/std::multimap`:Set of (key,value) elements"
   ]
  },
  {
   "cell_type": "markdown",
   "id": "4867d151",
   "metadata": {
    "slideshow": {
     "slide_type": "subslide"
    }
   },
   "source": [
    "## <center>C++ standard containers</center>\n",
    "Container classes support the following base functionality\n",
    "   - `size()`: returns the size of the container\n",
    "   - `empty()`: returns true of the container is empty\n",
    "   - `swap(container& other)`: swaps contents of containers\n",
    "Many container classes provide so-called **iterators**\n",
    "   - `begin()`, `end()`: editable iterator\n",
    "   - `cbegin()`, `cend()`: constant, i.e., non-editable iterator\n"
   ]
  },
  {
   "cell_type": "markdown",
   "id": "9836b2d8",
   "metadata": {
    "slideshow": {
     "slide_type": "slide"
    }
   },
   "source": [
    "## <center>Simple array example</center>\n",
    "```C++\n",
    "#include <array>\n",
    "std::array<int, 5> a = {1, 2, 3, 4, 5};\n",
    "std::cout << \"empty: \" << a.empty() << ”\\n”; \n",
    "std::cout << \"size: \" << (int) a.size() << ”\\n”; \n",
    "std::cout << \"max_size:\" << (int) a.max_size() << “\\n”;\n",
    "for (auto i = 0; i < a.size(); i++)\n",
    "    std::cout << a[i] << “\\n”;\n",
    "```"
   ]
  },
  {
   "cell_type": "markdown",
   "id": "1aaf95eb",
   "metadata": {
    "slideshow": {
     "slide_type": "subslide"
    }
   },
   "source": [
    "## <center>Simple array example</center>\n",
    "```C++\n",
    "#include <array>\n",
    "std::array<int, 5> a = {1, 2, 3, 4, 5};\n",
    "std::array<int, 4> b = {6, 7, 8, 9};\n",
    "\n",
    "a.swap(b);\n",
    "\n",
    "std::cout << \"size: \" << (int) a.size() << ”\\n”;\n",
    "std::cout << \"size: \" << (int) b.size() << “\\n”;\n",
    "```"
   ]
  },
  {
   "cell_type": "markdown",
   "id": "c663b729",
   "metadata": {
    "slideshow": {
     "slide_type": "slide"
    }
   },
   "source": [
    "## <center>Simple vector example</center>\n",
    "```C++\n",
    "#include <vector>\n",
    "  std::vector<int> v;\n",
    "  v.reserve(20);\n",
    "  v.push_back(42);\n",
    "  v.push_back(11);\n",
    "  v.push_back(1);\n",
    "...\n",
    "  for (auto i = 0; i < v.size(); ++i)\n",
    "      std::cout << v[i] << “\\n”;\n",
    "```"
   ]
  },
  {
   "cell_type": "markdown",
   "id": "b3535bda",
   "metadata": {
    "slideshow": {
     "slide_type": "subslide"
    }
   },
   "source": [
    "## <center>Iterators</center>\n",
    "Fixed size arrays\n",
    "<center><img src=\"plots/lecture5-it0.png\"></center>"
   ]
  },
  {
   "cell_type": "markdown",
   "id": "96a0dc21",
   "metadata": {
    "slideshow": {
     "slide_type": "subslide"
    }
   },
   "source": [
    "## <center>Iterators</center>\n",
    "Fixed size arrays\n",
    "<center><img src=\"plots/lecture5-iterator.gif\"></center>"
   ]
  },
  {
   "cell_type": "markdown",
   "id": "ed7c98e7",
   "metadata": {
    "slideshow": {
     "slide_type": "subslide"
    }
   },
   "source": [
    "## <center>Iterators</center>\n",
    "Fixed size arrays\n",
    "<center><img src=\"plots/lecture5-it9.png\"></center>"
   ]
  },
  {
   "cell_type": "markdown",
   "id": "365dafa8",
   "metadata": {
    "slideshow": {
     "slide_type": "subslide"
    }
   },
   "source": [
    "## <center>Iterators</center>\n",
    "Fixed size arrays\n",
    "<center><img src=\"plots/lecture5-itend.png\"></center>"
   ]
  },
  {
   "cell_type": "markdown",
   "id": "39ca7f09",
   "metadata": {
    "slideshow": {
     "slide_type": "slide"
    }
   },
   "source": [
    "## <center>Simple vector example</center>\n",
    "**Constant iterator** over all entries\n",
    "```C++\n",
    "for (auto it = a.cbegin(); it != a.cend(); ++it)\n",
    "      std::cout << *it << “\\n”;\n",
    "```\n",
    "**Non-constant iterator** over all entries\n",
    "```C++\n",
    "for (auto it = a.begin(); it != a.end(); ++it)\n",
    "    *it++;\n",
    "```\n",
    "More elegant screen output using **ternary operator**\n",
    "```C++\n",
    "for (auto it = a.cbegin(); it != a.cend(); ++it)\n",
    "      std::cout << *it\n",
    "                << (std::next(it,1) != a.cend() ? \",\" : \"\\n\");\n",
    "```"
   ]
  },
  {
   "cell_type": "markdown",
   "id": "34fc03d2",
   "metadata": {
    "slideshow": {
     "slide_type": "slide"
    }
   },
   "source": [
    "## <center>Simple vector example</center>\n",
    "The **ternary operator** `?:` implements an **inline if**\n",
    "```C++\n",
    "(condition ? true case : false case)\n",
    "```\n",
    "Usage:\n",
    "```C++\n",
    "– std::cout << (x>y ? x : y) << “\\n”;\n",
    "– (x>y ? x : y) = 1;\n",
    "– auto myfunc(int x, double y) // in C++14 {\n",
    "        return (x>y ? x : y);\n",
    "    }\n",
    "```"
   ]
  },
  {
   "cell_type": "markdown",
   "id": "4ca89248",
   "metadata": {
    "slideshow": {
     "slide_type": "subslide"
    }
   },
   "source": [
    "## <center>Simple vector example</center>\n",
    "**Range-based for loop** (since C++11)\n",
    "```C++\n",
    "// access by constant reference (cannot modify i at all) for ( const auto& i : a )\n",
    "      std::cout << i << “\\n”;\n",
    "  // access by value (modify the local copy)\n",
    "  for ( auto i : a )\n",
    "      std::cout << i++ << “\\n”;\n",
    "// access by reference (modify the original data) for ( auto&& i : a )\n",
    "      std::cout << i++ << “\\n”;\n",
    "```"
   ]
  },
  {
   "cell_type": "markdown",
   "id": "1cec16e9",
   "metadata": {
    "slideshow": {
     "slide_type": "slide"
    }
   },
   "source": [
    "## <center>Range-based for loops</center>\n",
    "Range-based for loops can be used with nearly all types\n",
    "```C++\n",
    "for ( int n : {0, 1, 2, 3, 4} )\n",
    "      std::cout << n << “\\n”;\n",
    "for ( double h : {0.1, 0.05, 0.025, 0.0125} )\n",
    "      auto sol = solve_poisson(h);\n",
    "for ( auto c : {std::array<int,5>(), std::array<int,1>()} ) \n",
    "    std::cout << c.size() << “\\n”;\n",
    "```"
   ]
  },
  {
   "cell_type": "markdown",
   "id": "076730b3",
   "metadata": {
    "slideshow": {
     "slide_type": "slide"
    }
   },
   "source": [
    "## <center>C++ standard algorithms</center>\n",
    "Header file `algorithm` provides many standard algorithms\n",
    "\n",
    "– for_each(begin, end, function)\n",
    "\n",
    "– position = find(begin, end, x)\n",
    "\n",
    "– position = find_if(begin, end, function) \n",
    "\n",
    "– number = count(begin, end, x)\n",
    "\n",
    "– number = count_if(begin, end, function)\n",
    "\n",
    "– sort(begin, end)\n",
    "\n",
    "– sort(begin, end, function)\n",
    "\n",
    "– position = merge(begin1, end1, begin2, end2, out) \n"
   ]
  },
  {
   "cell_type": "markdown",
   "id": "2af69daa",
   "metadata": {
    "slideshow": {
     "slide_type": "slide"
    }
   },
   "source": [
    "## <center>For-each loops</center>\n",
    "For-each loop iterates over all items and applies a user- defined unary function realized as <span style=color:blue;>lambda expression</span>\n",
    "\n",
    "```C++\n",
    "std::vector<int> v = {1, 2, 3, 4, 5};\n",
    "std::for_each(v.begin(), v.end(),\n",
    "              [](const int& n) { std::cout << \" \" << n; }); \n",
    "std::for_each(v.begin(), v.end(), [](int &n){ n++; });\n",
    "```"
   ]
  },
  {
   "cell_type": "markdown",
   "id": "fc3ce7e7",
   "metadata": {
    "slideshow": {
     "slide_type": "subslide"
    }
   },
   "source": [
    "## <center>For-each loops</center>\n",
    "For-each loop iterates over all items and applies a user- defined unary function realized as <span style=color:blue;>function object</span>\n",
    "```C++\n",
    "struct Sum {\n",
    "    Sum() : sum(0) {}\n",
    "    void operator()(int n) { sum += n; }\n",
    "    int sum;\n",
    "};\n",
    "\n",
    "Sum s = std::for_each(v.begin(), v.end(), Sum()); \n",
    "std::cout << “sum: “ << s.sum << “\\n”;\n",
    "```"
   ]
  },
  {
   "cell_type": "markdown",
   "id": "8169f944",
   "metadata": {
    "slideshow": {
     "slide_type": "slide"
    }
   },
   "source": [
    "## <center>Simple vector example</center>\n",
    "```C++\n",
    "#include <vector> \n",
    "#include <algorithm>\n",
    "  std::vector<int> v;\n",
    "  v.reserve(20);\n",
    "  v.push_back(42);\n",
    "  v.push_back(11);\n",
    "  v.push_back(1);\n",
    "  std::sort(v.begin(), v.end());\n",
    "  for (const auto& i : v)\n",
    "      std::cout << i << std::endl;\n",
    "```"
   ]
  },
  {
   "cell_type": "markdown",
   "id": "81a72296",
   "metadata": {
    "slideshow": {
     "slide_type": "subslide"
    }
   },
   "source": [
    "## <center>Simple vector example</center>\n",
    "Provide standard library **compare <span style=color:blue;>function object</span>**\n",
    "```C++\n",
    "#include <functional>\n",
    "std::sort(v.begin(), v.end(), std::greater<int>() );\n",
    "```\n",
    "Provide user-defined **comparison as <span style=color:blue;>lambda expression</span>**\n",
    "```C++\n",
    "std::sort(v.begin(), v.end(),\n",
    "            [](int x, int y) { return y<x; } );\n",
    "```"
   ]
  },
  {
   "cell_type": "markdown",
   "id": "f82dc491",
   "metadata": {
    "slideshow": {
     "slide_type": "subslide"
    }
   },
   "source": [
    "## <center>Simple vector example</center>\n",
    "Provide user-defined **comparison as <span style=color:blue;>function object</span>**\n",
    "```C++\n",
    "struct {\n",
    "      bool operator()(int x, int y) { return y>x; }\n",
    "  } customGreater;\n",
    "std::sort(v.begin(), v.end(), customGreater );\n",
    "```"
   ]
  },
  {
   "cell_type": "markdown",
   "id": "3e76d4e4",
   "metadata": {
    "slideshow": {
     "slide_type": "slide"
    }
   },
   "source": [
    "## <center>The power of iterators</center>\n",
    "C++ standard library functionality is largely based on iterators rather than absolute access via `operator[]`\n",
    "\n",
    "For data structures like `std::list` the `operator[]` is not even defined since items can be inserted arbitrarily\n",
    "\n",
    "```C++\n",
    "#include <list>\n",
    "std::list<int> L; L.push_back(13); L.push_front(3);\n",
    "L.insert(++L.begin(), 4);\n",
    "for (const auto& i : L)\n",
    "     std::cout << i << “\\n”;\n",
    "```"
   ]
  },
  {
   "cell_type": "markdown",
   "id": "2ccc8846",
   "metadata": {
    "slideshow": {
     "slide_type": "slide"
    }
   },
   "source": [
    "## <center>Iterators</center>\n",
    "<center><img src=\"plots/lecture5-doublelinkedlist.gif\"></center>"
   ]
  },
  {
   "cell_type": "markdown",
   "id": "b0119d9d",
   "metadata": {
    "slideshow": {
     "slide_type": "slide"
    }
   },
   "source": [
    "## <center>Maps</center>\n",
    "`std::map` handles <span style=color:blue;>key</span>-<span style=color:purple;>value</span> pairs efficiently\n",
    "```C++\n",
    "enum class Color { red, green, blue };\n",
    "\n",
    "std::map<Color, std::string> ColorMap = {\n",
    "      {Color::red,   “red”},\n",
    "      {Color::green, “green”},\n",
    "      {Color::blue,  ”blue”}\n",
    "  };\n",
    "std::cout << ColorMap[Color::green] << “\\n”;\n",
    "```"
   ]
  },
  {
   "cell_type": "markdown",
   "id": "f28da6d0",
   "metadata": {
    "slideshow": {
     "slide_type": "subslide"
    }
   },
   "source": [
    "## <center>Maps</center>\n",
    "`std::map` handles <span style=color:blue;>key</span>-<span style=color:purple;>value</span> pairs efficiently\n",
    "\n",
    "```C++\n",
    "enum class Color { red, green, blue };\n",
    "\n",
    "std::map<std::string, Color> ColorMapReverse = { {“red”, Color::red},\n",
    "      {“green”, Color::green},\n",
    "      {“blue”,  Color::blue}\n",
    "  };\n",
    "auto it = ColorMapReverse.find(“green”);\n",
    "std::cout << it->first        // key\n",
    "          << (int)it->second // value\n",
    "          << “\\n”;\n",
    "```"
   ]
  },
  {
   "cell_type": "markdown",
   "id": "ea3d25e1",
   "metadata": {
    "slideshow": {
     "slide_type": "slide"
    }
   },
   "source": [
    "## <center>Tuples</center>\n",
    "Container `std::tuples` stores **heterogeneous types**\n",
    "```C++\n",
    "#include <tuple>\n",
    "auto t = std::make_tuple(3.8, ‘A’, “String”);\n",
    "```\n",
    "Access to individual elements\n",
    "```C++\n",
    "std::cout << std::get<0>(t) << std::endl; \n",
    "std::cout << std::get<1>(t) << std::endl; \n",
    "std::cout << std::get<2>(t) << std::endl;\n",
    "```\n",
    "Create tuple from parameter pack\n",
    "```C++\n",
    "auto t = std::tuple<Ts...>(args...);\n",
    "```"
   ]
  },
  {
   "cell_type": "markdown",
   "id": "b16014a9",
   "metadata": {
    "slideshow": {
     "slide_type": "subslide"
    }
   },
   "source": [
    "## <center>Tuples</center>\n",
    "Get the size of the tuple\n",
    "```C++\n",
    "std::cout << std::tuple_size<decltype(t)>::value;\n",
    "```\n",
    "However, it is impossible to iterate over the elements of a tuple using any of the run-time techniques seen before\n",
    "- No operator[]\n",
    "- No iterators\n",
    "- No range-based or for-each loops\n",
    "\n",
    "**Task:** Find a way to iterate over the elements of a tuple using compile-time techniques"
   ]
  },
  {
   "cell_type": "markdown",
   "id": "30981057",
   "metadata": {
    "slideshow": {
     "slide_type": "subslide"
    }
   },
   "source": [
    "## <center>Tuples</center>\n",
    "```C++\n",
    "template<int N, typename Tuple> struct printer {\n",
    "      static void print(Tuple t) {\n",
    "          printer<N-1,Tuple>::print(t);\n",
    "          std::cout << std::get<N>(t) << \"\\n\";\n",
    "}};\n",
    "  // Specialization for first entry\n",
    "  template<typename Tuple>\n",
    "  struct printer<0,Tuple> {\n",
    "      static void print(Tuple t) {\n",
    "          std::cout << std::get<0>(t) << \"\\n\";\n",
    "}};\n",
    "```"
   ]
  },
  {
   "cell_type": "markdown",
   "id": "424ee4a4",
   "metadata": {
    "slideshow": {
     "slide_type": "subslide"
    }
   },
   "source": [
    "## <center>Tuples</center>\n",
    "Usage\n",
    "```C++\n",
    "int main() {\n",
    "    auto t = std::make_tuple(3.8, ‘A’, “String”);\n",
    "    printer<std::tuple_size<decltype(t)>::value-1, \n",
    "             decltype(t)>::print(t);\n",
    "}\n",
    "```"
   ]
  },
  {
   "cell_type": "code",
   "execution_count": null,
   "id": "81d3d273",
   "metadata": {},
   "outputs": [],
   "source": []
  }
 ],
 "metadata": {
  "celltoolbar": "Slideshow",
  "kernelspec": {
   "display_name": "Python 3 (ipykernel)",
   "language": "python",
   "name": "python3"
  },
  "language_info": {
   "codemirror_mode": {
    "name": "ipython",
    "version": 3
   },
   "file_extension": ".py",
   "mimetype": "text/x-python",
   "name": "python",
   "nbconvert_exporter": "python",
   "pygments_lexer": "ipython3",
   "version": "3.11.5"
  }
 },
 "nbformat": 4,
 "nbformat_minor": 5
}
