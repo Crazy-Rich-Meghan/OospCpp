{
 "cells": [
  {
   "cell_type": "markdown",
   "id": "e01c0b54",
   "metadata": {
    "slideshow": {
     "slide_type": "slide"
    }
   },
   "source": [
    "# Object-oriented scientific programming with C++\n",
    "\n",
    "Matthias Möller, Jonas Thies, Cálin Georgescu, Jingya Li (Numerical Analysis, DIAM)\n",
    "\n",
    "Lecture 5"
   ]
  },
  {
   "cell_type": "markdown",
   "id": "3fe75146",
   "metadata": {
    "slideshow": {
     "slide_type": "slide"
    }
   },
   "source": [
    "## <center>Goal of this lecture</center>\n",
    "\n",
    "<a href=\"#/3\">Enumerators </a>\n",
    "\n",
    "<a href=\"#/6\">Type aliases </a>\n",
    "\n",
    "<a href=\"#/10\">Variadic template parameters</a>\n",
    "\n",
    "<a href=\"#/17\">C++ standard container classes and algorithms</a>\n",
    "\n",
    "<a href=\"#/22\">Iterators</a>\n",
    "\n",
    "Range-based and for-each for loops"
   ]
  },
  {
   "cell_type": "markdown",
   "id": "81099541",
   "metadata": {
    "slideshow": {
     "slide_type": "slide"
    }
   },
   "source": [
    "## <center>Enumerators</center>\n",
    "Enumerators make it possible to collect named values\n",
    "`enum Color { red, green, blue };`\n",
    "\n",
    "Named values are mapped to, e.g., `red=0, green=1, blue=2`\n",
    "\n",
    "Usage\n",
    "\n",
    "```C++\n",
    "Color col = Color::red; switch col {\n",
    "      case Color::red:   // do something\n",
    "          break;\n",
    "      case Color::green: // do something else\n",
    "          break;\n",
    "}\n",
    "```"
   ]
  },
  {
   "cell_type": "markdown",
   "id": "cc6f3aac",
   "metadata": {
    "slideshow": {
     "slide_type": "subslide"
    }
   },
   "source": [
    "## <center>Enumerators</center>\n",
    "Enumerators can be initialised explicitly\n",
    "```C++\n",
    "enum Color { red=2, green=4, blue=8 };\n",
    "```\n",
    "Enumerators can be derived from a particular integral type\n",
    "```C++\n",
    "enum Color : int { red=2, green=4, blue=8 };\n",
    "```\n",
    "Enumerators can make use of arithmetic operations\n",
    "```C++\n",
    "enum Color { red=2, green=4, blue=8,\n",
    "               cyan = red + green   };\n",
    "```\n",
    "However, an enumerator must not occur more than once\n",
    "\n",
    "`enum TrafficLight {`<code>~~red~~</code>`, yellow,`<code>~~green~~</code>` };`"
   ]
  },
  {
   "cell_type": "markdown",
   "id": "ad5516bd",
   "metadata": {
    "slideshow": {
     "slide_type": "subslide"
    }
   },
   "source": [
    "## <center>Scoped Enumerators</center>\n",
    "C++11 introduces **scoped enumerators** which can occur\n",
    "more than once (since they have different scopes!)\n",
    "```C++\n",
    "enum class Color { red, green, blue };\n",
    "enum class TrafficLight { red, yellow, green };\n",
    "```\n",
    "For the rest, scoped enumerators can be used exactly in the same way as non-scoped enumerators\n",
    "\n",
    "```C++\n",
    "enum class Color { red=2, green=4, blue=8 };\n",
    "enum class Color : int { red=2, green=4, blue=8 };\n",
    "enum class Color { red=2, green=4, blue=8,\n",
    "                   cyan = red + green   };\n",
    "```"
   ]
  },
  {
   "cell_type": "markdown",
   "id": "8024a5fc",
   "metadata": {
    "slideshow": {
     "slide_type": "slide"
    }
   },
   "source": [
    "## <center>Type aliases</center>\n",
    "_Implementation I_: type aliases via <span style=color:red;>typedef</span>\n",
    "```C++\n",
    "template<typename T, T v>\n",
    "struct trait {\n",
    "      typedef T type;           // type is a type\n",
    "      static const T value = v; // value is a variable\n",
    "  };\n",
    "```\n",
    "\n",
    "_Implementation II (since C++11)_: type aliases via <span style=color:red;>using</span>\n",
    "\n",
    "```C++\n",
    "template<typename T, T v>\n",
    "struct trait {\n",
    "      using type = T;           // type is a type\n",
    "      static const T value = v; // value is a variable\n",
    "  };\n",
    "```"
   ]
  },
  {
   "cell_type": "markdown",
   "id": "d7ddcb78",
   "metadata": {
    "slideshow": {
     "slide_type": "subslide"
    }
   },
   "source": [
    "## <center>Type aliases</center>\n",
    "\n",
    "https://www.online-ide.com/RLlfvTsGpK"
   ]
  },
  {
   "cell_type": "code",
   "execution_count": null,
   "id": "4b7f7830",
   "metadata": {},
   "outputs": [],
   "source": [
    "#include <iostream>\n",
    "#include <typeinfo>\n",
    "\n",
    "\n",
    "template<typename T, T v>\n",
    "struct trait {\n",
    "    typedef T type;           // type is a type\n",
    "    static const T value = v; // value is a variable\n",
    "};\n",
    "\n",
    "int main() {\n",
    "    typedef trait<int, 10> mytrait; // before C++11\n",
    "    // using mytrait = trait<int, 10>; // since C++11\n",
    "\n",
    "    std::cout << mytrait::value << \" \"\n",
    "              << typeid(mytrait::type).name()\n",
    "              << std::endl;\n",
    "\n",
    "    return 0;\n",
    "}"
   ]
  },
  {
   "cell_type": "markdown",
   "id": "05a3f9de",
   "metadata": {
    "slideshow": {
     "slide_type": "slide"
    }
   },
   "source": [
    "## <center>Intermezzo: `using` vs. `typedef`</center>\n",
    "Remember the function pointers from session 3\n",
    "```C++\n",
    "const double myfunc1(double x) { return x; }\n",
    "int main() {\n",
    "      using funcPtr = double(*) (double);\n",
    "      funcPtr f = myfunc1;\n",
    "      std::cout << f(2.3) << std::endl;\n",
    "}\n",
    "```"
   ]
  },
  {
   "cell_type": "markdown",
   "id": "b373faa6",
   "metadata": {
    "slideshow": {
     "slide_type": "subslide"
    }
   },
   "source": [
    "## <center>Intermezzo: `using` vs. `typedef`</center>\n",
    "This becomes much less intuitive with <span style=color:red;>typedef</span>"
   ]
  },
  {
   "cell_type": "code",
   "execution_count": null,
   "id": "93499a03",
   "metadata": {},
   "outputs": [],
   "source": [
    "#include <iostream>\n",
    "\n",
    "double myfunc1(double x) {\n",
    "    return x;\n",
    "}\n",
    "\n",
    "int main() {\n",
    "    typedef double (funcPtr)(double); // Function pointer type\n",
    "    funcPtr* f = myfunc1;               // Assign myfunc1 to pointer f\n",
    "    std::cout << f(2.3) << std::endl;  // Use the function pointer to call myfunc1\n",
    "\n",
    "    return 0;\n",
    "}"
   ]
  },
  {
   "cell_type": "markdown",
   "id": "221dde50",
   "metadata": {
    "slideshow": {
     "slide_type": "slide"
    }
   },
   "source": [
    "## <center>Variadic templates</center>\n",
    "**Task:** implement a function that takes an **arbitrary number** of possibly **different variables** and computes their sum\n",
    "```C++\n",
    "cout << sum(1.0)                                  << endl;\n",
    "cout << sum(1.0, 1.0)                             << endl;\n",
    "cout << sum(1.0, (int)1)                          << endl;\n",
    "cout << sum(1.0, (int)1, (float)1.3, (double)1.3) << endl;\n",
    "```"
   ]
  },
  {
   "cell_type": "markdown",
   "id": "30425859",
   "metadata": {
    "slideshow": {
     "slide_type": "subslide"
    }
   },
   "source": [
    "## <center>Variadic templates</center>\n",
    "None of the template meta programming techniques we know so far will solve this problem with satisfaction\n",
    "\n",
    "New concept in C++11: **variadic template parameters**\n",
    "\n",
    "**Idea:** reformulate the problem as “one + rest”:\n",
    "\n",
    "`sum(x1,x2,x3,...,xn) = x1 + sum(x2,x3,...,xn)`\n",
    "\n",
    "That is, we combine recursion and function overloading with the ability to accept an arbitrary parameter list"
   ]
  },
  {
   "cell_type": "markdown",
   "id": "99ef73d1",
   "metadata": {
    "slideshow": {
     "slide_type": "subslide"
    }
   },
   "source": [
    "## <center>Variadic templates</center>\n",
    "Function overload for **one argument**\n",
    "```C++\n",
    "template<typename T>\n",
    "double sum(T arg) { return arg; }\n",
    "```\n",
    "Function overload for **more than one argument**\n",
    "```C++\n",
    "template<typename T, typename ... Ts>\n",
    "double sum(T arg, Ts ... args)\n",
    "{ return arg + sum(args...); }\n",
    "```\n",
    "The **template parameter pack** \n",
    "```C++\n",
    "template<typename ... Ts>\n",
    "```\n",
    "accepts zero or more template arguments but there can only be one template parameter pack per function."
   ]
  },
  {
   "cell_type": "markdown",
   "id": "bf80ad72",
   "metadata": {
    "slideshow": {
     "slide_type": "subslide"
    }
   },
   "source": [
    "## <center>Variadic templates</center>\n",
    "The number of arguments in the parameter pack can be\n",
    "detected using the `sizeof...()` function\n",
    "```C++\n",
    "template<typename ... Ts>\n",
    "  int length(Ts ... args)\n",
    "  {\n",
    "      return sizeof...(args);\n",
    "  }\n",
    "```\n",
    "**Task:** Write a type trait that determines the number of arguments passed to a function as parameter pack. In other words, implement the `sizeof...()` function yourself."
   ]
  },
  {
   "cell_type": "markdown",
   "id": "0eb40c05",
   "metadata": {
    "slideshow": {
     "slide_type": "slide"
    }
   },
   "source": [
    "## <center>Automatic return type deduction</center>\n",
    "**Task:** Implement the sum function for an arbitrary number of parameters using automatic return type deduction\n",
    "\n",
    "Function overload for **one argument** (with C++11)\n",
    "```C++\n",
    "template<typename T>\n",
    "auto sum(T arg) -> decltype(arg)\n",
    "{ return arg; }\n",
    "```\n",
    "\n",
    "Function overload for **one argument** (with C++14)\n",
    "```C++\n",
    "template<typename T>\n",
    "auto sum(T arg)\n",
    "{ return arg; }\n",
    "```"
   ]
  },
  {
   "cell_type": "markdown",
   "id": "321bacaf",
   "metadata": {
    "slideshow": {
     "slide_type": "subslide"
    }
   },
   "source": [
    "## <center>Automatic return type deduction</center>\n",
    "Function overload for **more than one argument** (C++11)\n",
    "```C++\n",
    "template<typename T, typename ... Ts>\n",
    "auto sum(T arg, Ts ... args)\n",
    "-> typename std::common_type<T, Ts...>::type\n",
    "  { return arg + sum(args...); }\n",
    "```\n",
    "Function overload for **more than one argument** (C++14)\n",
    "```C++\n",
    "template<typename T, typename ... Ts>\n",
    "  auto sum(T arg, Ts ... args)\n",
    "  { return arg + sum(args...); }\n",
    "```"
   ]
  },
  {
   "cell_type": "markdown",
   "id": "d24789bb",
   "metadata": {
    "slideshow": {
     "slide_type": "slide"
    }
   },
   "source": [
    "## <center>C++ standard containers</center>\n",
    "**Aim:** provide a set of universal container classes that\n",
    " - can **store arbitrary types** (in general, only objects of the same type (in each container; `std::tuple`  for multi-type containers)\n",
    " - provide a **uniform interface** to insert, delete, access, and manipulate, items and iterate over the items stored\n",
    " - provide optimal implementations of **standard data structures**, e.g., double-linked lists, balanced trees (red-black tree)"
   ]
  },
  {
   "cell_type": "markdown",
   "id": "b3ef959d",
   "metadata": {
    "slideshow": {
     "slide_type": "subslide"
    }
   },
   "source": [
    "## <center>C++ standard containers</center>\n",
    "• `std::array`:array with compile-time size (non-resizable) \n",
    "\n",
    "• `std::vector`:array with run-time size (resizable)\n",
    "\n",
    "• `std::list`:double-linked list\n",
    "\n",
    "• `std::forward_list`:single-linked list\n",
    "\n",
    "• `std::stack`:Last-In-First-Out stack\n",
    "\n",
    "• `std::queue`:First-In-First-Out queue\n",
    "\n",
    "• `std::set/std::multiset`:Set of unique elements\n",
    "\n",
    "• `std::map/std::multimap`:Set of (key,value) elements"
   ]
  },
  {
   "cell_type": "markdown",
   "id": "eaab3452",
   "metadata": {
    "slideshow": {
     "slide_type": "subslide"
    }
   },
   "source": [
    "## <center>C++ standard containers</center>\n",
    "Container classes support the following base functionality\n",
    "   - `size()`: returns the size of the container\n",
    "   - `empty()`: returns true of the container is empty\n",
    "   - `swap(container& other)`: swaps contents of containers\n",
    "Many container classes provide so-called **iterators**\n",
    "   - `begin()`, `end()`: editable iterator\n",
    "   - `cbegin()`, `cend()`: constant, i.e., non-editable iterator\n"
   ]
  },
  {
   "cell_type": "markdown",
   "id": "d4c27d8a",
   "metadata": {
    "slideshow": {
     "slide_type": "slide"
    }
   },
   "source": [
    "## <center>Simple array example</center>\n",
    "```C++\n",
    "#include <array>\n",
    "std::array<int, 5> a = {1, 2, 3, 4, 5};\n",
    "std::cout << \"empty: \" << a.empty() << ”\\n”; \n",
    "std::cout << \"size: \" << (int) a.size() << ”\\n”; \n",
    "std::cout << \"max_size:\" << (int) a.max_size() << “\\n”;\n",
    "for (auto i = 0; i < a.size(); i++)\n",
    "    std::cout << a[i] << “\\n”;\n",
    "```"
   ]
  },
  {
   "cell_type": "markdown",
   "id": "bfdc3763",
   "metadata": {
    "slideshow": {
     "slide_type": "subslide"
    }
   },
   "source": [
    "## <center>Simple array example</center>\n",
    "```C++\n",
    "#include <array>\n",
    "std::array<int, 5> a = {1, 2, 3, 4, 5};\n",
    "std::array<int, 4> b = {6, 7, 8, 9};\n",
    "\n",
    "a.swap(b);\n",
    "\n",
    "std::cout << \"size: \" << (int) a.size() << ”\\n”;\n",
    "std::cout << \"size: \" << (int) b.size() << “\\n”;\n",
    "```"
   ]
  },
  {
   "cell_type": "markdown",
   "id": "977db509",
   "metadata": {
    "slideshow": {
     "slide_type": "slide"
    }
   },
   "source": [
    "## <center>Simple vector example</center>\n",
    "```C++\n",
    "#include <vector>\n",
    "  std::vector<int> v;\n",
    "  v.reserve(20);\n",
    "  v.push_back(42);\n",
    "  v.push_back(11);\n",
    "  v.push_back(1);\n",
    "...\n",
    "  for (auto i = 0; i < v.size(); ++i)\n",
    "      std::cout << v[i] << “\\n”;\n",
    "```"
   ]
  },
  {
   "cell_type": "code",
   "execution_count": null,
   "id": "3756220f",
   "metadata": {},
   "outputs": [],
   "source": []
  },
  {
   "cell_type": "code",
   "execution_count": null,
   "id": "d5993d8d",
   "metadata": {},
   "outputs": [],
   "source": []
  },
  {
   "cell_type": "code",
   "execution_count": null,
   "id": "a692b9a6",
   "metadata": {},
   "outputs": [],
   "source": []
  },
  {
   "cell_type": "code",
   "execution_count": null,
   "id": "016e1ee4",
   "metadata": {},
   "outputs": [],
   "source": []
  },
  {
   "cell_type": "code",
   "execution_count": null,
   "id": "29e26f0b",
   "metadata": {},
   "outputs": [],
   "source": []
  },
  {
   "cell_type": "code",
   "execution_count": null,
   "id": "6657a9f8",
   "metadata": {},
   "outputs": [],
   "source": []
  },
  {
   "cell_type": "code",
   "execution_count": null,
   "id": "67a5558a",
   "metadata": {},
   "outputs": [],
   "source": []
  }
 ],
 "metadata": {
  "celltoolbar": "Slideshow",
  "kernelspec": {
   "display_name": "Python 3 (ipykernel)",
   "language": "python",
   "name": "python3"
  },
  "language_info": {
   "codemirror_mode": {
    "name": "ipython",
    "version": 3
   },
   "file_extension": ".py",
   "mimetype": "text/x-python",
   "name": "python",
   "nbconvert_exporter": "python",
   "pygments_lexer": "ipython3",
   "version": "3.11.5"
  }
 },
 "nbformat": 4,
 "nbformat_minor": 5
}
