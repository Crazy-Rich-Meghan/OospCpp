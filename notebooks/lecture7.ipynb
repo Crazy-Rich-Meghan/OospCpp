{
 "cells": [
  {
   "cell_type": "markdown",
   "id": "7e888bd7",
   "metadata": {
    "slideshow": {
     "slide_type": "slide"
    }
   },
   "source": [
    "# Object-oriented scientific programming with C++\n",
    "\n",
    "Matthias Möller, Jonas Thies, Cálin Georgescu, Jingya Li (Numerical Analysis, DIAM)\n",
    "\n",
    "Lecture 7"
   ]
  },
  {
   "cell_type": "markdown",
   "id": "8a6b2036",
   "metadata": {
    "slideshow": {
     "slide_type": "slide"
    }
   },
   "source": [
    "## Goal of this lecture\n",
    "<br>\n",
    "<div style=\"border: 1px solid RGB(51,165,182);\" >\n",
    "<h3 style=\"margin: auto; padding: 10px; color: RGB(51,165,182); \">The structure of a C++ program</h3>\n",
    "</div>\n",
    "\n",
    "- Seperate coompilation\n",
    "- Preprocessor #\n",
    "- Declarations and Definitions\n",
    "- Organizing Decls and Defs into Files\n",
    "- Linking\n",
    "\n",
    "<div style=\"border: 1px solid RGB(51,165,182);\" >\n",
    "<h3 style=\"margin: auto; padding: 10px; color: RGB(51,165,182); \">CMake: depart from the Weblab nutshell to the great universe</h3>\n",
    "</div>\n",
    "\n",
    "- Generate and Build\n",
    "- Hello, CMake!"
   ]
  },
  {
   "cell_type": "markdown",
   "id": "e9cd7a4c",
   "metadata": {
    "slideshow": {
     "slide_type": "slide"
    }
   },
   "source": [
    "## Separate Compilation\n",
    "\n",
    "C++ programs can vary greatly in size and complexity, as well as the number of people involved in the development. \n",
    "<br>\n",
    "\n",
    "<center><img src='plots/lecture7-gismo.png' width=\"700px\"></center>"
   ]
  },
  {
   "cell_type": "markdown",
   "id": "9ae05c53",
   "metadata": {
    "slideshow": {
     "slide_type": "subslide"
    }
   },
   "source": [
    "## Problem with Single File Programs\n",
    "<br>\n",
    "<div style=\"border-style: double;border-width: 5px;border-color: RGB(252,169,133);\" >\n",
    "<h3 style=\"margin: auto; padding: 10px; color: RGB(252,169,133); \">Problem</h3>\n",
    "    <div style=\"margin: auto;padding-left: 40px;padding-bottom: 20px;\">\n",
    "        <lu>\n",
    "            <li>Many people work on the same project.</li>\n",
    "            <li>A lot of source code.</li>\n",
    "            <li>Need long time to compile.</li>\n",
    "            <li>Want to share codes among different projects.</li>\n",
    "        </lu>\n",
    "    </div>\n",
    "</div>\n",
    "\n",
    "<br>\n",
    "<div style=\"border-style: double;border-width: 5px;border-color: RGB(133,202,93);\" >\n",
    "<h3 style=\"margin: auto; padding: 10px; color: RGB(133,202,93); \">Solution: Multiple file programs</h3>\n",
    "    <div style=\"margin: auto;padding-left: 40px;padding-bottom: 20px;\">\n",
    "        <lu>\n",
    "            <li>Divide problem code into seperate files.</li>\n",
    "            <li>Compile files separately.</li>\n",
    "            <li>Only recompile files when modified.</li>\n",
    "        </lu>\n",
    "    </div>\n",
    "</div>"
   ]
  },
  {
   "cell_type": "markdown",
   "id": "814ffc01",
   "metadata": {
    "slideshow": {
     "slide_type": "subslide"
    }
   },
   "source": [
    "## Single File Programs v.s Multiple File C++ Programs\n",
    "<br>\n",
    "<style type=\"text/css\">\n",
    ".tg  {border-collapse:collapse;border-spacing:0;margin:0px auto;}\n",
    ".tg td{border-color:black;border-style:solid;border-width:1px;font-family:Arial, sans-serif;font-size:14px;\n",
    "  overflow:hidden;padding:10px 5px;word-break:normal;}\n",
    ".tg th{border-color:black;border-style:solid;border-width:1px;font-family:Arial, sans-serif;font-size:14px;\n",
    "  font-weight:normal;overflow:hidden;padding:10px 5px;word-break:normal;}\n",
    ".tg .tg-llyw{background-color:#c0c0c0;border-color:inherit;text-align:left;vertical-align:top}\n",
    ".tg .tg-0pky{border-color:inherit;text-align:left;vertical-align:top}\n",
    "</style>\n",
    "<table class=\"tg\">\n",
    "<thead>\n",
    "  <tr>\n",
    "    <th class=\"tg-llyw\"></th>\n",
    "    <th class=\"tg-llyw\"><span style=\"font-weight:bold\">Single File Programs</span></th>\n",
    "    <th class=\"tg-llyw\"><span style=\"font-weight:bold\">Multiple File Programs</span></th>\n",
    "  </tr>\n",
    "</thead>\n",
    "<tbody>\n",
    "  <tr>\n",
    "    <td class=\"tg-0pky\"><span style=\"font-weight:bold\">Suitability</span></td>\n",
    "    <td class=\"tg-0pky\">Ideal for <span style=\"font-weight:bold\">small, simple projects</span><br>(Most assignments in this course)</td>\n",
    "    <td class=\"tg-0pky\"><span style=\"font-weight:bold\">Large, complex projects</span></td>\n",
    "  </tr>\n",
    "  <tr>\n",
    "    <td class=\"tg-0pky\"><span style=\"font-weight:bold\">Compilation Time</span></td>\n",
    "    <td class=\"tg-0pky\">Very long for large programs, <br>taking hours or days</td>\n",
    "    <td class=\"tg-0pky\">Much <span style=\"font-weight:bold\">faster</span> as files are compiled <br>separately. Only changed files <br>need recompilation.</td>\n",
    "  </tr>\n",
    "  <tr>\n",
    "    <td class=\"tg-0pky\"><span style=\"font-weight:bold\">Impact on Compiler</span></td>\n",
    "    <td class=\"tg-0pky\">Large single files might strain <br>or even break the compiler due<br> to resource demands.</td>\n",
    "    <td class=\"tg-0pky\">Less strain on the compiler as each <br>file is smaller and compiled <br>individually.</td>\n",
    "  </tr>\n",
    "  <tr>\n",
    "    <td class=\"tg-0pky\"><span style=\"font-weight:bold\">Team Collaboration</span></td>\n",
    "    <td class=\"tg-0pky\">Difficult for team collaboration.<br>Team members might interfere with<br> each other's work.</td>\n",
    "    <td class=\"tg-0pky\">Facilitates <span style=\"font-weight:bold\">parallel work</span>. <br>Team members can work on separate <br>files without interference, enhancing<br> productivity and minimizing conflicts.</td>\n",
    "  </tr>\n",
    "  <tr>\n",
    "    <td class=\"tg-0pky\"><span style=\"font-weight:bold\">Modularity and Maintenance</span></td>\n",
    "    <td class=\"tg-0pky\">Low.</td>\n",
    "    <td class=\"tg-0pky\">High.</td>\n",
    "  </tr>\n",
    "  <tr>\n",
    "    <td class=\"tg-0pky\"><span style=\"font-weight:bold\">Linking vs. Compilation Time</span></td>\n",
    "    <td class=\"tg-0pky\">Not applicable as there is only <br>one compilation step.</td>\n",
    "    <td class=\"tg-0pky\">Linking is required to combine <br>the separately compiled files into a <br>single executable. <span style=\"font-weight:bold\">Linking is generally</span><br><span style=\"font-weight:bold\"> much faster than compilation.</span></td>\n",
    "  </tr>\n",
    "</tbody>\n",
    "</table>"
   ]
  },
  {
   "cell_type": "markdown",
   "id": "7c7ee51e",
   "metadata": {
    "slideshow": {
     "slide_type": "slide"
    }
   },
   "source": [
    "## Seperate Compilation\n",
    "Every **_source code_** file is transformed through compilation into an **_object code_** file. These object code files are then **_linked together_** to create the final **_executable program_**.\n",
    "\n",
    "**Source Code:** Programming language (C++ language)\n",
    "\n",
    "**Object Code:**\n",
    "- Binary code: low-level representation of the source code, it's not yet a standalone program.\n",
    "- Exact addresses of variables and functions not known, represented by symbols.\n"
   ]
  },
  {
   "cell_type": "markdown",
   "id": "a8d78254",
   "metadata": {
    "slideshow": {
     "slide_type": "subslide"
    }
   },
   "source": [
    "## Seperate Compilation\n",
    "**Linking:** \n",
    "- The linker takes all the object code files and combines them to create a single executable file.\n",
    "- It resolves references to symbols that are defined in different object files or libraries.For example, if one object file has a function call to a function defined in another object file, the linker connects these two.\n",
    "\n",
    "**Executable:** Output of the linking process is the executable file, which can be run on a computer. This file contains all the code and resources needed to execute the program."
   ]
  },
  {
   "cell_type": "markdown",
   "id": "fbf378cc",
   "metadata": {
    "slideshow": {
     "slide_type": "slide"
    }
   },
   "source": [
    "## C++ Build Model\n",
    "- **Headers** (*.h) + **Translation Units** (*.cpp) contain source code.\n",
    "- **Preprocessor** performs text substitutions.\n",
    "- **Compiler** translates translation units into object files.\n",
    "- **Linker** links onject files and _external libraries_ into an executable.\n",
    "<center><img src='plots/lecture7-buildmodel.png' width=\"700px\"></center>"
   ]
  },
  {
   "cell_type": "markdown",
   "id": "41fca534",
   "metadata": {
    "slideshow": {
     "slide_type": "subslide"
    }
   },
   "source": [
    "## C++ Build Model\n",
    "<br>\n",
    "Based on Weblab assignment\n",
    "<center><img src='plots/lecture7-class_chart.png' width=\"900px\"></center>"
   ]
  },
  {
   "cell_type": "markdown",
   "id": "452cea5a",
   "metadata": {
    "slideshow": {
     "slide_type": "slide"
    }
   },
   "source": [
    "## Preprocessor \\#\n",
    "In the C++ build process, the preprocessor is the first step that runs before the actual compilation.\n",
    "<center><img src='plots/lecture7-preprocessor.png' width=\"500px\"></center>\n",
    "<br>\n",
    "<div style=\"border-style: double;border-width: 5px;border-color: RGB(51,165,182);\" >\n",
    "<h3 style=\"margin: auto; padding: 10px; color: RGB(51,165,182); \">The primary functions of the preprocessor include:</h3>\n",
    "    <div style=\"margin: auto;padding-left: 40px;padding-bottom: 20px;\">\n",
    "        <lu>\n",
    "            <li>Modifying the Source Code</li>\n",
    "            <li>Processing Preprocessor Instructions (Handling Lines Beginning with <span style=color:red;>#</span>)</li>\n",
    "            <li>Stripping Out Comments</li>\n",
    "        </lu>\n",
    "    </div>\n",
    "</div>\n"
   ]
  },
  {
   "cell_type": "markdown",
   "id": "df9da506",
   "metadata": {
    "slideshow": {
     "slide_type": "subslide"
    }
   },
   "source": [
    "## Preprocessor \\#\n",
    "<br>\n",
    "<div style=\"border-style: double;border-width: 5px;border-color: RGB(51,165,182);\" >\n",
    "<h3 style=\"margin: auto; padding: 10px; color: RGB(51,165,182); \">Usage in C++ (and you should limit it to that)</h3>\n",
    "    <div style=\"margin: auto;padding-left: 40px;padding-bottom: 20px;\">\n",
    "        <lu>\n",
    "            <li>combining source code (#include)</li>\n",
    "            <li>conditional compilation</li>\n",
    "            <li>obtaining platform information during compilation</li>\n",
    "        </lu>\n",
    "    </div>\n",
    "</div>"
   ]
  },
  {
   "cell_type": "markdown",
   "id": "3cfbcddd",
   "metadata": {
    "slideshow": {
     "slide_type": "slide"
    }
   },
   "source": [
    "## Preprocessor MARCOs\n",
    "Marco: a powerful feature provided by the C++ preprocessor, a tool that processes your code before it is compiled. \n",
    "\n",
    "1. **Constant Definitions**: Macros are often used to define constants. For example:\n",
    "```C++\n",
    "#define PI 3.14159\n",
    "```\n",
    "2. **Function-like Marcos:** Macros can also mimic functions. These are useful for small, repetitive code that doesn't need overhead of a function call. For instance:\n",
    "```C++\n",
    "#define SQUARE(x) ((x)*(x))\n",
    "```\n",
    "**NOTE:** it is important to use parentheses around parameters and the entire defination to ensure correct order of operations when the macro is used.\n"
   ]
  },
  {
   "cell_type": "markdown",
   "id": "dd4ce617",
   "metadata": {
    "slideshow": {
     "slide_type": "subslide"
    }
   },
   "source": [
    "## Preprocessor MARCOs continue\n",
    "3. **Conditional Compliation:** Macros can be used in conjunction with `#if`, `#ifdef`, `#ifndef`, and other preprocessor directives for conditional compilation.\n",
    "```C++\n",
    "#define DEBUG\n",
    "\n",
    "#ifdef DEBUG\n",
    "//Your own debug code goes there\n",
    "#endif\n",
    "```\n",
    "\n",
    "4. **Platform-Specific Code:** They can be used to compile code conditionally for different platforms or compilers.\n",
    "```C++\n",
    "#ifdef _WIN32\n",
    "// Windows-specific code\n",
    "#endif\n",
    "```"
   ]
  },
  {
   "cell_type": "markdown",
   "id": "c5687996",
   "metadata": {
    "slideshow": {
     "slide_type": "subslide"
    }
   },
   "source": [
    "## Special Marcos\n",
    "- `__FILE__` (current file name), `__LINE__` (current line number), `__DATE__`(MMM DD YYYY) and `__TIME__` (hh:mm:ss)\n",
    "- `__cplusplus`: This macro is defined when a source file is being compiled as C++. Its value reflects the version of the C++ standard supported by the compiler. \n",
    "    - C++98: 199711L\n",
    "    - C++11: 201103L\n",
    "    - C++14: 201402L\n",
    "    - C++17: 201703L\n",
    "    - C++20: 202002L\n",
    "    \n",
    "Example usage:\n",
    "```C++\n",
    "#if __cplusplus >= 201703L\n",
    "    // C++17 (and later) code goes here\n",
    "#endif\n",
    "```"
   ]
  },
  {
   "cell_type": "markdown",
   "id": "1b1455d9",
   "metadata": {
    "slideshow": {
     "slide_type": "slide"
    }
   },
   "source": [
    "## Preprocessor \\#include\n",
    "`#include`:used for including other files into the source file, typically header files.\n",
    "\n",
    "There are two common usages:\n",
    "\n",
    "-  Inserts a system header file from a location defined when the compiler was installed `#include <headerName>`. Example:\n",
    "```C++\n",
    "#include <iostream> //As we mentioned during lecture 1\n",
    "```\n",
    "- Inserts a file from the current directory. Example:\n",
    "```C++\n",
    "#include \"filename\"\n",
    "```\n",
    "\n",
    "<div style=\"display: flex; text-align:left; background-color: RGB(  191, 213, 232  );\" >\n",
    "<b>NOTE</b>: \n",
    "<ul>\n",
    "    <li>Since header files are included in one or more `*.cpp` files using the `#include` directive, the content of these header files can be compiled multiple times -- once for each `*.cpp` that includes them. \n",
    "        </li>\n",
    "    <li>Each `*.cpp` file is compiled only once to produce its corresaponding object file (`*.o`).    \n",
    "        </li>\n",
    "</ul>\n",
    "</div>\n"
   ]
  },
  {
   "cell_type": "markdown",
   "id": "2813cf00",
   "metadata": {
    "slideshow": {
     "slide_type": "slide"
    }
   },
   "source": [
    "## Preprocessor \\#include problems\n",
    "<br>\n",
    "<center><img src='plots/lecture7-include_problem1.png' width=\"800px\"></center>"
   ]
  },
  {
   "cell_type": "markdown",
   "id": "b8997eaf",
   "metadata": {
    "slideshow": {
     "slide_type": "subslide"
    }
   },
   "source": [
    "## Preprocessor \\#include problems continue\n",
    "\n",
    "The definition of `square(int x)` is processed two times during the compilation of `main.cpp`.\n",
    "\n",
    "<center><img src='plots/lecture7-include_problem2.png' width=\"800px\"></center>"
   ]
  },
  {
   "cell_type": "markdown",
   "id": "7347702e",
   "metadata": {
    "slideshow": {
     "slide_type": "slide"
    }
   },
   "source": [
    "## Preprocessor: deal with repeated compilation\n",
    "The repeated compilation of header file content can lead to **logner build time** and the potential for **multiple definition errors** (conflicts during the linking stage) if not managed correctly.\n",
    "\n",
    "To manage these issues, two common techniques can be used:\n",
    "<div style=\"border-style: double;border-width: 5px;border-color: RGB(51,165,182);\" >\n",
    "    <div style=\"margin: auto;padding-left: 40px;padding-bottom: 20px;padding-top: 20px;\">\n",
    "        <lu>\n",
    "            <li><b>Include Guards</b></li>\n",
    "            <li><b><code>#pragma once</code></b></li>\n",
    "        </lu>\n",
    "    </div>\n",
    "</div>\n"
   ]
  },
  {
   "cell_type": "markdown",
   "id": "5a202146",
   "metadata": {
    "slideshow": {
     "slide_type": "subslide"
    }
   },
   "source": [
    "## Preprocessor: include guards\n",
    "<center><img src='plots/lecture7-include_problem3.png' width=\"700px\"></center>"
   ]
  },
  {
   "cell_type": "markdown",
   "id": "d7352616",
   "metadata": {
    "slideshow": {
     "slide_type": "subslide"
    }
   },
   "source": [
    "## Preprocessor : \\# pragma\n",
    "`#pragma`: a special preprocessor directive used to provide additional instructions to the compiler. \n",
    "\n",
    "It is easier to use and less error-prone compared to traditional include guards.\n",
    "\n",
    "```C++\n",
    "#pragma once // tell the compiler to include a file only once in a single compilation\n",
    "```\n",
    "\n",
    "Other usage:\n",
    "```C++\n",
    "#pragma warning(disable: 4507) //disables a specific warning with the number 4507\n",
    "#pragma warning(default: 4507) //re-enable the warning\n",
    "```"
   ]
  },
  {
   "cell_type": "markdown",
   "id": "b442c21f",
   "metadata": {
    "slideshow": {
     "slide_type": "slide"
    }
   },
   "source": [
    "## Review: Declarations and Definitions\n",
    "\n",
    "A *declaration* in C++ serves to introduce or reiterate the name of an entity in the program.\n",
    "```C++\n",
    "extern int globalVar; // Declaration of a variable\n",
    "void printMessage();  // Declaration of a function\n",
    "class MyClass;        // Forward declaration of a class\n",
    "```\n",
    "\n",
    "A *definition* in C++ goes beyond the declaration by not only **introducing or reiterating the name and specifying the type** but also by **providing the actual implementation or value and allocating storage**.\n",
    "\n",
    "```C++\n",
    "int globalVar = 10;        // Definition of a variable\n",
    "void printMessage() {      // Definition of a function\n",
    "    std::cout << \"Hello\";\n",
    "}\n",
    "class MyClass {            // Definition of a class\n",
    "public:\n",
    "    void doSomething() {}\n",
    "};\n",
    "```"
   ]
  },
  {
   "cell_type": "markdown",
   "id": "59de189b",
   "metadata": {
    "slideshow": {
     "slide_type": "slide"
    }
   },
   "source": [
    "## Organizing Decls and Defs into Files\n",
    "\n",
    "Simple example:\n",
    "<center><img src='plots/lecture7-decl_def.png' width=\"600px\"></center>"
   ]
  },
  {
   "cell_type": "markdown",
   "id": "adc86520",
   "metadata": {
    "slideshow": {
     "slide_type": "slide"
    }
   },
   "source": [
    "## What's in header?\n",
    "Header files are intended to contain:\n",
    "- **Function Declarations**: Declare the functions you intend to use or implement. This tells the compiler about their existence and how they should be called.\n",
    "- **Class Declarations**\n",
    "- **Templates**: Since templates need to be known at compile time in every file where they are used, they are usually defined in header files.\n",
    "- **Global Constants and Macros**: Define constants and macros that are to be shared across multiple source files.\n",
    "- **Inline Functions**: Small functions that benefit from being inline (like getters and setters) can be defined in header files."
   ]
  },
  {
   "cell_type": "markdown",
   "id": "6dca7646",
   "metadata": {
    "slideshow": {
     "slide_type": "slide"
    }
   },
   "source": [
    "## Best Practices\n",
    "- **Include Guards:** Always use include guards (`#ifndef`, `#define`, `#endif`) or `#pragma once` in header files to prevent multiple inclusion issues.\n",
    "- **Minimize Dependencies:** Include only what is **necessary** in header files to reduce compilation times and dependencies.\n",
    "- **Consistent File Naming:** Keep a consistent naming scheme for your files. Typically, class names are used for the names of the corresponding header and source files.\n",
    "- **Avoid Using Directives in Headers**"
   ]
  },
  {
   "cell_type": "markdown",
   "id": "45971754",
   "metadata": {
    "slideshow": {
     "slide_type": "subslide"
    }
   },
   "source": [
    "## Namespace Pollution\n",
    "<br>\n",
    "<div style=\"border: 1px solid RGB(51,165,182);\" >\n",
    "<h3 style=\"margin: auto; padding: 10px; color: RGB(51,165,182); \">Avoid in headers</h3>\n",
    "</div>\n",
    "\n",
    "- using namespaces\n",
    "```C++\n",
    "using namespace std;\n",
    "```\n",
    "- using symbols of a namespace\n",
    "```C++\n",
    "using std::cout;\n",
    "```\n",
    "\n",
    "<div style=\"border: 1px solid RGB(51,165,182);\" >\n",
    "<h3 style=\"margin: auto; padding: 10px; color: RGB(51,165,182); \">WHY?</h3>\n",
    "</div>\n",
    "\n",
    ">It forces all symbols from the specified namespace into the global namespace for all source files that include that header. This can lead to unexpected name conflicts and namespace pollution."
   ]
  },
  {
   "cell_type": "markdown",
   "id": "74801d10",
   "metadata": {
    "slideshow": {
     "slide_type": "slide"
    }
   },
   "source": [
    "## Linking\n",
    "<br>\n",
    "<div style=\"border: 1px solid RGB(0,0,0);\" ><code>$ g++ -c main.cpp\n",
    "$ g++ -c math_util.cpp\n",
    "$ g++ main.o math_util.o -o myexe\n",
    "$ ./myexe</code>\n",
    "</div> \n",
    "<br>\n",
    "<div style=\"border: 1px solid RGB(51,165,182);\" >\n",
    "<h3 style=\"margin: auto; padding: 10px; color: RGB(51,165,182); \">Explaination:</h3>\n",
    "</div> \n",
    "\n",
    "- Preprocessing and compiling `main.cpp` yields `main.o`\n",
    "- Preprocessing and compiling `math_util.cpp` yields `math_util.o`\n",
    "- Linking `math_util.o` and `main.o` yields executable `myexe`\n",
    "- Run program `myexe`"
   ]
  },
  {
   "cell_type": "markdown",
   "id": "c627d828",
   "metadata": {
    "slideshow": {
     "slide_type": "slide"
    }
   },
   "source": [
    "## CMake: depart from the Weblab nutshell to the great universe\n",
    "A solution to streamline the often tedious and complex task of managing linking in C++ projects. \n",
    "\n",
    "CMake is **not** a build system like [Unix Make](https://en.wikipedia.org/wiki/Make_(software)) but a **build system generator**. It provides a family of tools and a _domain-specific_ language (DSL) to describe what the build system should achieve, you can reuse the same CMake scripts to obtain native build systems on any platform.\n",
    "\n",
    "<center><img src='plots/lecture7-cmakememe.png' width=\"700px\"></center>"
   ]
  },
  {
   "cell_type": "markdown",
   "id": "35a4e2bf",
   "metadata": {
    "slideshow": {
     "slide_type": "subslide"
    }
   },
   "source": [
    "## Generate and Build\n",
    "The process of generating a Makefile and compiling with CMake on a Linux platform is as follows:\n",
    ">1. Write the CMake configuration file, CMakeLists.txt.\n",
    ">2. Run the command cmake PATH or ccmake PATH to generate a Makefile. Here, PATH is the directory where CMakeLists.txt is located.\n",
    ">3. Use the make command to compile.\n",
    "\n",
    "<center><img src='plots/lecture7-cmake1.png' width=\"900px\"></center>"
   ]
  },
  {
   "cell_type": "markdown",
   "id": "c5bd9b5f",
   "metadata": {
    "slideshow": {
     "slide_type": "slide"
    }
   },
   "source": [
    "## Hello, CMake!\n",
    "A minimal host project:\n",
    "```C++\n",
    "//main.cpp\n",
    "#include <iostream>\n",
    "int main(){\n",
    "    std::cout << \"Hello, CMake!\"<< std::endl;\n",
    "    return 0;\n",
    "}\n",
    "```\n",
    "Assuming the working directory only contains ``main.cpp``. We need to add ``CMakeLists.txt``.\n",
    "```cmake\n",
    "#Set the requirement on minimum version of CMake\n",
    "cmake_minimum_required(VERSION 3.9)\n",
    "#Declare project and its programming language.\n",
    "project(HelloCMake)\n",
    "\n",
    "set(CMAKE_CXX_STANDARD 11)\n",
    "# Create executable target and linking\n",
    "add_executable(hellocmake main.cpp)\n",
    "```\n"
   ]
  },
  {
   "cell_type": "markdown",
   "id": "ce1905f8",
   "metadata": {
    "slideshow": {
     "slide_type": "subslide"
    }
   },
   "source": [
    "## Hello, CMake!\n",
    "Now we are ready to call CMake and get our build system. \n",
    "```bash\n",
    "cmake .\n",
    "```\n",
    "`.` represents the current directory.\n",
    "\n",
    "<br>\n",
    "<div style=\"border: 1px solid RGB(51,165,182);\" >\n",
    "<h3 style=\"margin: auto; padding: 10px; color: RGB(51,165,182); \">Best practice: out-of-source build</h3>\n",
    "</div> \n",
    "\n",
    "By specifying the project source root (**-S** option) and target build location (**-B** option) on the command line:\n",
    "```bash\n",
    "cmake -S . -B build/\n",
    "```"
   ]
  },
  {
   "cell_type": "markdown",
   "id": "03a4d84a",
   "metadata": {
    "slideshow": {
     "slide_type": "subslide"
    }
   },
   "source": [
    "## Hello, CMake!\n",
    "<br>\n",
    "<div style=\"border: 1px solid RGB(51,165,182);\" >\n",
    "<h3 style=\"margin: auto; padding: 10px; color: RGB(51,165,182); \">Classic Approach</h3>\n",
    "</div> \n",
    "\n",
    "The older CMake approach was to change to the build folder to explicitly run the build tool (**make**) from that folder:\n",
    "```bash\n",
    "mkdir build\n",
    "cd build\n",
    "cmake ..\n",
    "make\n",
    "```\n",
    "The output should be look like this:\n",
    "\n",
    "```bash\n",
    "Scanning dependencies of target hellocmake\n",
    "[ 50%] Building CXX object CMakeFiles/hellocmake.dir/main.cpp.o\n",
    "[100%] Linking CXX executable hellocmake\n",
    "[100%] Build target hellocmake\n",
    "```"
   ]
  },
  {
   "cell_type": "markdown",
   "id": "d7d7f4db",
   "metadata": {
    "slideshow": {
     "slide_type": "slide"
    }
   },
   "source": [
    "## END...\n",
    "<br>\n",
    "<div style=\"border: 1px solid RGB(51,165,182);\" >\n",
    "<h3 style=\"margin: auto; padding: 10px; color: RGB(51,165,182); \">For more information about CMake</h3>\n",
    "</div>\n",
    "\n",
    "CMake – The Dark Arts: https://blog.feabhas.com/2021/07/cmake-part-1-the-dark-arts/\n",
    "\n",
    "CMake Documentation: https://cmake.org/documentation/\n",
    "\n",
    "CMake hands-on workshop: https://enccs.github.io/cmake-workshop/\n",
    "\n",
    "C++ Starter Project with Complete CMake Setup by Jason Turner: https://github.com/cpp-best-practices/cmake_template\n",
    "<br>\n",
    "<div style=\"border: 1px solid RGB(51,165,182);\" >\n",
    "<h3 style=\"margin: auto; padding: 10px; color: RGB(51,165,182); \">For more information about C++ program structure</h3>\n",
    "</div>\n",
    "\n",
    "Back to Basics: Compiling and Linking - Ben Saks: https://www.youtube.com/watch?v=cpkDQaYttR4\n",
    "\n",
    "Beginner's Guide to Linkers: https://www.lurklurk.org/linkers/linkers.html\n"
   ]
  },
  {
   "cell_type": "markdown",
   "id": "4d6d8283",
   "metadata": {
    "slideshow": {
     "slide_type": "slide"
    }
   },
   "source": []
  }
 ],
 "metadata": {
  "celltoolbar": "Slideshow",
  "kernelspec": {
   "display_name": "Python 3 (ipykernel)",
   "language": "python",
   "name": "python3"
  },
  "language_info": {
   "codemirror_mode": {
    "name": "ipython",
    "version": 3
   },
   "file_extension": ".py",
   "mimetype": "text/x-python",
   "name": "python",
   "nbconvert_exporter": "python",
   "pygments_lexer": "ipython3",
   "version": "3.11.5"
  }
 },
 "nbformat": 4,
 "nbformat_minor": 5
}
