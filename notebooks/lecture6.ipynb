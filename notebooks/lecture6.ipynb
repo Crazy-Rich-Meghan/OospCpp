{
 "cells": [
  {
   "cell_type": "markdown",
   "id": "f02b0e2e",
   "metadata": {
    "slideshow": {
     "slide_type": "slide"
    }
   },
   "source": [
    "# Object-oriented scientific programming with C++\n",
    "\n",
    "Matthias Möller, Jonas Thies, Cálin Georgescu, Jingya Li (Numerical Analysis, DIAM)\n",
    "\n",
    "Lecture 6"
   ]
  },
  {
   "cell_type": "markdown",
   "id": "d2392445",
   "metadata": {
    "cell_style": "center",
    "slideshow": {
     "slide_type": "slide"
    }
   },
   "source": [
    "## <center>Goal of this lecture</center>\n",
    "\n",
    "Self-written iterators for user-defined containers\n",
    "\n",
    "Introduction to the concept of expression templates\n",
    "\n",
    "Memory management with smart pointers\n",
    "\n",
    "Latest and greatest features of C++17 and 20\n",
    "\n",
    "..."
   ]
  },
  {
   "cell_type": "markdown",
   "id": "4500c017",
   "metadata": {
    "cell_style": "center",
    "slideshow": {
     "slide_type": "slide"
    }
   },
   "source": [
    "## <center>Iterators</center>\n",
    "<center><img src=\"plots/lecture5-it0.png\"></center>"
   ]
  },
  {
   "cell_type": "markdown",
   "id": "3a147883",
   "metadata": {
    "slideshow": {
     "slide_type": "subslide"
    }
   },
   "source": [
    "## <center>Iterators</center>\n",
    "Fixed size arrays\n",
    "<center><img src=\"plots/lecture5-iterator.gif\"></center>"
   ]
  },
  {
   "cell_type": "markdown",
   "id": "0b519567",
   "metadata": {
    "slideshow": {
     "slide_type": "subslide"
    }
   },
   "source": [
    "## <center>Iterators</center>\n",
    "<center><img src=\"plots/lecture5-itend.png\"></center>"
   ]
  },
  {
   "cell_type": "markdown",
   "id": "50f93774",
   "metadata": {
    "slideshow": {
     "slide_type": "subslide"
    }
   },
   "source": [
    "## <center>Iterators</center>\n",
    "**Constant iterator** over all entries\n",
    "```C++\n",
    "for (auto it = a.cbegin(); it != a.cend(); ++it)\n",
    "      std::cout << *it << “\\n”;\n",
    "```\n",
    "\n",
    "**Non-constant iterator** over all entries\n",
    "```C++\n",
    "for (auto it = a.begin(); it != a.end(); ++it)\n",
    "    *it++;\n",
    "```"
   ]
  },
  {
   "cell_type": "markdown",
   "id": "d53c7a81",
   "metadata": {
    "slideshow": {
     "slide_type": "subslide"
    }
   },
   "source": [
    "## <center>Iterators</center>\n",
    "<center><img src=\"plots/lecture7-iterator1.png\"></center>"
   ]
  },
  {
   "cell_type": "markdown",
   "id": "b74357a0",
   "metadata": {
    "slideshow": {
     "slide_type": "subslide"
    }
   },
   "source": [
    "## <center>Iterators</center>\n",
    "<center><img src=\"plots/lecture7-iterator2.png\"></center>"
   ]
  },
  {
   "cell_type": "markdown",
   "id": "ee1c3a48",
   "metadata": {
    "slideshow": {
     "slide_type": "subslide"
    }
   },
   "source": [
    "## <center>Iterators</center>\n",
    "<center><img src=\"plots/lecture7-iterator3.png\"></center>"
   ]
  },
  {
   "cell_type": "markdown",
   "id": "b449f73e",
   "metadata": {
    "slideshow": {
     "slide_type": "subslide"
    }
   },
   "source": [
    "## <center>Iterators</center>\n",
    "<center><img src=\"plots/lecture7-iterator4.png\"></center>"
   ]
  },
  {
   "cell_type": "markdown",
   "id": "99c5a47a",
   "metadata": {
    "slideshow": {
     "slide_type": "subslide"
    }
   },
   "source": [
    "## <center>Iterators</center>\n",
    "<center><img src=\"plots/lecture7-iterator5.png\"></center>"
   ]
  },
  {
   "cell_type": "markdown",
   "id": "c5c68290",
   "metadata": {
    "slideshow": {
     "slide_type": "subslide"
    }
   },
   "source": [
    "## <center>Iterators</center>\n",
    "<center><img src=\"plots/lecture7-iterator6.png\"></center>"
   ]
  },
  {
   "cell_type": "markdown",
   "id": "fb7ceccd",
   "metadata": {
    "slideshow": {
     "slide_type": "subslide"
    }
   },
   "source": [
    "## <center>Iterators</center>\n",
    "<center><img src=\"plots/lecture7-iterator7.png\"></center>"
   ]
  },
  {
   "cell_type": "markdown",
   "id": "48e2d8f0",
   "metadata": {
    "slideshow": {
     "slide_type": "subslide"
    }
   },
   "source": [
    "## <center>Iterators</center>\n",
    "<center><img src=\"plots/lecture7-iterator8.png\"></center>"
   ]
  },
  {
   "cell_type": "markdown",
   "id": "9b256e1f",
   "metadata": {
    "slideshow": {
     "slide_type": "subslide"
    }
   },
   "source": [
    "## <center>Iterators</center>\n",
    "<center><img src=\"plots/lecture7-iterator9.png\"></center>"
   ]
  },
  {
   "cell_type": "markdown",
   "id": "7cdc27ae",
   "metadata": {
    "slideshow": {
     "slide_type": "subslide"
    }
   },
   "source": [
    "## <center>Iterators</center>\n",
    "<center><img src=\"plots/lecture7-iterator10.png\"></center>"
   ]
  },
  {
   "cell_type": "markdown",
   "id": "fd409170",
   "metadata": {
    "slideshow": {
     "slide_type": "subslide"
    }
   },
   "source": [
    "## <center>Iterators</center>\n",
    "<center><img src=\"plots/lecture7-iterator11.png\"></center>"
   ]
  },
  {
   "cell_type": "markdown",
   "id": "0fceaac8",
   "metadata": {
    "slideshow": {
     "slide_type": "subslide"
    }
   },
   "source": [
    "## <center>Iterators</center>\n",
    "Create unsorted Vector object and sort it\n",
    "```C++\n",
    "Vector<double> v = { 4,2,3,7,5,8,9,1,10,6 };\n",
    "std::sort(v.begin(), v.end());\n",
    "\n",
    "std::cout << “v = [“;\n",
    "for (auto it = v.begin(); it != v.end(); it++)\n",
    "     std::cout << *it\n",
    "<< (std::next(it,1) != v.end() ? “,” : “]\\n”);\n",
    "```\n",
    "Output:\n",
    "\n",
    "```C++\n",
    "x = [1,2,3,4,5,6,7,8,9,10]\n",
    "```"
   ]
  },
  {
   "cell_type": "markdown",
   "id": "40967927",
   "metadata": {
    "slideshow": {
     "slide_type": "slide"
    }
   },
   "source": [
    "## <center>Our own LA library</center>\n",
    "**Task:** Let us design our own linear algebra library that supports the following operations:\n",
    " - Element-wise Add, Sub, Div, Mul of vectors \n",
    " - Add, Sub, Div, Mul of a vector with a scalar\n",
    " - Copy assignment (other functionality can be added later)\n",
    " \n",
    "Additional requirements:\n",
    " - Support for arbitrary types: <span style=color:red;>template metaprogramming</span>\n",
    " - Mathematical notation: <span style=color:red;>operator overloading</span>"
   ]
  },
  {
   "cell_type": "markdown",
   "id": "e6a870df",
   "metadata": {
    "slideshow": {
     "slide_type": "subslide"
    }
   },
   "source": [
    "## <center>LA library</center>\n",
    "**Vector class:** Attributes\n",
    "```C++\n",
    "template<typename T> class vector {\n",
    "private:\n",
    "     // Attributes\n",
    "     T* data;\n",
    "     std::size_t n;\n",
    "```"
   ]
  },
  {
   "cell_type": "markdown",
   "id": "c88bfb1f",
   "metadata": {
    "slideshow": {
     "slide_type": "subslide"
    }
   },
   "source": [
    "## <center>LA library</center>\n",
    "**Vector class:** Constructors\n",
    "```C++\n",
    "template<typename T> class vector {\n",
    "public:\n",
    "     // Default constructor\n",
    "     vector()\n",
    "     : n(0), data(nullptr) {}\n",
    "     // Size constructor\n",
    "     vector(std::size_t n)\n",
    "     : n(n), data(new T[n]) {}\n",
    "```"
   ]
  },
  {
   "cell_type": "markdown",
   "id": "29be0e19",
   "metadata": {
    "slideshow": {
     "slide_type": "subslide"
    }
   },
   "source": [
    "## <center>LA library</center>\n",
    "**Vector class:** Constructors\n",
    "```C++\n",
    "template<typename T>\n",
    "class vector {\n",
    "    // Copy constructor\n",
    "    vector(const vector<T>& other)\n",
    "    : vector(other.size())\n",
    "    {\n",
    "      for (std::size_t i=0; i<other.size(); i++)\n",
    "          data[i] = other.data[i];\n",
    "}\n",
    "```"
   ]
  },
  {
   "cell_type": "markdown",
   "id": "a3a829da",
   "metadata": {
    "slideshow": {
     "slide_type": "subslide"
    }
   },
   "source": [
    "## <center>LA library</center>\n",
    "**Vector class:** Constructors\n",
    "```C++\n",
    "template<typename T>\n",
    "class vector {\n",
    "    // Move constructor\n",
    "    vector(vector<T>&& other)\n",
    "    {\n",
    "      data = other.data; \n",
    "      other.data = nullptr;\n",
    "      n = other.n;       \n",
    "      other.n    = 0;\n",
    "    }\n",
    "```"
   ]
  },
  {
   "cell_type": "markdown",
   "id": "f5136af3",
   "metadata": {
    "slideshow": {
     "slide_type": "subslide"
    }
   },
   "source": [
    "## <center>LA library</center>\n",
    "**Vector class:** Destructor and helper functions\n",
    "```C++\n",
    "template<typename T>\n",
    "class vector {\n",
    "    // Destructor\n",
    "    ~vector() { delete[] data; data=nullptr; n=0; }\n",
    "    // Return size\n",
    "    inline const std::size_t size() const { return n; }\n",
    "```"
   ]
  },
  {
   "cell_type": "markdown",
   "id": "b91c4dc0",
   "metadata": {
    "slideshow": {
     "slide_type": "subslide"
    }
   },
   "source": [
    "## <center>LA library</center>\n",
    "**Vector class:** Helper functions\n",
    "```C++\n",
    "template<typename T>\n",
    "class vector {\n",
    "    // Get data pointer (by constant reference)\n",
    "        inline const T& get(const std::size_t& i) const { \n",
    "            return data[i];\n",
    "    }\n",
    "    // Get data pointer (by reference)\n",
    "    inline T& get(const std::size_t& i) {\n",
    "      return data[i];\n",
    "    }\n",
    "```"
   ]
  },
  {
   "cell_type": "markdown",
   "id": "edc5ef4d",
   "metadata": {
    "slideshow": {
     "slide_type": "subslide"
    }
   },
   "source": [
    "## <center>LA library</center>\n",
    "**Vector class:** Assignment operator\n",
    "```C++\n",
    "template<typename T>\n",
    "class vector {\n",
    "    // Scalar assignment operator\n",
    "    vector<T>& operator=(const T& value) {\n",
    "      for (std::size_t i = 0; i < size(); i++)\n",
    "        data[i] = value;\n",
    "      return *this;\n",
    "}\n",
    "```"
   ]
  },
  {
   "cell_type": "markdown",
   "id": "5e0f25bd",
   "metadata": {
    "slideshow": {
     "slide_type": "subslide"
    }
   },
   "source": [
    "## <center>LA library</center>\n",
    "**Vector class:** Assignment operator\n",
    "```C++\n",
    "template<typename T>\n",
    "class vector {\n",
    "    // Copy assignment operator\n",
    "    const vector<T>& operator=(const vector<T>& other) const { \n",
    "        if (this != &other) {\n",
    "        delete[] data; n = other.size(); data = new T[n];\n",
    "        for (std::size_t i = 0; i < other.size(); i++)\n",
    "              data[i] = other.data[i];\n",
    "  }\n",
    "  return *this;\n",
    "}\n",
    "```"
   ]
  },
  {
   "cell_type": "markdown",
   "id": "6cdac8bb",
   "metadata": {
    "slideshow": {
     "slide_type": "subslide"
    }
   },
   "source": [
    "## <center>LA library</center>\n",
    "**Vector class:** Assignment operator\n",
    "```C++\n",
    "template<typename T>\n",
    "class vector {\n",
    "    // Move assignment operator\n",
    "    vector<T>& operator=(vector<T>&& other) { \n",
    "        if (this != &other) {\n",
    "            std::swap(this->data, other.data);\n",
    "            std::swap(this->n, other.n);\n",
    "            other.n = 0; delete[] other.data; other.data = nullptr;\n",
    "  }\n",
    "  return *this;\n",
    "}\n",
    "```"
   ]
  },
  {
   "cell_type": "markdown",
   "id": "b96d4368",
   "metadata": {
    "slideshow": {
     "slide_type": "subslide"
    }
   },
   "source": [
    "## <center>LA library</center>\n",
    "**Vector class:** Binary vector-vector operators **(outside class!)**\n",
    "```C++\n",
    "template<typename T1, typename T2>\n",
    "auto operator+(const vector<T1>& v1,\n",
    "               const vector<T2>& v2) { \n",
    "    vector<typename std::common_type<T1,T2>::type>\n",
    "      v(v1.size());\n",
    "    for (std::size_t i=0; i<v1.size(); i++)\n",
    "      v.get[i] = v1.get[i] + v2.get[i];\n",
    "    return v;\n",
    "}\n",
    "```\n",
    "Similar for `operator-`, `operator*` and `operator/`"
   ]
  },
  {
   "cell_type": "markdown",
   "id": "ae4b12b1",
   "metadata": {
    "slideshow": {
     "slide_type": "subslide"
    }
   },
   "source": [
    "## <center>LA library</center>\n",
    "**Vector class:** Binary vector-scalar operators **(outside class!)**\n",
    "```C++\n",
    "template<typename T1, typename T2>\n",
    "auto operator+(const vector<T1>& v1,\n",
    "               const T2& s2) { \n",
    "    vector<typename std::common_type<T1,T2>::type>\n",
    "      v(v1.size());\n",
    "    for (std::size_t i=0; i<v1.size(); i++)\n",
    "      v.get[i] = v1.get[i] + s2;\n",
    "    return v;\n",
    "}\n",
    "```\n",
    "Similar for `operator-`, `operator*` and `operator/`"
   ]
  },
  {
   "cell_type": "markdown",
   "id": "3a539aca",
   "metadata": {
    "slideshow": {
     "slide_type": "slide"
    }
   },
   "source": [
    "## <center>Quiz: LA library</center>\n",
    "What is the **theoretical complexity** (#memory transfers and #floating-point operations) of the expression `z=2*x+y/(x-3)`?"
   ]
  },
  {
   "cell_type": "markdown",
   "id": "479c8e67",
   "metadata": {
    "slideshow": {
     "slide_type": "subslide"
    }
   },
   "source": [
    "## <center>Quiz: LA library</center>\n",
    "What is the **theoretical complexity** (#memory transfers and #floating-point operations) of the expression `z=2*x+y/(x-3)`?\n",
    "\n",
    "- <span style=color:red;>Two loads (x,y) and one store (z) each of length n</span>\n",
    "- <span style=color:red;>Four times n floating-point operations (*,+,/,-)</span>"
   ]
  },
  {
   "cell_type": "markdown",
   "id": "95b2ab7e",
   "metadata": {
    "slideshow": {
     "slide_type": "subslide"
    }
   },
   "source": [
    "## <center>Quiz: LA library</center>\n",
    "What is the **theoretical complexity** (#memory transfers and #floating-point operations) of the expression `z=2*x+y/(x-3)`?\n",
    "\n",
    "- <span style=color:red;>Two loads (x,y) and one store (z) each of length n</span>\n",
    "- <span style=color:red;>Four times n floating-point operations (*,+,/,-)</span>\n",
    "\n",
    "What is the **practical complexity** of the following code?\n",
    "```C++\n",
    "int main() {\n",
    "    Vector<double> x(10), y(10), z(10); x=1.0; y=2.0; z=2*x+y/(x-3);\n",
    "}\n",
    "```"
   ]
  },
  {
   "cell_type": "markdown",
   "id": "4e731638",
   "metadata": {
    "slideshow": {
     "slide_type": "subslide"
    }
   },
   "source": [
    "## <center>Quiz: LA library</center>\n",
    "What is the **theoretical complexity** (#memory transfers and #floating-point operations) of the expression `z=2*x+y/(x-3)`?\n",
    "\n",
    "- <span style=color:red;>Two loads (x,y) and one store (z) each of length n</span>\n",
    "- <span style=color:red;>Four times n floating-point operations (*,+,/,-)</span>\n",
    "\n",
    "What is the **practical complexity** of the following code?\n",
    "```C++\n",
    "int main() {\n",
    "    Vector<double> x(10), y(10), z(10); x=1.0; y=2.0; z=2*x+y/(x-3);\n",
    "}\n",
    "```\n",
    "- <span style=color:red;>Five (!) loads and three (!) stores each of length n</span>"
   ]
  },
  {
   "cell_type": "markdown",
   "id": "c30a42cb",
   "metadata": {
    "slideshow": {
     "slide_type": "slide"
    }
   },
   "source": [
    "## <center>LA expression template library</center>\n",
    "\n",
    "<center><img src=\"plots/lecture7-LAexpression.png\"></center>"
   ]
  },
  {
   "cell_type": "markdown",
   "id": "c6942913",
   "metadata": {
    "slideshow": {
     "slide_type": "subslide"
    }
   },
   "source": [
    "## <center>LA expression template library</center>\n",
    "Implement templated vector class (derived from base class `vectorBase`) as before but remove all operators (+,-,*,/)\n",
    "\n",
    "Implement an additional **assignment operator**, which loops through the <span style=color:red;>expression e</span> and assigns the value to `data[i]`\n",
    "```C++\n",
    "template <typename E>\n",
    "  vector<T>& operator=(const E& e) {\n",
    "      for (std::size_t i = 0; i < size(); i++)\n",
    "          data[i] = e.get(i);\n",
    "      return *this;\n",
    "  }\n",
    "```"
   ]
  },
  {
   "cell_type": "markdown",
   "id": "6aa28af6",
   "metadata": {
    "slideshow": {
     "slide_type": "subslide"
    }
   },
   "source": [
    "## <center>LA expression template library</center>\n",
    "For each **binary operator** we need to implement a <span style=color:red;>helper class</span> that represents the operation in the expression tree\n",
    "```C++\n",
    "template<typename E1, typename E2>\n",
    "class VectorAdd : vectorBase {\n",
    "private:\n",
    "    const E1& e1;\n",
    "    const E2& e2;\n",
    "    \n",
    "public:\n",
    "    VectorAdd(const E1& e1, const E2& e2)\n",
    "    : e1(e1), e2(e2)\n",
    "{}\n",
    "```"
   ]
  },
  {
   "cell_type": "code",
   "execution_count": null,
   "id": "b9da3a4f",
   "metadata": {},
   "outputs": [],
   "source": []
  },
  {
   "cell_type": "code",
   "execution_count": null,
   "id": "a0565fac",
   "metadata": {},
   "outputs": [],
   "source": []
  },
  {
   "cell_type": "code",
   "execution_count": null,
   "id": "ebc286c0",
   "metadata": {},
   "outputs": [],
   "source": []
  },
  {
   "cell_type": "code",
   "execution_count": null,
   "id": "9ac0a668",
   "metadata": {},
   "outputs": [],
   "source": []
  }
 ],
 "metadata": {
  "celltoolbar": "Slideshow",
  "kernelspec": {
   "display_name": "C++17",
   "language": "C++17",
   "name": "xcpp17"
  },
  "language_info": {
   "codemirror_mode": "text/x-c++src",
   "file_extension": ".cpp",
   "mimetype": "text/x-c++src",
   "name": "c++",
   "version": "17"
  }
 },
 "nbformat": 4,
 "nbformat_minor": 5
}
