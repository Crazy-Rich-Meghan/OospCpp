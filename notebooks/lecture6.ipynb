{
 "cells": [
  {
   "cell_type": "markdown",
   "id": "f02b0e2e",
   "metadata": {
    "slideshow": {
     "slide_type": "slide"
    }
   },
   "source": [
    "# Object-oriented scientific programming with C++\n",
    "\n",
    "Matthias Möller, Jonas Thies, Cálin Georgescu, Jingya Li (Numerical Analysis, DIAM)\n",
    "\n",
    "Lecture 6"
   ]
  },
  {
   "cell_type": "markdown",
   "id": "d2392445",
   "metadata": {
    "cell_style": "center",
    "slideshow": {
     "slide_type": "slide"
    }
   },
   "source": [
    "# Goal of this lecture\n",
    "\n",
    "- Self-written iterators for user-defined containers\n",
    "\n",
    "- Introduction to the concept of expression templates\n",
    "\n",
    "- Memory management with smart pointers\n",
    "\n",
    "- Latest and greatest features of C++17 and 20\n",
    "\n",
    "- ..."
   ]
  },
  {
   "cell_type": "markdown",
   "id": "4500c017",
   "metadata": {
    "cell_style": "center",
    "slideshow": {
     "slide_type": "slide"
    }
   },
   "source": [
    "# Iterators\n",
    "<center><img src=\"plots/lecture5-it0.png\"></center>"
   ]
  },
  {
   "cell_type": "markdown",
   "id": "04f3e137",
   "metadata": {
    "slideshow": {
     "slide_type": "subslide"
    }
   },
   "source": [
    "<center><img src=\"plots/lecture5-iterator.gif\"></center>"
   ]
  },
  {
   "cell_type": "markdown",
   "id": "9513957c",
   "metadata": {
    "slideshow": {
     "slide_type": "subslide"
    }
   },
   "source": [
    "<center><img src=\"plots/lecture5-itend.png\"></center>"
   ]
  },
  {
   "cell_type": "markdown",
   "id": "39b90744",
   "metadata": {
    "slideshow": {
     "slide_type": "subslide"
    }
   },
   "source": [
    "**Constant iterator** over all entries\n",
    "```C++\n",
    "for (auto it = a.cbegin(); it != a.cend(); ++it)\n",
    "      std::cout << *it << \"\\n\";\n",
    "```\n",
    "\n",
    "**Non-constant iterator** over all entries\n",
    "```C++\n",
    "for (auto it = a.begin(); it != a.end(); ++it)\n",
    "    *it++;\n",
    "```"
   ]
  },
  {
   "cell_type": "markdown",
   "id": "86db7f06",
   "metadata": {
    "slideshow": {
     "slide_type": "slide"
    }
   },
   "source": [
    "# Iterators for user-defined containers\n",
    "<center><img src=\"plots/lecture7-iterator1.png\" width = 90%></center>"
   ]
  },
  {
   "cell_type": "markdown",
   "id": "39d4474b",
   "metadata": {
    "slideshow": {
     "slide_type": "subslide"
    }
   },
   "source": [
    "<center><img src=\"plots/lecture7-iterator2.png\" width = 90%></center>"
   ]
  },
  {
   "cell_type": "markdown",
   "id": "b311c25a",
   "metadata": {
    "slideshow": {
     "slide_type": "subslide"
    }
   },
   "source": [
    "<center><img src=\"plots/lecture7-iterator3.png\" width = 90%></center>"
   ]
  },
  {
   "cell_type": "markdown",
   "id": "38c5de33",
   "metadata": {
    "slideshow": {
     "slide_type": "subslide"
    }
   },
   "source": [
    "<center><img src=\"plots/lecture7-iterator4.png\" width = 90%></center>"
   ]
  },
  {
   "cell_type": "markdown",
   "id": "5b415d3b",
   "metadata": {
    "slideshow": {
     "slide_type": "subslide"
    }
   },
   "source": [
    "<center><img src=\"plots/lecture7-iterator5.png\" width = 90%></center>"
   ]
  },
  {
   "cell_type": "markdown",
   "id": "d52a8b5d",
   "metadata": {
    "slideshow": {
     "slide_type": "subslide"
    }
   },
   "source": [
    "<center><img src=\"plots/lecture7-iterator6.png\" width = 90%></center>"
   ]
  },
  {
   "cell_type": "markdown",
   "id": "5741620c",
   "metadata": {
    "slideshow": {
     "slide_type": "subslide"
    }
   },
   "source": [
    "<center><img src=\"plots/lecture7-iterator7.png\" width = 90%></center>"
   ]
  },
  {
   "cell_type": "markdown",
   "id": "aabe5a06",
   "metadata": {
    "slideshow": {
     "slide_type": "subslide"
    }
   },
   "source": [
    "<center><img src=\"plots/lecture7-iterator8.png\" width = 90%></center>"
   ]
  },
  {
   "cell_type": "markdown",
   "id": "e98140a2",
   "metadata": {
    "slideshow": {
     "slide_type": "subslide"
    }
   },
   "source": [
    "<center><img src=\"plots/lecture7-iterator9.png\" width = 90%></center>"
   ]
  },
  {
   "cell_type": "markdown",
   "id": "f2ca538e",
   "metadata": {
    "slideshow": {
     "slide_type": "subslide"
    }
   },
   "source": [
    "<center><img src=\"plots/lecture7-iterator10.png\" width = 90%></center>"
   ]
  },
  {
   "cell_type": "markdown",
   "id": "13a4f0ef",
   "metadata": {
    "slideshow": {
     "slide_type": "subslide"
    }
   },
   "source": [
    "<center><img src=\"plots/lecture7-iterator11.png\" width = 90%></center>"
   ]
  },
  {
   "cell_type": "markdown",
   "id": "58ee7615",
   "metadata": {
    "slideshow": {
     "slide_type": "subslide"
    }
   },
   "source": [
    "# Example: Sorting of Vectors\n",
    "Create unsorted Vector object and sort it"
   ]
  },
  {
   "cell_type": "code",
   "execution_count": null,
   "id": "674a49a7",
   "metadata": {},
   "outputs": [],
   "source": [
    "#include <iostream>\n",
    "#include <vector>\n",
    "#include <algorithm>\n",
    "\n",
    "std::vector<double> v = { 4, 2, 3, 7, 5, 8, 9, 1, 10, 6 };\n",
    "std::sort(v.begin(), v.end());\n",
    "\n",
    "std::cout << \"v = [\";\n",
    "for (auto it = v.begin(); it != v.end(); it++) {\n",
    "        std::cout << *it << (std::next(it, 1) != v.end() ? \", \" : \"]\\n\");\n",
    "    }"
   ]
  },
  {
   "cell_type": "markdown",
   "id": "622100ed",
   "metadata": {
    "slideshow": {
     "slide_type": "slide"
    }
   },
   "source": [
    "# Linear algebra library\n",
    "**Task:** Let us design our own linear algebra library that supports the following operations:\n",
    " - Element-wise Add, Sub, Div, Mul of vectors \n",
    " - Add, Sub, Div, Mul of a vector with a scalar\n",
    " - Copy assignment (other functionality can be added later)\n",
    " \n",
    "Additional requirements:\n",
    " - Support for arbitrary types: <span style=color:red;>template metaprogramming</span>\n",
    " - Mathematical notation: <span style=color:red;>operator overloading</span>"
   ]
  },
  {
   "cell_type": "markdown",
   "id": "b32c0b31",
   "metadata": {
    "slideshow": {
     "slide_type": "subslide"
    }
   },
   "source": [
    "**Vector class:** Attributes\n",
    "\n",
    "For the whole program: https://www.online-cpp.com/3DwpTrm4qB\n",
    "\n",
    "```C++\n",
    "template<typename T> class vector {\n",
    "private:\n",
    "     // Attributes\n",
    "     T* data;\n",
    "     std::size_t n;\n",
    "```"
   ]
  },
  {
   "cell_type": "markdown",
   "id": "9ee9f501",
   "metadata": {
    "slideshow": {
     "slide_type": "subslide"
    }
   },
   "source": [
    "**Vector class:** Constructors\n",
    "```C++\n",
    "template<typename T> class vector {\n",
    "public:\n",
    "     // Default constructor\n",
    "     vector()\n",
    "     : n(0), data(nullptr) {}\n",
    "     // Size constructor\n",
    "     vector(std::size_t n)\n",
    "     : n(n), data(new T[n]) {}\n",
    "...    \n",
    "```"
   ]
  },
  {
   "cell_type": "markdown",
   "id": "abcd2c1a",
   "metadata": {
    "slideshow": {
     "slide_type": "subslide"
    }
   },
   "source": [
    "**Vector class:** Constructors\n",
    "```C++\n",
    "template<typename T>\n",
    "class vector {\n",
    "    // Copy constructor\n",
    "    vector(const vector<T>& other)\n",
    "    : vector(other.size())\n",
    "    {\n",
    "      for (std::size_t i=0; i<other.size(); i++)\n",
    "          data[i] = other.data[i];\n",
    "    }\n",
    " ...\n",
    "```"
   ]
  },
  {
   "cell_type": "markdown",
   "id": "b5ceaff6",
   "metadata": {
    "slideshow": {
     "slide_type": "subslide"
    }
   },
   "source": [
    "**Vector class:** Constructors\n",
    "```C++\n",
    "template<typename T>\n",
    "class vector {\n",
    "    // Move constructor\n",
    "    vector(vector<T>&& other)\n",
    "    {\n",
    "      data = other.data; \n",
    "      other.data = nullptr;\n",
    "      n = other.n;       \n",
    "      other.n    = 0;\n",
    "    }\n",
    "    ...\n",
    "```"
   ]
  },
  {
   "cell_type": "markdown",
   "id": "dada4fd9",
   "metadata": {
    "slideshow": {
     "slide_type": "subslide"
    }
   },
   "source": [
    "**Vector class:** Destructor and helper functions\n",
    "```C++\n",
    "template<typename T>\n",
    "class vector {\n",
    "    // Destructor\n",
    "    ~vector() { delete[] data; data=nullptr; n=0; }\n",
    "    // Return size\n",
    "    inline const std::size_t size() const { return n; }\n",
    "```"
   ]
  },
  {
   "cell_type": "markdown",
   "id": "f8b683c8",
   "metadata": {
    "slideshow": {
     "slide_type": "subslide"
    }
   },
   "source": [
    "**Vector class:** Helper functions\n",
    "```C++\n",
    "template<typename T>\n",
    "class vector {\n",
    "    // Get data pointer (by constant reference)\n",
    "    inline const T& get(const std::size_t& i) const { \n",
    "            return data[i];\n",
    "    }\n",
    "    // Get data pointer (by reference)\n",
    "    inline T& get(const std::size_t& i) {\n",
    "      return data[i];\n",
    "    }\n",
    "```"
   ]
  },
  {
   "cell_type": "markdown",
   "id": "b8f8c6f2",
   "metadata": {
    "slideshow": {
     "slide_type": "subslide"
    }
   },
   "source": [
    "**Vector class:** Assignment operator\n",
    "```C++\n",
    "template<typename T>\n",
    "class vector {\n",
    "    // Scalar assignment operator\n",
    "    vector<T>& operator=(const T& value) {\n",
    "      for (std::size_t i = 0; i < size(); i++)\n",
    "        data[i] = value;\n",
    "      return *this;\n",
    "}\n",
    "```"
   ]
  },
  {
   "cell_type": "markdown",
   "id": "c2196aff",
   "metadata": {
    "slideshow": {
     "slide_type": "subslide"
    }
   },
   "source": [
    "**Vector class:** Assignment operator\n",
    "```C++\n",
    "template<typename T>\n",
    "class vector {\n",
    "    // Copy assignment operator\n",
    "    const vector<T>& operator=(const vector<T>& other) const { \n",
    "        if (this != &other) {\n",
    "        delete[] data; n = other.size(); data = new T[n];\n",
    "        for (std::size_t i = 0; i < other.size(); i++)\n",
    "              data[i] = other.data[i];\n",
    "  }\n",
    "  return *this;\n",
    "}\n",
    "```"
   ]
  },
  {
   "cell_type": "markdown",
   "id": "f767f6e3",
   "metadata": {
    "slideshow": {
     "slide_type": "subslide"
    }
   },
   "source": [
    "**Vector class:** Assignment operator\n",
    "```C++\n",
    "template<typename T>\n",
    "class vector {\n",
    "    // Move assignment operator\n",
    "    vector<T>& operator=(vector<T>&& other) { \n",
    "        if (this != &other) {\n",
    "            std::swap(this->data, other.data);\n",
    "            std::swap(this->n, other.n);\n",
    "            other.n = 0; delete[] other.data; other.data = nullptr;\n",
    "  }\n",
    "  return *this;\n",
    "}\n",
    "```"
   ]
  },
  {
   "cell_type": "markdown",
   "id": "0cc238b1",
   "metadata": {
    "slideshow": {
     "slide_type": "subslide"
    }
   },
   "source": [
    "**Vector class:** Binary vector-vector operators **(outside class!)**\n",
    "```C++\n",
    "template<typename T1, typename T2>\n",
    "auto operator+(const vector<T1>& v1,\n",
    "               const vector<T2>& v2) { \n",
    "    vector<typename std::common_type<T1,T2>::type>\n",
    "      v(v1.size());\n",
    "    for (std::size_t i=0; i<v1.size(); i++)\n",
    "      v.get[i] = v1.get[i] + v2.get[i];\n",
    "    return v;\n",
    "}\n",
    "```\n",
    "Similar for `operator-`, `operator*` and `operator/`"
   ]
  },
  {
   "cell_type": "markdown",
   "id": "61757a50",
   "metadata": {
    "slideshow": {
     "slide_type": "subslide"
    }
   },
   "source": [
    "**Vector class:** Binary vector-scalar operators **(outside class!)**\n",
    "```C++\n",
    "template<typename T1, typename T2>\n",
    "auto operator+(const vector<T1>& v1,\n",
    "               const T2& s2) { \n",
    "    vector<typename std::common_type<T1,T2>::type>\n",
    "      v(v1.size());\n",
    "    for (std::size_t i=0; i<v1.size(); i++)\n",
    "      v.get[i] = v1.get[i] + s2;\n",
    "    return v;\n",
    "}\n",
    "```\n",
    "Similar for `operator-`, `operator*` and `operator/`"
   ]
  },
  {
   "cell_type": "markdown",
   "id": "1741f32f",
   "metadata": {
    "slideshow": {
     "slide_type": "slide"
    }
   },
   "source": [
    "# Quiz: Linear algebra library\n",
    "What is the **theoretical complexity** (#memory transfers and #floating-point operations) of the expression `z=2*x+y/(x-3)`?"
   ]
  },
  {
   "cell_type": "markdown",
   "id": "1910f9d6",
   "metadata": {
    "slideshow": {
     "slide_type": "fragment"
    }
   },
   "source": [
    "- Two loads (`x`,`y`) and one store (`z`) each of length `n`\n",
    "- Four times `n` floating-point operations (`*`,`+`,`/`,`-`)"
   ]
  },
  {
   "cell_type": "markdown",
   "id": "e8fe7a7d",
   "metadata": {
    "slideshow": {
     "slide_type": "fragment"
    }
   },
   "source": [
    "What is the **practical complexity** of the following code? (https://www.online-cpp.com/CszH10vqGJ)\n",
    "```C++\n",
    "int main() {\n",
    "    Vector<double> x(10), y(10), z(10); x=1.0; y=2.0; \n",
    "    z=2*x+y/(x-3);\n",
    "}\n",
    "```"
   ]
  },
  {
   "cell_type": "markdown",
   "id": "c177045a",
   "metadata": {
    "slideshow": {
     "slide_type": "fragment"
    }
   },
   "source": [
    "- Five loads and three stores each of length `n`"
   ]
  },
  {
   "cell_type": "markdown",
   "id": "05d2b29c",
   "metadata": {
    "slideshow": {
     "slide_type": "slide"
    }
   },
   "source": [
    "# Expression template library for linear algebra\n",
    "\n",
    "<center><img src=\"plots/lecture7-LAexpression.png\" width = 90%></center>"
   ]
  },
  {
   "cell_type": "markdown",
   "id": "97c4a541",
   "metadata": {
    "slideshow": {
     "slide_type": "subslide"
    }
   },
   "source": [
    "Implement templated vector class (derived from base class `vectorBase`) as before but remove all operators (`+`,`-`,`*`,`/`)\n",
    "\n",
    "Implement an additional **assignment operator**, which loops through the <span style=color:red;>expression e</span> and assigns the value to `data[i]`\n",
    "```C++\n",
    "template <typename E>\n",
    "vector<T>& operator=(const E& e) {\n",
    "      for (std::size_t i = 0; i < size(); i++)\n",
    "          data[i] = e.get(i);\n",
    "      return *this;\n",
    "}\n",
    "```"
   ]
  },
  {
   "cell_type": "markdown",
   "id": "1642ba6e",
   "metadata": {
    "slideshow": {
     "slide_type": "subslide"
    }
   },
   "source": [
    "For each **binary operator** we need to implement a <span style=color:red;>helper class</span> that represents the operation in the expression tree\n",
    "```C++\n",
    "template<typename E1, typename E2>\n",
    "class VectorAdd : vectorBase {\n",
    "private:\n",
    "    const E1& e1;\n",
    "    const E2& e2;\n",
    "    \n",
    "public:\n",
    "    VectorAdd(const E1& e1, const E2& e2)\n",
    "    : e1(e1), e2(e2)\n",
    "{}\n",
    "...\n",
    "```"
   ]
  },
  {
   "cell_type": "markdown",
   "id": "1c1ff576",
   "metadata": {
    "slideshow": {
     "slide_type": "subslide"
    }
   },
   "source": [
    "For each **binary operator** we need to implement a <span style=color:red;>helper class</span> that represents the operation in the expression tree\n",
    "```C++\n",
    "template<typename E1, typename E2>\n",
    "class VectorAdd : vectorBase {\n",
    "...\n",
    "    inline const\n",
    "    typename std::common_type<typename E1::value_type,\n",
    "                              typename E2::value_type>::type\n",
    "    get(std::size_t index) const {\n",
    "      return e1.get(index) + e2.get(index);\n",
    "    }\n",
    "};\n",
    "```"
   ]
  },
  {
   "cell_type": "markdown",
   "id": "3069b373",
   "metadata": {
    "slideshow": {
     "slide_type": "subslide"
    }
   },
   "source": [
    "For each **binary operator** we need to implement a <span style=color:red;>helper class</span> that represents the operation in the expression tree\n",
    "```C++\n",
    "template<typename E1, typename E2>\n",
    "class VectorAdd : vectorBase { ... };\n",
    "```\n",
    "Base class `vectorBase` has no functionality and is used to check if a template argument belongs to the expression tree\n",
    "```C++\n",
    "typename std::enable_if< \n",
    "            std::is_base_of<vectorBase, E1>::value\n",
    "              >::type\n",
    "```"
   ]
  },
  {
   "cell_type": "markdown",
   "id": "3c9345a5",
   "metadata": {
    "slideshow": {
     "slide_type": "subslide"
    }
   },
   "source": [
    "Implement the corresponding binary operator <span style=color:blue;>overload</span>\n",
    "```C++\n",
    "template<typename E1, typename E2>\n",
    "auto operator+(const E1& e1, const E2& e2) {\n",
    "      return VectorAdd<E1,E2>(e1,e2);\n",
    "  };\n",
    "```\n",
    "<div class=\"left\", style=\"width:60%;height:80%; float:left;\">\n",
    "    Now, expression <code>auto e=x+y</code> creates a new item in the expression tree and keeps constant references to <code>x</code> and <code>y</code>\n",
    "    \n",
    "Expression evaluation for a single index is triggered by <code>e.get(index)</code>\n",
    "</div>\n",
    "\n",
    "<div class=\"right\", style=\"width:40%;height:40%; float:right;\">\n",
    "    <center><img src=\"plots/lecture7-LAexpression2.png\"></center>\n",
    "</div>"
   ]
  },
  {
   "cell_type": "markdown",
   "id": "850dd770",
   "metadata": {
    "slideshow": {
     "slide_type": "subslide"
    }
   },
   "source": [
    "The expression auto <code>e=<mark style=background-color:red;>x</mark>+<mark style=background-color:yellow;>y</mark>+<mark style=background-color:cyan;>z</mark></code> has the type\n",
    "\n",
    "<code>VectorAdd&lt VectorAdd&lt <mark style=background-color:red;>Vector&ltX></mark>, <mark style=background-color:yellow;>Vector&ltY></mark> >, <mark style=background-color:cyan;>Vector&ltZ></mark> ></code>\n",
    "\n",
    "During the assignment of this expression to a vector object `vector<double> v=e` the `get(index)` function is called for each single index. The overall computation takes place in a\n",
    "**single for loop** as if we had written the following code\n",
    "\n",
    "<p><code>for (std::size_t i=0; i&ltx.size(); i++)\n",
    "    v.get(i) = <mark style=background-color:red;>x.get(i)</mark> + <mark style=background-color:yellow;>y.get(i)</mark> + <mark style=background-color:cyan;>z.get(i)</mark>;\n",
    "</code></p>"
   ]
  },
  {
   "cell_type": "markdown",
   "id": "633ffa17",
   "metadata": {
    "slideshow": {
     "slide_type": "subslide"
    }
   },
   "source": [
    "**A word of caution:** Expression templates (ET) are very powerful (for you as a user) but writing an **efficient** ET linear algebra library takes much time and is not trivial\n",
    "\n",
    "ET eliminate multiple for-loops but they do by no means imply parallelism, use of SIMD intrinsics, etcetera\n",
    "\n",
    "A recent trend is to use the ET concept as high-level user- interface and implement all the dirty tricks (inlined assembler code, vector intrinsics, ...) in helper classes"
   ]
  },
  {
   "cell_type": "markdown",
   "id": "02b5f082",
   "metadata": {
    "slideshow": {
     "slide_type": "slide"
    }
   },
   "source": [
    "# Overview of linear algebra expression template libraries\n",
    "[**Armadillo**:](https://arma.sourceforge.net/docs.html) MATLAB-like notation\n",
    "\n",
    "[**ArrayFire:**](https://github.com/arrayfire/arrayfire) broad support on ARM/x86 CPUs and GPUs\n",
    "\n",
    "[**Blaze:**](https://bitbucket.org/blaze-lib/blaze/src/master/) aims for ultimate performance\n",
    "\n",
    "[**Eigen:**](https://eigen.tuxfamily.org/dox/GettingStarted.html) easy usage and broad user community\n",
    "\n",
    "[**IT++:**](https://itpp.sourceforge.net/4.3.1/) grandfather of all ET LA libraries\n",
    "\n",
    "[**MTL4:**](https://cs.brown.edu/people/jwicks/mtl_reference/) distributed HPC + fast linear solvers\n",
    "\n",
    "[**VexCL:**](https://vexcl.readthedocs.io/en/latest/) broad support on CPUs and GPUs\n",
    "\n",
    "[**ViennaCL:**](https://viennacl.sourceforge.net/#:~:text=ViennaCL%20is%20a%20free%20open,(including%20switches%20at%20runtime).) fast linear solvers"
   ]
  },
  {
   "cell_type": "markdown",
   "id": "527006e6",
   "metadata": {
    "slideshow": {
     "slide_type": "slide"
    }
   },
   "source": [
    "# Example: Eigen library\n",
    "```C++\n",
    "#include <Eigen/Dense> \n",
    "using namespace Eigen; \n",
    "int main() {\n",
    "    MatrixXd A(3,3), B(3,3);\n",
    "    VectorXd x(3), y(3), z(3);\n",
    "    A << 1.0, 2.0, 3.0, 4.0, 5.0, 6.0, 7.0, 8.0, 9.0;\n",
    "    B << 0.0, 1.0, 0.0, 0.0, 0.0, 1.0, 1.0, 0.0, 0.0;\n",
    "    x <<-1.0,-2.0,-3.0;\n",
    "    y << 4.0, 5.0, 6.0;\n",
    "    z = A.transpose() * x.array().abs().sqrt().matrix();\n",
    "    std::cout \"z = A^T * sqrt(|x|)\\n\" << z << \"\\n\\n\";\n",
    "  }\n",
    "```"
   ]
  },
  {
   "cell_type": "markdown",
   "id": "88978d14",
   "metadata": {
    "slideshow": {
     "slide_type": "slide"
    }
   },
   "source": [
    "# Smart Pointers\n",
    "Dynamically allocated memory must be deallocated explicitly by the user to prevent memory leaks\n",
    "\n",
    "https://www.online-cpp.com/ueBnpEWSU9\n",
    "```C++\n",
    "{\n",
    "\n",
    "    // Traditional dynamic memory allocation with raw pointer\n",
    "    double* raw_ptr = new double[42];\n",
    "    \n",
    "    // Perform operations on raw_ptr\n",
    "    for (int i = 0; i < 42; ++i)\n",
    "        raw_ptr[i] = i;\n",
    "    \n",
    "    // Explicitly deallocating memory\n",
    "    delete[] raw_ptr;\n",
    "\n",
    "} // raw_ptr goes out of scope but is not destroyed automatically\n",
    "```"
   ]
  },
  {
   "cell_type": "markdown",
   "id": "f368f1a6",
   "metadata": {
    "slideshow": {
     "slide_type": "subslide"
    }
   },
   "source": [
    "```C++\n",
    "#include <memory>\n",
    "\n",
    "{\n",
    "    std::unique_ptr<double> scoped_ptr(new double[42]);\n",
    "    \n",
    "    // Perform operations on the scoped_ptr\n",
    "    for (int i = 0; i < 42; ++i)\n",
    "        scoped_ptr[i] = i;\n",
    "\n",
    "} // scoped_ptr goes out of scope and is destroyed automatically\n",
    "```"
   ]
  },
  {
   "cell_type": "markdown",
   "id": "8f86120d",
   "metadata": {
    "slideshow": {
     "slide_type": "slide"
    }
   },
   "source": [
    "# Smart Pointers – use-case\n",
    "\n",
    "<center><img src=\"plots/lecture6-smart_pointers.png\" width = 90%></center>"
   ]
  },
  {
   "cell_type": "markdown",
   "id": "45926fbf",
   "metadata": {
    "slideshow": {
     "slide_type": "subslide"
    }
   },
   "source": [
    "# Smart Pointers\n",
    "\n",
    "The `unique_ptr` owns and manages its data exclusively, i.e. the data can be owned by only one pointer at a time\n",
    "```C++\n",
    "std::unique_ptr<double> data(new double[42]);\n",
    "std::unique_ptr<double> other(data.release());\n",
    "```\n",
    "\n",
    "One can easily check if managed data is associated\n",
    "```C++\n",
    "if (data)\n",
    "    std::cout << \"Data is associated\\n\";\n",
    "else\n",
    "    std::cout << \"No data is associated\\n\";\n",
    "```\n"
   ]
  },
  {
   "cell_type": "markdown",
   "id": "ef4b88fb",
   "metadata": {
    "slideshow": {
     "slide_type": "subslide"
    }
   },
   "source": [
    "# Smart Pointers\n",
    "Managed data can be updated\n",
    "```C++\n",
    "data.reset(new double[42]);\n",
    "```\n",
    "Managed data can be swapped\n",
    "```C++\n",
    "data.swap(other);\n",
    "```\n",
    "\n",
    "A class with a `unique_ptr` member is not default copiable\n",
    "\n",
    "A `unique_ptr<T>[]` argument may allow more aggressive compiler optimizatiohn in a function than a raw pointer `T*`"
   ]
  },
  {
   "cell_type": "markdown",
   "id": "ab64b60a",
   "metadata": {
    "slideshow": {
     "slide_type": "subslide"
    }
   },
   "source": [
    "# Smart Pointers with reference counting\n",
    "\n",
    "The `shared_ptr` shares ownership of the managed content with other smart pointers\n",
    "```C++\n",
    "std::shared_ptr<double> data(new double[42]);\n",
    "std::shared_ptr<double> other(data);\n",
    "```\n",
    "\n",
    "Content is deallocated when last pointer goes out of scope\n",
    "```C++\n",
    "std::cout << data.use_count(); // -> 2\n",
    "```\n",
    "Example: multiple data sets 'living' on the same mesh\n",
    "```C++\n",
    "class DataSet {\n",
    "     std::shared_ptr<Mesh> mesh;\n",
    "  };\n",
    "```"
   ]
  },
  {
   "cell_type": "markdown",
   "id": "eee4fa90",
   "metadata": {
    "slideshow": {
     "slide_type": "slide"
    }
   },
   "source": [
    "# Bundle references with `std::tie`\n",
    "\n",
    "Example: use tuple comparison for own structure\n",
    "```C++\n",
    "struct S {\n",
    "      int n;\n",
    "      std::string s;\n",
    "      float d;\n",
    "      bool operator<(const S& rhs) const {\n",
    "        // true if any comparison yields true \n",
    "           return   std::tie(n, s, d) <            \n",
    "                    std::tie(rhs.n, rhs.s, rhs.d);\n",
    "    }\n",
    "```"
   ]
  },
  {
   "cell_type": "markdown",
   "id": "bb81131a",
   "metadata": {
    "slideshow": {
     "slide_type": "subslide"
    }
   },
   "source": [
    "# Bundle multiple return values with `std::tie`\n",
    "\n",
    "Inserting an object into `std::set` with C++11/14\n",
    "```C++\n",
    "std::set<S> Set;\n",
    "S value{42, \"Test\", 3.14};\n",
    "std::set<S>::iterator iter;\n",
    "bool inserted;\n",
    "// unpacks return val of insert\n",
    "std::tie(iter, inserted) = Set.insert(value);\n",
    "```"
   ]
  },
  {
   "cell_type": "markdown",
   "id": "97ddca35",
   "metadata": {
    "slideshow": {
     "slide_type": "slide"
    }
   },
   "source": [
    "# Structured bindings (C++17)\n",
    "\n",
    "Inserting an object into `std::set` with C++17\n",
    "```C++\n",
    "std::set<S> Set;\n",
    "S value{42, \"Test\", 3.14};\n",
    "\n",
    "// structured bindings\n",
    "auto [iter, inserted] = Set.insert(value);\n",
    "```\n"
   ]
  },
  {
   "cell_type": "markdown",
   "id": "f8de421c",
   "metadata": {
    "slideshow": {
     "slide_type": "subslide"
    }
   },
   "source": [
    "# Structured bindings (C++17)\n",
    "\n",
    "Retrieving individual elements of an array\n",
    "```C++\n",
    "double Array[3] = { 1.0, 2.0, 3.0 };\n",
    "auto [ a, b, c ] = Array;\n",
    "```\n",
    "\n",
    "Retrieving individual elements of a `std::map`\n",
    "```C++\n",
    "std::map Map;\n",
    "for (const auto & [k,v] : Map)\n",
    "{\n",
    "    // k – key\n",
    "    // v – value \n",
    "}\n",
    "```"
   ]
  },
  {
   "cell_type": "markdown",
   "id": "43034412",
   "metadata": {
    "slideshow": {
     "slide_type": "slide"
    }
   },
   "source": [
    "# Constexpr (C++11)\n",
    "\n",
    "C++11 introduced the <span style=color:red;>constexpr</span> specifier (constant\n",
    "expression), which declares that the value of the function\n",
    "or variable can be evaluated at compile time.\n",
    "```C++\n",
    "constexpr int factorial(int n)\n",
    "{ return n <= 1 ? 1 : (n * factorial(n - 1)); }\n",
    "```\n",
    "\n",
    "Such functions or variables can then be used where only\n",
    "compile-time expressions are allowed\n",
    "```C++\n",
    "Vector<factorial(6)> v;\n",
    "```"
   ]
  },
  {
   "cell_type": "markdown",
   "id": "04a7008e",
   "metadata": {
    "slideshow": {
     "slide_type": "subslide"
    }
   },
   "source": [
    "# Constexpr (C++14)\n",
    "\n",
    "C++14 further allows `constexpr` functions to have <span style=color:red;>local variables</span>, which is not allowed in C++11\n",
    "\n",
    "```C++\n",
    "constexpr int factorial(int n)\n",
    "{\n",
    "      int val = (n <= 1 ? 1 : (n * factorial(n - 1)));\n",
    "      return val; \n",
    "}\n",
    "```"
   ]
  },
  {
   "cell_type": "markdown",
   "id": "3c784047",
   "metadata": {
    "slideshow": {
     "slide_type": "subslide"
    }
   },
   "source": [
    "# If Constexpr (C++17)\n",
    "\n",
    "C++17 introduces <span style=color:red;>if constexpr</span>, which allows to discard branches of an if statement at compile-time based on a\n",
    "`constexpr` condition (no more SFINAE and specialization?).\n",
    "\n",
    "```C++\n",
    "template<int N>\n",
    "constexpr int fibonacci()\n",
    "{\n",
    "   if constexpr (N>=2)\n",
    "      return fibonacci<N-1>() + fibonacci<N-2>();\n",
    "   else\n",
    "      return N;\n",
    "}\n",
    "```"
   ]
  },
  {
   "cell_type": "markdown",
   "id": "4de5712c",
   "metadata": {
    "slideshow": {
     "slide_type": "slide"
    }
   },
   "source": [
    "# Template argument deduction\n",
    "\n",
    "C++11/14: Template arguments can be deduced automatically by the compiler for functions only\n",
    "```C++\n",
    "template <typename A, typename B>\n",
    "auto sum (A a, B b) \n",
    "    -> typename std::common_type<A,B>::type\n",
    "{ return a + b; }\n",
    "\n",
    "auto result1 = sum<double, float>(1.0, 2.0f);\n",
    "auto result2 = sum(1.0, 2.0f);\n",
    "```"
   ]
  },
  {
   "cell_type": "markdown",
   "id": "589e5c52",
   "metadata": {
    "slideshow": {
     "slide_type": "subslide"
    }
   },
   "source": [
    "# Template argument deduction\n",
    "\n",
    "C++11/14: Template argument deduction for classes and\n",
    "structures requires the use of auxiliary maker functions\n",
    "```C++\n",
    "auto t = std::make_tuple(\"Hello\", 42);\n",
    "auto p = std::make_pair (\"Hello\", 42);\n",
    "```\n",
    "C++17 enables automatic template argument deduction directly for classes and structures\n",
    "```C++\n",
    "auto t = std::tuple(\"Hello\", 42);\n",
    "auto p = std::pair(\"Hello\", 42);\n",
    "```"
   ]
  },
  {
   "cell_type": "markdown",
   "id": "fd768151",
   "metadata": {
    "slideshow": {
     "slide_type": "slide"
    }
   },
   "source": [
    "# Fold expressions (C++17)\n",
    "\n",
    "C++11 introduced variadic templates, which often require\n",
    "recursive calls and an overloaded \"termination condition\"\n",
    "\n",
    "```C++\n",
    "template<typename T>\n",
    "auto static sum(T arg)\n",
    "{ return a; }\n",
    "  \n",
    "template<typename T, typename... Ts>\n",
    "auto sum(T arg, Ts... args)\n",
    "{ return arg + sum(args...); }\n",
    "```"
   ]
  },
  {
   "cell_type": "markdown",
   "id": "776e988e",
   "metadata": {
    "slideshow": {
     "slide_type": "subslide"
    }
   },
   "source": [
    "# Fold expressions (C++17)\n",
    "\n",
    "C++17 introduces <span style=color:red;>fold expressions</span>, which reduce (=fold) a\n",
    "parameter pack over a binary operator\n",
    "```C++\n",
    "template<typename... Ts>\n",
    "auto sum(Ts... args)\n",
    "{ return (args + ...); }\n",
    "```\n",
    "\n",
    "Fold expressions can be used in more complex expressions\n",
    "```C++\n",
    "template<typename... Ts>\n",
    "auto expression(Ts... args)\n",
    "{ return (3 * args + 1 + ... + 10); }\n",
    "```"
   ]
  },
  {
   "cell_type": "markdown",
   "id": "d8bb10e2",
   "metadata": {
    "slideshow": {
     "slide_type": "subslide"
    }
   },
   "source": [
    "# Fold expressions (C++17)\n",
    "\n",
    "Associativity of fold expressions\n",
    "```C++\n",
    "return (args + ...); // arg0 + (arg1 + arg2)\n",
    "return (... + args);  // (arg0 + arg1) + arg2\n",
    "```\n",
    "\n",
    "An example where associativity matters\n",
    "```C++\n",
    "return (args - ...); // arg0 - (arg1 - arg2) \n",
    "return (... - args); // (arg0 - arg1) - arg2\n",
    "```"
   ]
  },
  {
   "cell_type": "markdown",
   "id": "48f610ec",
   "metadata": {
    "slideshow": {
     "slide_type": "subslide"
    }
   },
   "source": [
    "# Fold expressions (C++17)\n",
    "\n",
    "Incorrect treatment of empty parameter packs\n",
    "```C++\n",
    "template<typename... Ts>\n",
    "auto sum(Ts... args)\n",
    "  {\n",
    "    return (args + ...);\n",
    "  }\n",
    "```\n",
    "What happens for `sum()`?\n",
    "\n",
    "-> error: fold of empty expansion over sum"
   ]
  },
  {
   "cell_type": "markdown",
   "id": "0b4b876a",
   "metadata": {
    "slideshow": {
     "slide_type": "subslide"
    }
   },
   "source": [
    "# Fold expressions (C++17)\n",
    "\n",
    "Correct treatment of empty parameter packs\n",
    "```C++\n",
    "template<typename... Ts>\n",
    "auto sum(Ts... args)\n",
    "  {\n",
    "    return (0 + ... + args);\n",
    "  }\n",
    "```\n",
    "Note that the 0 must be inside of the expression, i.e. **not**\n",
    "```C++\n",
    "return 0 + (... + args);\n",
    "```"
   ]
  },
  {
   "cell_type": "markdown",
   "id": "437e3516",
   "metadata": {
    "slideshow": {
     "slide_type": "subslide"
    }
   },
   "source": [
    "# Fold expressions (C++17)\n",
    "\n",
    "Print an arbitrary number of arguments\n",
    "```C++\n",
    "template<typename ...Args>\n",
    "void FoldPrint(Args&&... args)\n",
    "{ (std::cout <<  ... <<  args) << std::endl; }\n",
    "```\n",
    "\n",
    "Fold over a comma operator\n",
    "```C++\n",
    "template<typename T, typename... Args>\n",
    "void push_back_vec(std::vector<T>& v, Args&&... args) \n",
    "{ (v.push_back(args), ...); }\n",
    "```"
   ]
  },
  {
   "cell_type": "markdown",
   "id": "26d78bf6",
   "metadata": {
    "slideshow": {
     "slide_type": "slide"
    }
   },
   "source": [
    "# Concepts (C++20)\n",
    "\n",
    "Recall homework assignment\n",
    "```C++\n",
    "template<typename m1, typename m2>\n",
    "struct Measure_add\n",
    "  {\n",
    "     static const int value = m1::value+m2::value;\n",
    "     static const Unit unit = m1::unit;\n",
    "  };\n",
    "```\n",
    "We assume that `m1` and `m2` provide a `value` and `unit` attribute. If another type without these attributes is passed the compiler throws an error."
   ]
  },
  {
   "cell_type": "markdown",
   "id": "f66c98a3",
   "metadata": {
    "slideshow": {
     "slide_type": "subslide"
    }
   },
   "source": [
    "# Concepts (C++20)\n",
    "\n",
    "Manual workaround\n",
    "```C++\n",
    "template<typename m1, typename m2>\n",
    "struct Measure_add; // leave unimplemented\n",
    "\n",
    "template<int v1, Unit u1, int v2, Unit u2>\n",
    "struct Measure_add<Measure<v1, u1>, Measure<v2,u2>>\n",
    "  {\n",
    "     static const int value = v1+v2;\n",
    "     static const Unit unit = u1;\n",
    "  };\n",
    "```"
   ]
  },
  {
   "cell_type": "markdown",
   "id": "96b7c005",
   "metadata": {
    "slideshow": {
     "slide_type": "subslide"
    }
   },
   "source": [
    "# Concepts (C++20)\n",
    "\n",
    "```C++\n",
    "#include <concepts>\n",
    "\n",
    "template<typename T>\n",
    "concept Measurable = requires(){T::value; T::unit;};\n",
    "  \n",
    "template<Measurable m1, Measurable m2>\n",
    "struct Measure_add{...};\n",
    "```"
   ]
  },
  {
   "cell_type": "markdown",
   "id": "7be28872",
   "metadata": {
    "slideshow": {
     "slide_type": "slide"
    }
   },
   "source": [
    "# Happy Holidays!\n",
    "\n",
    "<center>Please bring any questions you have about the projects to the office hour after Christmas!</center>\n",
    "\n",
    "<center><img src=\"plots/lecture6-happy-holiday.png\" width = 200px></center>"
   ]
  },
  {
   "cell_type": "code",
   "execution_count": 8,
   "id": "0191c688",
   "metadata": {
    "tags": []
   },
   "outputs": [
    {
     "name": "stdout",
     "output_type": "stream",
     "text": [
      "         *\n",
      "        ***\n",
      "       *****\n",
      "      *******\n",
      "     *********\n",
      "    ***********\n",
      "   *************\n",
      "  ***************\n",
      " *****************\n",
      "*******************\n",
      "       *****\n",
      "       *****\n",
      "       *****\n",
      "   Happy Holidays!\n"
     ]
    }
   ],
   "source": [
    "#include <iostream>\n",
    "#include <string>\n",
    "\n",
    "int treeheight = 10;\n",
    "int height = 3;\n",
    "for (int i = 1; i <= treeheight; ++i) {\n",
    "        // Print spaces\n",
    "        std::cout << std::string(treeheight - i, ' ');\n",
    "        // Print asterisks for the tree\n",
    "        std::cout << std::string(2 * i - 1, '*');\n",
    "        std::cout << std::endl;\n",
    "}\n",
    "for (int i = 1; i <= height; ++i) {\n",
    "        // Print spaces\n",
    "        std::cout << std::string(treeheight/2+2, ' ');\n",
    "        // Print asterisks for the tree\n",
    "        std::cout << std::string(treeheight/2, '*');\n",
    "        std::cout << std::endl;\n",
    "}\n",
    "std::cout << \"   Happy Holidays!\" << std::endl;"
   ]
  },
  {
   "cell_type": "code",
   "execution_count": null,
   "id": "d44b895c-ca76-445a-ade8-cdd81ab3b076",
   "metadata": {},
   "outputs": [],
   "source": []
  }
 ],
 "metadata": {
  "celltoolbar": "Slideshow",
  "kernelspec": {
   "display_name": "C++17",
   "language": "C++17",
   "name": "xcpp17"
  },
  "language_info": {
   "codemirror_mode": "text/x-c++src",
   "file_extension": ".cpp",
   "mimetype": "text/x-c++src",
   "name": "c++",
   "version": "17"
  },
  "rise": {
   "autolaunch": true,
   "enable_chalkboard": true
  }
 },
 "nbformat": 4,
 "nbformat_minor": 5
}
